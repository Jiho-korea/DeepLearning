{
  "nbformat": 4,
  "nbformat_minor": 0,
  "metadata": {
    "colab": {
      "name": "kaggle#5예제1_천체유형",
      "provenance": [],
      "collapsed_sections": [],
      "authorship_tag": "ABX9TyNjO8YmL8HlZnvYF67NDG51",
      "include_colab_link": true
    },
    "kernelspec": {
      "name": "python3",
      "display_name": "Python 3"
    }
  },
  "cells": [
    {
      "cell_type": "markdown",
      "metadata": {
        "id": "view-in-github",
        "colab_type": "text"
      },
      "source": [
        "<a href=\"https://colab.research.google.com/github/Jiho-korea/DeepLearning/blob/master/kaggle_5%EC%98%88%EC%A0%9C1_%EC%B2%9C%EC%B2%B4%EC%9C%A0%ED%98%95.ipynb\" target=\"_parent\"><img src=\"https://colab.research.google.com/assets/colab-badge.svg\" alt=\"Open In Colab\"/></a>"
      ]
    },
    {
      "cell_type": "code",
      "metadata": {
        "id": "SB0vIfH0objU",
        "colab_type": "code",
        "colab": {
          "base_uri": "https://localhost:8080/",
          "height": 34
        },
        "outputId": "5c2895f9-9d6e-4df4-fb19-7dcf90cfb0ec"
      },
      "source": [
        "from google.colab import drive\n",
        "drive.mount('/gdrive', force_remount=True)"
      ],
      "execution_count": 1,
      "outputs": [
        {
          "output_type": "stream",
          "text": [
            "Mounted at /gdrive\n"
          ],
          "name": "stdout"
        }
      ]
    },
    {
      "cell_type": "code",
      "metadata": {
        "id": "YYkn9L2BmpS4",
        "colab_type": "code",
        "colab": {
          "base_uri": "https://localhost:8080/",
          "height": 917
        },
        "outputId": "a3183150-ceef-4cea-f965-1934bc285e8c"
      },
      "source": [
        "!pip install --upgrade tensorflow==1.15.0"
      ],
      "execution_count": 2,
      "outputs": [
        {
          "output_type": "stream",
          "text": [
            "Collecting tensorflow==1.15.0\n",
            "\u001b[?25l  Downloading https://files.pythonhosted.org/packages/3f/98/5a99af92fb911d7a88a0005ad55005f35b4c1ba8d75fba02df726cd936e6/tensorflow-1.15.0-cp36-cp36m-manylinux2010_x86_64.whl (412.3MB)\n",
            "\u001b[K     |████████████████████████████████| 412.3MB 27kB/s \n",
            "\u001b[?25hRequirement already satisfied, skipping upgrade: protobuf>=3.6.1 in /usr/local/lib/python3.6/dist-packages (from tensorflow==1.15.0) (3.10.0)\n",
            "Requirement already satisfied, skipping upgrade: wrapt>=1.11.1 in /usr/local/lib/python3.6/dist-packages (from tensorflow==1.15.0) (1.12.1)\n",
            "Requirement already satisfied, skipping upgrade: absl-py>=0.7.0 in /usr/local/lib/python3.6/dist-packages (from tensorflow==1.15.0) (0.9.0)\n",
            "Requirement already satisfied, skipping upgrade: wheel>=0.26 in /usr/local/lib/python3.6/dist-packages (from tensorflow==1.15.0) (0.34.2)\n",
            "Requirement already satisfied, skipping upgrade: opt-einsum>=2.3.2 in /usr/local/lib/python3.6/dist-packages (from tensorflow==1.15.0) (3.2.1)\n",
            "Collecting gast==0.2.2\n",
            "  Downloading https://files.pythonhosted.org/packages/4e/35/11749bf99b2d4e3cceb4d55ca22590b0d7c2c62b9de38ac4a4a7f4687421/gast-0.2.2.tar.gz\n",
            "Requirement already satisfied, skipping upgrade: six>=1.10.0 in /usr/local/lib/python3.6/dist-packages (from tensorflow==1.15.0) (1.12.0)\n",
            "Requirement already satisfied, skipping upgrade: google-pasta>=0.1.6 in /usr/local/lib/python3.6/dist-packages (from tensorflow==1.15.0) (0.2.0)\n",
            "Requirement already satisfied, skipping upgrade: numpy<2.0,>=1.16.0 in /usr/local/lib/python3.6/dist-packages (from tensorflow==1.15.0) (1.18.5)\n",
            "Collecting tensorboard<1.16.0,>=1.15.0\n",
            "\u001b[?25l  Downloading https://files.pythonhosted.org/packages/1e/e9/d3d747a97f7188f48aa5eda486907f3b345cd409f0a0850468ba867db246/tensorboard-1.15.0-py3-none-any.whl (3.8MB)\n",
            "\u001b[K     |████████████████████████████████| 3.8MB 34.7MB/s \n",
            "\u001b[?25hRequirement already satisfied, skipping upgrade: termcolor>=1.1.0 in /usr/local/lib/python3.6/dist-packages (from tensorflow==1.15.0) (1.1.0)\n",
            "Requirement already satisfied, skipping upgrade: keras-applications>=1.0.8 in /usr/local/lib/python3.6/dist-packages (from tensorflow==1.15.0) (1.0.8)\n",
            "Requirement already satisfied, skipping upgrade: grpcio>=1.8.6 in /usr/local/lib/python3.6/dist-packages (from tensorflow==1.15.0) (1.30.0)\n",
            "Requirement already satisfied, skipping upgrade: keras-preprocessing>=1.0.5 in /usr/local/lib/python3.6/dist-packages (from tensorflow==1.15.0) (1.1.2)\n",
            "Requirement already satisfied, skipping upgrade: astor>=0.6.0 in /usr/local/lib/python3.6/dist-packages (from tensorflow==1.15.0) (0.8.1)\n",
            "Collecting tensorflow-estimator==1.15.1\n",
            "\u001b[?25l  Downloading https://files.pythonhosted.org/packages/de/62/2ee9cd74c9fa2fa450877847ba560b260f5d0fb70ee0595203082dafcc9d/tensorflow_estimator-1.15.1-py2.py3-none-any.whl (503kB)\n",
            "\u001b[K     |████████████████████████████████| 512kB 43.5MB/s \n",
            "\u001b[?25hRequirement already satisfied, skipping upgrade: setuptools in /usr/local/lib/python3.6/dist-packages (from protobuf>=3.6.1->tensorflow==1.15.0) (47.3.1)\n",
            "Requirement already satisfied, skipping upgrade: markdown>=2.6.8 in /usr/local/lib/python3.6/dist-packages (from tensorboard<1.16.0,>=1.15.0->tensorflow==1.15.0) (3.2.2)\n",
            "Requirement already satisfied, skipping upgrade: werkzeug>=0.11.15 in /usr/local/lib/python3.6/dist-packages (from tensorboard<1.16.0,>=1.15.0->tensorflow==1.15.0) (1.0.1)\n",
            "Requirement already satisfied, skipping upgrade: h5py in /usr/local/lib/python3.6/dist-packages (from keras-applications>=1.0.8->tensorflow==1.15.0) (2.10.0)\n",
            "Requirement already satisfied, skipping upgrade: importlib-metadata; python_version < \"3.8\" in /usr/local/lib/python3.6/dist-packages (from markdown>=2.6.8->tensorboard<1.16.0,>=1.15.0->tensorflow==1.15.0) (1.6.1)\n",
            "Requirement already satisfied, skipping upgrade: zipp>=0.5 in /usr/local/lib/python3.6/dist-packages (from importlib-metadata; python_version < \"3.8\"->markdown>=2.6.8->tensorboard<1.16.0,>=1.15.0->tensorflow==1.15.0) (3.1.0)\n",
            "Building wheels for collected packages: gast\n",
            "  Building wheel for gast (setup.py) ... \u001b[?25l\u001b[?25hdone\n",
            "  Created wheel for gast: filename=gast-0.2.2-cp36-none-any.whl size=7540 sha256=3fcb7cc4fed25dc3fb2a15e331821eff8e1999e0e04287ce9c1b8fb7cd9228a0\n",
            "  Stored in directory: /root/.cache/pip/wheels/5c/2e/7e/a1d4d4fcebe6c381f378ce7743a3ced3699feb89bcfbdadadd\n",
            "Successfully built gast\n",
            "\u001b[31mERROR: tensorflow-probability 0.10.0 has requirement gast>=0.3.2, but you'll have gast 0.2.2 which is incompatible.\u001b[0m\n",
            "Installing collected packages: gast, tensorboard, tensorflow-estimator, tensorflow\n",
            "  Found existing installation: gast 0.3.3\n",
            "    Uninstalling gast-0.3.3:\n",
            "      Successfully uninstalled gast-0.3.3\n",
            "  Found existing installation: tensorboard 2.2.2\n",
            "    Uninstalling tensorboard-2.2.2:\n",
            "      Successfully uninstalled tensorboard-2.2.2\n",
            "  Found existing installation: tensorflow-estimator 2.2.0\n",
            "    Uninstalling tensorflow-estimator-2.2.0:\n",
            "      Successfully uninstalled tensorflow-estimator-2.2.0\n",
            "  Found existing installation: tensorflow 2.2.0\n",
            "    Uninstalling tensorflow-2.2.0:\n",
            "      Successfully uninstalled tensorflow-2.2.0\n",
            "Successfully installed gast-0.2.2 tensorboard-1.15.0 tensorflow-1.15.0 tensorflow-estimator-1.15.1\n"
          ],
          "name": "stdout"
        }
      ]
    },
    {
      "cell_type": "code",
      "metadata": {
        "id": "DWpRnLAjmYgo",
        "colab_type": "code",
        "colab": {}
      },
      "source": [
        "import tensorflow as tf\n",
        "import numpy as np\n",
        "import pandas as pd\n",
        "import matplotlib.pyplot as plt\n",
        "from sklearn.model_selection import train_test_split\n",
        "from sklearn.preprocessing import StandardScaler\n",
        "from sklearn.model_selection import StratifiedKFold\n",
        "from sklearn.preprocessing import OneHotEncoder\n",
        "from sklearn.preprocessing import LabelEncoder"
      ],
      "execution_count": 1,
      "outputs": []
    },
    {
      "cell_type": "code",
      "metadata": {
        "id": "-qAOoLa2n-zE",
        "colab_type": "code",
        "colab": {}
      },
      "source": [
        "tf.set_random_seed(777)"
      ],
      "execution_count": 2,
      "outputs": []
    },
    {
      "cell_type": "code",
      "metadata": {
        "id": "qw3zM1dOoX6h",
        "colab_type": "code",
        "colab": {}
      },
      "source": [
        "# 데이터 확인, 분석을 위해 pandas 를 사용\n",
        "xy_df = pd.read_csv('/gdrive/My Drive/Colab Notebooks/DeepLearningPrac/tensorflowPrac/multinomial/kaggle/천체유형.csv')\n",
        "xy_df = xy_df.dropna(how='all', axis=0)  # 결측치 제거"
      ],
      "execution_count": 3,
      "outputs": []
    },
    {
      "cell_type": "code",
      "metadata": {
        "id": "qVUVqaTosXtJ",
        "colab_type": "code",
        "colab": {
          "base_uri": "https://localhost:8080/",
          "height": 402
        },
        "outputId": "f3f02b3a-60a8-4219-8e9d-f21b80620758"
      },
      "source": [
        "# 천체유형 => 갈색왜성 : 0, 적색왜성 : 1, 백색왜성 : 2, 주계열성 : 3, 초거성 : 4, 극대거성 : 5\n",
        "xy_df.columns = ['온도(K)', '광도(L/Lo)', '반지름(R/Ro)', '절대 등급(Mv)', '색', '스펙트럼형', '천체 유형']  # 칼럼명 한글로 변경\n",
        "xy_df # 데이터프레임 확인"
      ],
      "execution_count": 4,
      "outputs": [
        {
          "output_type": "execute_result",
          "data": {
            "text/html": [
              "<div>\n",
              "<style scoped>\n",
              "    .dataframe tbody tr th:only-of-type {\n",
              "        vertical-align: middle;\n",
              "    }\n",
              "\n",
              "    .dataframe tbody tr th {\n",
              "        vertical-align: top;\n",
              "    }\n",
              "\n",
              "    .dataframe thead th {\n",
              "        text-align: right;\n",
              "    }\n",
              "</style>\n",
              "<table border=\"1\" class=\"dataframe\">\n",
              "  <thead>\n",
              "    <tr style=\"text-align: right;\">\n",
              "      <th></th>\n",
              "      <th>온도(K)</th>\n",
              "      <th>광도(L/Lo)</th>\n",
              "      <th>반지름(R/Ro)</th>\n",
              "      <th>절대 등급(Mv)</th>\n",
              "      <th>색</th>\n",
              "      <th>스펙트럼형</th>\n",
              "      <th>천체 유형</th>\n",
              "    </tr>\n",
              "  </thead>\n",
              "  <tbody>\n",
              "    <tr>\n",
              "      <th>0</th>\n",
              "      <td>3068</td>\n",
              "      <td>0.002400</td>\n",
              "      <td>0.1700</td>\n",
              "      <td>16.12</td>\n",
              "      <td>Red</td>\n",
              "      <td>M</td>\n",
              "      <td>0</td>\n",
              "    </tr>\n",
              "    <tr>\n",
              "      <th>1</th>\n",
              "      <td>3042</td>\n",
              "      <td>0.000500</td>\n",
              "      <td>0.1542</td>\n",
              "      <td>16.60</td>\n",
              "      <td>Red</td>\n",
              "      <td>M</td>\n",
              "      <td>0</td>\n",
              "    </tr>\n",
              "    <tr>\n",
              "      <th>2</th>\n",
              "      <td>2600</td>\n",
              "      <td>0.000300</td>\n",
              "      <td>0.1020</td>\n",
              "      <td>18.70</td>\n",
              "      <td>Red</td>\n",
              "      <td>M</td>\n",
              "      <td>0</td>\n",
              "    </tr>\n",
              "    <tr>\n",
              "      <th>3</th>\n",
              "      <td>2800</td>\n",
              "      <td>0.000200</td>\n",
              "      <td>0.1600</td>\n",
              "      <td>16.65</td>\n",
              "      <td>Red</td>\n",
              "      <td>M</td>\n",
              "      <td>0</td>\n",
              "    </tr>\n",
              "    <tr>\n",
              "      <th>4</th>\n",
              "      <td>1939</td>\n",
              "      <td>0.000138</td>\n",
              "      <td>0.1030</td>\n",
              "      <td>20.06</td>\n",
              "      <td>Red</td>\n",
              "      <td>M</td>\n",
              "      <td>0</td>\n",
              "    </tr>\n",
              "    <tr>\n",
              "      <th>...</th>\n",
              "      <td>...</td>\n",
              "      <td>...</td>\n",
              "      <td>...</td>\n",
              "      <td>...</td>\n",
              "      <td>...</td>\n",
              "      <td>...</td>\n",
              "      <td>...</td>\n",
              "    </tr>\n",
              "    <tr>\n",
              "      <th>235</th>\n",
              "      <td>38940</td>\n",
              "      <td>374830.000000</td>\n",
              "      <td>1356.0000</td>\n",
              "      <td>-9.93</td>\n",
              "      <td>Blue</td>\n",
              "      <td>O</td>\n",
              "      <td>5</td>\n",
              "    </tr>\n",
              "    <tr>\n",
              "      <th>236</th>\n",
              "      <td>30839</td>\n",
              "      <td>834042.000000</td>\n",
              "      <td>1194.0000</td>\n",
              "      <td>-10.63</td>\n",
              "      <td>Blue</td>\n",
              "      <td>O</td>\n",
              "      <td>5</td>\n",
              "    </tr>\n",
              "    <tr>\n",
              "      <th>237</th>\n",
              "      <td>8829</td>\n",
              "      <td>537493.000000</td>\n",
              "      <td>1423.0000</td>\n",
              "      <td>-10.73</td>\n",
              "      <td>White</td>\n",
              "      <td>A</td>\n",
              "      <td>5</td>\n",
              "    </tr>\n",
              "    <tr>\n",
              "      <th>238</th>\n",
              "      <td>9235</td>\n",
              "      <td>404940.000000</td>\n",
              "      <td>1112.0000</td>\n",
              "      <td>-11.23</td>\n",
              "      <td>White</td>\n",
              "      <td>A</td>\n",
              "      <td>5</td>\n",
              "    </tr>\n",
              "    <tr>\n",
              "      <th>239</th>\n",
              "      <td>37882</td>\n",
              "      <td>294903.000000</td>\n",
              "      <td>1783.0000</td>\n",
              "      <td>-7.80</td>\n",
              "      <td>Blue</td>\n",
              "      <td>O</td>\n",
              "      <td>5</td>\n",
              "    </tr>\n",
              "  </tbody>\n",
              "</table>\n",
              "<p>240 rows × 7 columns</p>\n",
              "</div>"
            ],
            "text/plain": [
              "     온도(K)       광도(L/Lo)  반지름(R/Ro)  절대 등급(Mv)      색 스펙트럼형  천체 유형\n",
              "0     3068       0.002400     0.1700      16.12    Red     M      0\n",
              "1     3042       0.000500     0.1542      16.60    Red     M      0\n",
              "2     2600       0.000300     0.1020      18.70    Red     M      0\n",
              "3     2800       0.000200     0.1600      16.65    Red     M      0\n",
              "4     1939       0.000138     0.1030      20.06    Red     M      0\n",
              "..     ...            ...        ...        ...    ...   ...    ...\n",
              "235  38940  374830.000000  1356.0000      -9.93   Blue     O      5\n",
              "236  30839  834042.000000  1194.0000     -10.63   Blue     O      5\n",
              "237   8829  537493.000000  1423.0000     -10.73  White     A      5\n",
              "238   9235  404940.000000  1112.0000     -11.23  White     A      5\n",
              "239  37882  294903.000000  1783.0000      -7.80   Blue     O      5\n",
              "\n",
              "[240 rows x 7 columns]"
            ]
          },
          "metadata": {
            "tags": []
          },
          "execution_count": 4
        }
      ]
    },
    {
      "cell_type": "code",
      "metadata": {
        "id": "3UG_LVYyqZmx",
        "colab_type": "code",
        "colab": {
          "base_uri": "https://localhost:8080/",
          "height": 195
        },
        "outputId": "4fa48fa5-a4c9-43b5-adae-3fc27098613b"
      },
      "source": [
        "pd.DataFrame(xy_df.mean(), columns=[\"평균 값\"])"
      ],
      "execution_count": 5,
      "outputs": [
        {
          "output_type": "execute_result",
          "data": {
            "text/html": [
              "<div>\n",
              "<style scoped>\n",
              "    .dataframe tbody tr th:only-of-type {\n",
              "        vertical-align: middle;\n",
              "    }\n",
              "\n",
              "    .dataframe tbody tr th {\n",
              "        vertical-align: top;\n",
              "    }\n",
              "\n",
              "    .dataframe thead th {\n",
              "        text-align: right;\n",
              "    }\n",
              "</style>\n",
              "<table border=\"1\" class=\"dataframe\">\n",
              "  <thead>\n",
              "    <tr style=\"text-align: right;\">\n",
              "      <th></th>\n",
              "      <th>평균 값</th>\n",
              "    </tr>\n",
              "  </thead>\n",
              "  <tbody>\n",
              "    <tr>\n",
              "      <th>온도(K)</th>\n",
              "      <td>10497.462500</td>\n",
              "    </tr>\n",
              "    <tr>\n",
              "      <th>광도(L/Lo)</th>\n",
              "      <td>107188.361635</td>\n",
              "    </tr>\n",
              "    <tr>\n",
              "      <th>반지름(R/Ro)</th>\n",
              "      <td>237.157781</td>\n",
              "    </tr>\n",
              "    <tr>\n",
              "      <th>절대 등급(Mv)</th>\n",
              "      <td>4.382396</td>\n",
              "    </tr>\n",
              "    <tr>\n",
              "      <th>천체 유형</th>\n",
              "      <td>2.500000</td>\n",
              "    </tr>\n",
              "  </tbody>\n",
              "</table>\n",
              "</div>"
            ],
            "text/plain": [
              "                    평균 값\n",
              "온도(K)       10497.462500\n",
              "광도(L/Lo)   107188.361635\n",
              "반지름(R/Ro)     237.157781\n",
              "절대 등급(Mv)       4.382396\n",
              "천체 유형           2.500000"
            ]
          },
          "metadata": {
            "tags": []
          },
          "execution_count": 5
        }
      ]
    },
    {
      "cell_type": "code",
      "metadata": {
        "id": "HAnbCPoIGJKt",
        "colab_type": "code",
        "colab": {
          "base_uri": "https://localhost:8080/",
          "height": 254
        },
        "outputId": "d95a734c-29a9-46b9-9103-e8f0c1c4541b"
      },
      "source": [
        "pd.DataFrame(xy_df.min(), columns=[\"최솟 값\"])"
      ],
      "execution_count": 6,
      "outputs": [
        {
          "output_type": "execute_result",
          "data": {
            "text/html": [
              "<div>\n",
              "<style scoped>\n",
              "    .dataframe tbody tr th:only-of-type {\n",
              "        vertical-align: middle;\n",
              "    }\n",
              "\n",
              "    .dataframe tbody tr th {\n",
              "        vertical-align: top;\n",
              "    }\n",
              "\n",
              "    .dataframe thead th {\n",
              "        text-align: right;\n",
              "    }\n",
              "</style>\n",
              "<table border=\"1\" class=\"dataframe\">\n",
              "  <thead>\n",
              "    <tr style=\"text-align: right;\">\n",
              "      <th></th>\n",
              "      <th>최솟 값</th>\n",
              "    </tr>\n",
              "  </thead>\n",
              "  <tbody>\n",
              "    <tr>\n",
              "      <th>온도(K)</th>\n",
              "      <td>1939</td>\n",
              "    </tr>\n",
              "    <tr>\n",
              "      <th>광도(L/Lo)</th>\n",
              "      <td>8e-05</td>\n",
              "    </tr>\n",
              "    <tr>\n",
              "      <th>반지름(R/Ro)</th>\n",
              "      <td>0.0084</td>\n",
              "    </tr>\n",
              "    <tr>\n",
              "      <th>절대 등급(Mv)</th>\n",
              "      <td>-11.92</td>\n",
              "    </tr>\n",
              "    <tr>\n",
              "      <th>색</th>\n",
              "      <td>Blue</td>\n",
              "    </tr>\n",
              "    <tr>\n",
              "      <th>스펙트럼형</th>\n",
              "      <td>A</td>\n",
              "    </tr>\n",
              "    <tr>\n",
              "      <th>천체 유형</th>\n",
              "      <td>0</td>\n",
              "    </tr>\n",
              "  </tbody>\n",
              "</table>\n",
              "</div>"
            ],
            "text/plain": [
              "             최솟 값\n",
              "온도(K)        1939\n",
              "광도(L/Lo)    8e-05\n",
              "반지름(R/Ro)  0.0084\n",
              "절대 등급(Mv)  -11.92\n",
              "색            Blue\n",
              "스펙트럼형           A\n",
              "천체 유형           0"
            ]
          },
          "metadata": {
            "tags": []
          },
          "execution_count": 6
        }
      ]
    },
    {
      "cell_type": "code",
      "metadata": {
        "id": "i-u_zJLZGJpn",
        "colab_type": "code",
        "colab": {
          "base_uri": "https://localhost:8080/",
          "height": 254
        },
        "outputId": "e15cf24d-3478-46a5-fc00-330a80662dfc"
      },
      "source": [
        "pd.DataFrame(xy_df.max(), columns=[\"최댓 값\"])"
      ],
      "execution_count": 7,
      "outputs": [
        {
          "output_type": "execute_result",
          "data": {
            "text/html": [
              "<div>\n",
              "<style scoped>\n",
              "    .dataframe tbody tr th:only-of-type {\n",
              "        vertical-align: middle;\n",
              "    }\n",
              "\n",
              "    .dataframe tbody tr th {\n",
              "        vertical-align: top;\n",
              "    }\n",
              "\n",
              "    .dataframe thead th {\n",
              "        text-align: right;\n",
              "    }\n",
              "</style>\n",
              "<table border=\"1\" class=\"dataframe\">\n",
              "  <thead>\n",
              "    <tr style=\"text-align: right;\">\n",
              "      <th></th>\n",
              "      <th>최댓 값</th>\n",
              "    </tr>\n",
              "  </thead>\n",
              "  <tbody>\n",
              "    <tr>\n",
              "      <th>온도(K)</th>\n",
              "      <td>40000</td>\n",
              "    </tr>\n",
              "    <tr>\n",
              "      <th>광도(L/Lo)</th>\n",
              "      <td>849420</td>\n",
              "    </tr>\n",
              "    <tr>\n",
              "      <th>반지름(R/Ro)</th>\n",
              "      <td>1948.5</td>\n",
              "    </tr>\n",
              "    <tr>\n",
              "      <th>절대 등급(Mv)</th>\n",
              "      <td>20.06</td>\n",
              "    </tr>\n",
              "    <tr>\n",
              "      <th>색</th>\n",
              "      <td>yellowish</td>\n",
              "    </tr>\n",
              "    <tr>\n",
              "      <th>스펙트럼형</th>\n",
              "      <td>O</td>\n",
              "    </tr>\n",
              "    <tr>\n",
              "      <th>천체 유형</th>\n",
              "      <td>5</td>\n",
              "    </tr>\n",
              "  </tbody>\n",
              "</table>\n",
              "</div>"
            ],
            "text/plain": [
              "                최댓 값\n",
              "온도(K)          40000\n",
              "광도(L/Lo)      849420\n",
              "반지름(R/Ro)     1948.5\n",
              "절대 등급(Mv)      20.06\n",
              "색          yellowish\n",
              "스펙트럼형              O\n",
              "천체 유형              5"
            ]
          },
          "metadata": {
            "tags": []
          },
          "execution_count": 7
        }
      ]
    },
    {
      "cell_type": "code",
      "metadata": {
        "id": "NgAueHyf_jZ8",
        "colab_type": "code",
        "colab": {}
      },
      "source": [
        "# 레이블 인코딩 과정 (문자열(종류)을 대응하는 정수로 변경)\n",
        "colorLabelEncoder = LabelEncoder()\n",
        "spectralLabelEncoder = LabelEncoder()"
      ],
      "execution_count": 8,
      "outputs": []
    },
    {
      "cell_type": "code",
      "metadata": {
        "id": "Rv2wvSRJ_sE8",
        "colab_type": "code",
        "colab": {
          "base_uri": "https://localhost:8080/",
          "height": 72
        },
        "outputId": "c28150b3-cdf5-4177-91db-79391ddcca4f"
      },
      "source": [
        "xy_df.iloc[:,[4]] = colorLabelEncoder.fit_transform(xy_df.iloc[:,[4]]) # 레이블 인코딩(문자열 레이블->정수)\n",
        "xy_df.iloc[:,[5]] = spectralLabelEncoder.fit_transform(xy_df.iloc[:,[5]]) # 레이블 인코딩(문자열 레이블->정수)"
      ],
      "execution_count": 9,
      "outputs": [
        {
          "output_type": "stream",
          "text": [
            "/usr/local/lib/python3.6/dist-packages/sklearn/preprocessing/_label.py:251: DataConversionWarning: A column-vector y was passed when a 1d array was expected. Please change the shape of y to (n_samples, ), for example using ravel().\n",
            "  y = column_or_1d(y, warn=True)\n"
          ],
          "name": "stderr"
        }
      ]
    },
    {
      "cell_type": "code",
      "metadata": {
        "id": "5-pPQi9O0I9H",
        "colab_type": "code",
        "colab": {
          "base_uri": "https://localhost:8080/",
          "height": 105
        },
        "outputId": "64a8d1c8-9630-4447-c9d0-f9064d9eac59"
      },
      "source": [
        "colorLabelEncoder.classes_"
      ],
      "execution_count": 10,
      "outputs": [
        {
          "output_type": "execute_result",
          "data": {
            "text/plain": [
              "array(['Blue', 'Blue ', 'Blue White', 'Blue white', 'Blue white ',\n",
              "       'Blue-White', 'Blue-white', 'Orange', 'Orange-Red',\n",
              "       'Pale yellow orange', 'Red', 'White', 'White-Yellow', 'Whitish',\n",
              "       'Yellowish', 'Yellowish White', 'white', 'yellow-white',\n",
              "       'yellowish'], dtype=object)"
            ]
          },
          "metadata": {
            "tags": []
          },
          "execution_count": 10
        }
      ]
    },
    {
      "cell_type": "code",
      "metadata": {
        "id": "C-YmTLs45caD",
        "colab_type": "code",
        "colab": {
          "base_uri": "https://localhost:8080/",
          "height": 34
        },
        "outputId": "69384715-0079-4ad2-a362-c3b4f1283b83"
      },
      "source": [
        "spectralLabelEncoder.classes_"
      ],
      "execution_count": 11,
      "outputs": [
        {
          "output_type": "execute_result",
          "data": {
            "text/plain": [
              "array(['A', 'B', 'F', 'G', 'K', 'M', 'O'], dtype=object)"
            ]
          },
          "metadata": {
            "tags": []
          },
          "execution_count": 11
        }
      ]
    },
    {
      "cell_type": "code",
      "metadata": {
        "id": "kIvjBTZYAfJk",
        "colab_type": "code",
        "colab": {
          "base_uri": "https://localhost:8080/",
          "height": 402
        },
        "outputId": "3e70d4be-184c-4765-9605-f9a47a7dd19a"
      },
      "source": [
        "xy_df # 확인"
      ],
      "execution_count": 12,
      "outputs": [
        {
          "output_type": "execute_result",
          "data": {
            "text/html": [
              "<div>\n",
              "<style scoped>\n",
              "    .dataframe tbody tr th:only-of-type {\n",
              "        vertical-align: middle;\n",
              "    }\n",
              "\n",
              "    .dataframe tbody tr th {\n",
              "        vertical-align: top;\n",
              "    }\n",
              "\n",
              "    .dataframe thead th {\n",
              "        text-align: right;\n",
              "    }\n",
              "</style>\n",
              "<table border=\"1\" class=\"dataframe\">\n",
              "  <thead>\n",
              "    <tr style=\"text-align: right;\">\n",
              "      <th></th>\n",
              "      <th>온도(K)</th>\n",
              "      <th>광도(L/Lo)</th>\n",
              "      <th>반지름(R/Ro)</th>\n",
              "      <th>절대 등급(Mv)</th>\n",
              "      <th>색</th>\n",
              "      <th>스펙트럼형</th>\n",
              "      <th>천체 유형</th>\n",
              "    </tr>\n",
              "  </thead>\n",
              "  <tbody>\n",
              "    <tr>\n",
              "      <th>0</th>\n",
              "      <td>3068</td>\n",
              "      <td>0.002400</td>\n",
              "      <td>0.1700</td>\n",
              "      <td>16.12</td>\n",
              "      <td>10</td>\n",
              "      <td>5</td>\n",
              "      <td>0</td>\n",
              "    </tr>\n",
              "    <tr>\n",
              "      <th>1</th>\n",
              "      <td>3042</td>\n",
              "      <td>0.000500</td>\n",
              "      <td>0.1542</td>\n",
              "      <td>16.60</td>\n",
              "      <td>10</td>\n",
              "      <td>5</td>\n",
              "      <td>0</td>\n",
              "    </tr>\n",
              "    <tr>\n",
              "      <th>2</th>\n",
              "      <td>2600</td>\n",
              "      <td>0.000300</td>\n",
              "      <td>0.1020</td>\n",
              "      <td>18.70</td>\n",
              "      <td>10</td>\n",
              "      <td>5</td>\n",
              "      <td>0</td>\n",
              "    </tr>\n",
              "    <tr>\n",
              "      <th>3</th>\n",
              "      <td>2800</td>\n",
              "      <td>0.000200</td>\n",
              "      <td>0.1600</td>\n",
              "      <td>16.65</td>\n",
              "      <td>10</td>\n",
              "      <td>5</td>\n",
              "      <td>0</td>\n",
              "    </tr>\n",
              "    <tr>\n",
              "      <th>4</th>\n",
              "      <td>1939</td>\n",
              "      <td>0.000138</td>\n",
              "      <td>0.1030</td>\n",
              "      <td>20.06</td>\n",
              "      <td>10</td>\n",
              "      <td>5</td>\n",
              "      <td>0</td>\n",
              "    </tr>\n",
              "    <tr>\n",
              "      <th>...</th>\n",
              "      <td>...</td>\n",
              "      <td>...</td>\n",
              "      <td>...</td>\n",
              "      <td>...</td>\n",
              "      <td>...</td>\n",
              "      <td>...</td>\n",
              "      <td>...</td>\n",
              "    </tr>\n",
              "    <tr>\n",
              "      <th>235</th>\n",
              "      <td>38940</td>\n",
              "      <td>374830.000000</td>\n",
              "      <td>1356.0000</td>\n",
              "      <td>-9.93</td>\n",
              "      <td>0</td>\n",
              "      <td>6</td>\n",
              "      <td>5</td>\n",
              "    </tr>\n",
              "    <tr>\n",
              "      <th>236</th>\n",
              "      <td>30839</td>\n",
              "      <td>834042.000000</td>\n",
              "      <td>1194.0000</td>\n",
              "      <td>-10.63</td>\n",
              "      <td>0</td>\n",
              "      <td>6</td>\n",
              "      <td>5</td>\n",
              "    </tr>\n",
              "    <tr>\n",
              "      <th>237</th>\n",
              "      <td>8829</td>\n",
              "      <td>537493.000000</td>\n",
              "      <td>1423.0000</td>\n",
              "      <td>-10.73</td>\n",
              "      <td>11</td>\n",
              "      <td>0</td>\n",
              "      <td>5</td>\n",
              "    </tr>\n",
              "    <tr>\n",
              "      <th>238</th>\n",
              "      <td>9235</td>\n",
              "      <td>404940.000000</td>\n",
              "      <td>1112.0000</td>\n",
              "      <td>-11.23</td>\n",
              "      <td>11</td>\n",
              "      <td>0</td>\n",
              "      <td>5</td>\n",
              "    </tr>\n",
              "    <tr>\n",
              "      <th>239</th>\n",
              "      <td>37882</td>\n",
              "      <td>294903.000000</td>\n",
              "      <td>1783.0000</td>\n",
              "      <td>-7.80</td>\n",
              "      <td>0</td>\n",
              "      <td>6</td>\n",
              "      <td>5</td>\n",
              "    </tr>\n",
              "  </tbody>\n",
              "</table>\n",
              "<p>240 rows × 7 columns</p>\n",
              "</div>"
            ],
            "text/plain": [
              "     온도(K)       광도(L/Lo)  반지름(R/Ro)  절대 등급(Mv)   색  스펙트럼형  천체 유형\n",
              "0     3068       0.002400     0.1700      16.12  10      5      0\n",
              "1     3042       0.000500     0.1542      16.60  10      5      0\n",
              "2     2600       0.000300     0.1020      18.70  10      5      0\n",
              "3     2800       0.000200     0.1600      16.65  10      5      0\n",
              "4     1939       0.000138     0.1030      20.06  10      5      0\n",
              "..     ...            ...        ...        ...  ..    ...    ...\n",
              "235  38940  374830.000000  1356.0000      -9.93   0      6      5\n",
              "236  30839  834042.000000  1194.0000     -10.63   0      6      5\n",
              "237   8829  537493.000000  1423.0000     -10.73  11      0      5\n",
              "238   9235  404940.000000  1112.0000     -11.23  11      0      5\n",
              "239  37882  294903.000000  1783.0000      -7.80   0      6      5\n",
              "\n",
              "[240 rows x 7 columns]"
            ]
          },
          "metadata": {
            "tags": []
          },
          "execution_count": 12
        }
      ]
    },
    {
      "cell_type": "code",
      "metadata": {
        "id": "D_hC1k55tKG1",
        "colab_type": "code",
        "colab": {}
      },
      "source": [
        "y_data = xy_df.iloc[:,-1].values.reshape(-1,1)  # 레이블 데이터(종류)를 numpy로 추출"
      ],
      "execution_count": 13,
      "outputs": []
    },
    {
      "cell_type": "code",
      "metadata": {
        "id": "8mXSOydou10P",
        "colab_type": "code",
        "colab": {}
      },
      "source": [
        "x_data = xy_df.iloc[:,:-1].values  # 피쳐데이터를 numpy로 추출"
      ],
      "execution_count": 14,
      "outputs": []
    },
    {
      "cell_type": "code",
      "metadata": {
        "id": "WZo_o7lFup5j",
        "colab_type": "code",
        "colab": {
          "base_uri": "https://localhost:8080/",
          "height": 158
        },
        "outputId": "861cb456-4f8e-4c3a-a169-4aba9c037f0a"
      },
      "source": [
        "print(y_data.shape)\n",
        "print(y_data[:7]) #레이블 확인"
      ],
      "execution_count": 15,
      "outputs": [
        {
          "output_type": "stream",
          "text": [
            "(240, 1)\n",
            "[[0]\n",
            " [0]\n",
            " [0]\n",
            " [0]\n",
            " [0]\n",
            " [0]\n",
            " [0]]\n"
          ],
          "name": "stdout"
        }
      ]
    },
    {
      "cell_type": "code",
      "metadata": {
        "id": "rNVOT2slwIEq",
        "colab_type": "code",
        "colab": {
          "base_uri": "https://localhost:8080/",
          "height": 158
        },
        "outputId": "8b4c1c74-f138-4600-dc5c-550324f834e1"
      },
      "source": [
        "print(x_data.shape)\n",
        "print(x_data[:7,:]) # 피쳐 확인"
      ],
      "execution_count": 16,
      "outputs": [
        {
          "output_type": "stream",
          "text": [
            "(240, 6)\n",
            "[[3.068e+03 2.400e-03 1.700e-01 1.612e+01 1.000e+01 5.000e+00]\n",
            " [3.042e+03 5.000e-04 1.542e-01 1.660e+01 1.000e+01 5.000e+00]\n",
            " [2.600e+03 3.000e-04 1.020e-01 1.870e+01 1.000e+01 5.000e+00]\n",
            " [2.800e+03 2.000e-04 1.600e-01 1.665e+01 1.000e+01 5.000e+00]\n",
            " [1.939e+03 1.380e-04 1.030e-01 2.006e+01 1.000e+01 5.000e+00]\n",
            " [2.840e+03 6.500e-04 1.100e-01 1.698e+01 1.000e+01 5.000e+00]\n",
            " [2.637e+03 7.300e-04 1.270e-01 1.722e+01 1.000e+01 5.000e+00]]\n"
          ],
          "name": "stdout"
        }
      ]
    },
    {
      "cell_type": "code",
      "metadata": {
        "id": "awbOUtssLrXz",
        "colab_type": "code",
        "colab": {
          "base_uri": "https://localhost:8080/",
          "height": 34
        },
        "outputId": "66ebf345-b460-4442-b337-5d19617409da"
      },
      "source": [
        "np.unique(y_data, return_counts=True)"
      ],
      "execution_count": 17,
      "outputs": [
        {
          "output_type": "execute_result",
          "data": {
            "text/plain": [
              "(array([0, 1, 2, 3, 4, 5]), array([40, 40, 40, 40, 40, 40]))"
            ]
          },
          "metadata": {
            "tags": []
          },
          "execution_count": 17
        }
      ]
    },
    {
      "cell_type": "code",
      "metadata": {
        "id": "VLMhZjhywTrI",
        "colab_type": "code",
        "colab": {}
      },
      "source": [
        "# 테스트세트를 분리\n",
        "x_train, x_test, y_train, y_test = train_test_split(x_data, y_data, test_size=0.3, stratify=y_data, random_state=777) # 전체 데이터중 30%"
      ],
      "execution_count": 18,
      "outputs": []
    },
    {
      "cell_type": "code",
      "metadata": {
        "id": "8pzqSWQOL1Ub",
        "colab_type": "code",
        "colab": {
          "base_uri": "https://localhost:8080/",
          "height": 34
        },
        "outputId": "442e2eda-1623-4b88-b545-bae64ff2f090"
      },
      "source": [
        "np.unique(y_train, return_counts=True)"
      ],
      "execution_count": 19,
      "outputs": [
        {
          "output_type": "execute_result",
          "data": {
            "text/plain": [
              "(array([0, 1, 2, 3, 4, 5]), array([28, 28, 28, 28, 28, 28]))"
            ]
          },
          "metadata": {
            "tags": []
          },
          "execution_count": 19
        }
      ]
    },
    {
      "cell_type": "code",
      "metadata": {
        "id": "C1rA7T03Dgpv",
        "colab_type": "code",
        "colab": {
          "base_uri": "https://localhost:8080/",
          "height": 52
        },
        "outputId": "0ad61e9d-491e-448f-d4f0-ae726d0f745a"
      },
      "source": [
        "print(\"학습용 \",x_train.shape, \"\\t\", y_train.shape) # 학습용 피쳐, 레이블 데이터 \n",
        "print(\"테스트용 \",x_test.shape, \"\\t\", y_test.shape) # 테스트용 피쳐, 레이블 데이터"
      ],
      "execution_count": 20,
      "outputs": [
        {
          "output_type": "stream",
          "text": [
            "학습용  (168, 6) \t (168, 1)\n",
            "테스트용  (72, 6) \t (72, 1)\n"
          ],
          "name": "stdout"
        }
      ]
    },
    {
      "cell_type": "code",
      "metadata": {
        "id": "34ktK3ffGUCV",
        "colab_type": "code",
        "colab": {}
      },
      "source": [
        "scaler = StandardScaler()"
      ],
      "execution_count": 21,
      "outputs": []
    },
    {
      "cell_type": "code",
      "metadata": {
        "id": "qZe62WTwr7Wn",
        "colab_type": "code",
        "colab": {}
      },
      "source": [
        "nb_classes = 6 # 분류할 클래스의 개수"
      ],
      "execution_count": 22,
      "outputs": []
    },
    {
      "cell_type": "code",
      "metadata": {
        "id": "F1WpyU7LJGrh",
        "colab_type": "code",
        "colab": {}
      },
      "source": [
        "# 텐서플로우 그래프 그리기\n",
        "num_x = x_data.shape[1]\n",
        "X = tf.placeholder(tf.float32, shape=[None, num_x]) \n",
        "Y = tf.placeholder(tf.int32, shape=[None, 1])\n",
        "W = tf.Variable(tf.random.normal([num_x , nb_classes]), name='weight') \n",
        "b = tf.Variable(tf.random.normal([nb_classes]), name='bias')"
      ],
      "execution_count": 23,
      "outputs": []
    },
    {
      "cell_type": "code",
      "metadata": {
        "id": "GC96MeWuBVfW",
        "colab_type": "code",
        "colab": {}
      },
      "source": [
        "Y_one_hot = tf.one_hot(Y, nb_classes)\n",
        "Y_one_hot = tf.reshape(Y_one_hot, [-1, nb_classes])"
      ],
      "execution_count": 24,
      "outputs": []
    },
    {
      "cell_type": "code",
      "metadata": {
        "id": "i-5-BV1iLjf8",
        "colab_type": "code",
        "colab": {}
      },
      "source": [
        "#softmax 는 벡터 그대로 유지 시킨 상태에서 확률만 표시해 줌 \n",
        "logits = tf.matmul(X,W) + b\n",
        "hypothesis = tf.nn.softmax(logits)"
      ],
      "execution_count": 25,
      "outputs": []
    },
    {
      "cell_type": "code",
      "metadata": {
        "id": "TQpuIqHHLm_q",
        "colab_type": "code",
        "colab": {
          "base_uri": "https://localhost:8080/",
          "height": 158
        },
        "outputId": "5a733bd3-021f-49a3-bbd6-57238fdd5bda"
      },
      "source": [
        "cost_i = tf.nn.softmax_cross_entropy_with_logits(logits=logits, labels=Y_one_hot)"
      ],
      "execution_count": 26,
      "outputs": [
        {
          "output_type": "stream",
          "text": [
            "WARNING:tensorflow:From <ipython-input-26-33151fcd5940>:1: softmax_cross_entropy_with_logits (from tensorflow.python.ops.nn_ops) is deprecated and will be removed in a future version.\n",
            "Instructions for updating:\n",
            "\n",
            "Future major versions of TensorFlow will allow gradients to flow\n",
            "into the labels input on backprop by default.\n",
            "\n",
            "See `tf.nn.softmax_cross_entropy_with_logits_v2`.\n",
            "\n"
          ],
          "name": "stdout"
        }
      ]
    },
    {
      "cell_type": "code",
      "metadata": {
        "id": "VuWTa3G3B39r",
        "colab_type": "code",
        "colab": {}
      },
      "source": [
        "cost = tf.reduce_mean(cost_i)"
      ],
      "execution_count": 27,
      "outputs": []
    },
    {
      "cell_type": "code",
      "metadata": {
        "id": "-DcXkwHMMtNJ",
        "colab_type": "code",
        "colab": {}
      },
      "source": [
        "train = tf.train.GradientDescentOptimizer(learning_rate=1e-2).minimize(cost)"
      ],
      "execution_count": 28,
      "outputs": []
    },
    {
      "cell_type": "code",
      "metadata": {
        "id": "wOW6RFgFWttw",
        "colab_type": "code",
        "colab": {}
      },
      "source": [
        "prediction = tf.argmax(hypothesis, 1)"
      ],
      "execution_count": 29,
      "outputs": []
    },
    {
      "cell_type": "code",
      "metadata": {
        "id": "N5qYoFTGCExC",
        "colab_type": "code",
        "colab": {}
      },
      "source": [
        "correct_prediction = tf.equal(prediction, tf.argmax(Y_one_hot, 1))"
      ],
      "execution_count": 30,
      "outputs": []
    },
    {
      "cell_type": "code",
      "metadata": {
        "id": "ecp-EG3XWuFw",
        "colab_type": "code",
        "colab": {}
      },
      "source": [
        "accuracy = tf.reduce_mean(tf.cast(correct_prediction, tf.float32))"
      ],
      "execution_count": 31,
      "outputs": []
    },
    {
      "cell_type": "code",
      "metadata": {
        "id": "yI8S6FaiMRl7",
        "colab_type": "code",
        "colab": {}
      },
      "source": [
        "sess = tf.Session()"
      ],
      "execution_count": 32,
      "outputs": []
    },
    {
      "cell_type": "code",
      "metadata": {
        "id": "Y6DamJxYMTMC",
        "colab_type": "code",
        "colab": {}
      },
      "source": [
        "sess.run(tf.global_variables_initializer())"
      ],
      "execution_count": 33,
      "outputs": []
    },
    {
      "cell_type": "code",
      "metadata": {
        "id": "hCd2LhbXM-ti",
        "colab_type": "code",
        "colab": {}
      },
      "source": [
        "w_history = [] # 변화하는 가중치 행렬을 담기위한 리스트\n",
        "cost_list = [] # 감소하는 cost를 담기위한 리스트"
      ],
      "execution_count": 34,
      "outputs": []
    },
    {
      "cell_type": "code",
      "metadata": {
        "id": "knqz78V4JH1-",
        "colab_type": "code",
        "colab": {}
      },
      "source": [
        "n_fold = 4 # 4개의 폴드\n",
        "skf = StratifiedKFold(n_splits=n_fold) \n",
        "cv_accuracy = [] # 폴드세트별 정확도를 저장할 리스트"
      ],
      "execution_count": 35,
      "outputs": []
    },
    {
      "cell_type": "code",
      "metadata": {
        "id": "_2c4GtvAMVW_",
        "colab_type": "code",
        "colab": {
          "base_uri": "https://localhost:8080/",
          "height": 914
        },
        "outputId": "e935b9cd-209a-4241-85c0-754fe6d9d9ad"
      },
      "source": [
        "epochs = 10001\n",
        "  \n",
        "for step in range(epochs):\n",
        "  fold_cost = 0\n",
        "  fold_accuracy = 0\n",
        "  for train_index, test_index in skf.split(x_train, y_train):\n",
        "    train_random_index = np.random.permutation(train_index)\n",
        "    test_random_index = np.random.permutation(test_index)\n",
        "\n",
        "     # 학습폴드, 검증폴드 분리(피쳐, 레이블 별)\n",
        "    train_feature_fold, val_feature_fold = x_train[train_random_index], x_train[test_random_index]\n",
        "    train_label_fold, val_label_fold = y_train[train_random_index], y_train[test_random_index]\n",
        "\n",
        "    # 학습폴드를 기준으로 표준화\n",
        "    scaler.fit(train_feature_fold)\n",
        "    \n",
        "    # 학습폴드를 기준으로 학습폴드, 검증폴드를 표준화\n",
        "    train_feature_fold_scaled = scaler.transform(train_feature_fold) \n",
        "    val_feature_fold_scaled = scaler.transform(val_feature_fold) \n",
        "\n",
        "    # 학습폴드로 학습 \n",
        "    cost_val, W_all, _ = sess.run([cost, W, train], feed_dict={X:train_feature_fold_scaled, Y:train_label_fold})\n",
        "\n",
        "    fold_cost += cost_val\n",
        "    w_history.append(W_all.copy())  \n",
        "\n",
        "    # 폴드세트별 Accuracy 저장 \n",
        "    fold_accuracy += sess.run(accuracy, feed_dict={X:val_feature_fold_scaled, Y:val_label_fold})\n",
        "\n",
        "\n",
        "  cv_accuracy.append(fold_accuracy/n_fold) # epoch 별 검증폴드의 평균 Accuracy를 저장한다\n",
        "  cost_list.append(fold_cost/n_fold) # epoch 별 학습폴드의 평균 cost를 저장한다\n",
        "\n",
        "  if step % 200 == 0:\n",
        "    print(\"step=\",step,\"\\t cost=\", fold_cost/n_fold, \"\\t accuracy=\",str(fold_accuracy/n_fold*100)[:5], \"%\")"
      ],
      "execution_count": 36,
      "outputs": [
        {
          "output_type": "stream",
          "text": [
            "step= 0 \t cost= 2.765995144844055 \t accuracy= 10.71 %\n",
            "step= 200 \t cost= 0.6635154038667679 \t accuracy= 73.21 %\n",
            "step= 400 \t cost= 0.4776909202337265 \t accuracy= 82.14 %\n",
            "step= 600 \t cost= 0.40740320086479187 \t accuracy= 88.69 %\n",
            "step= 800 \t cost= 0.36514168977737427 \t accuracy= 91.07 %\n",
            "step= 1000 \t cost= 0.3348827287554741 \t accuracy= 92.85 %\n",
            "step= 1200 \t cost= 0.3113245442509651 \t accuracy= 92.85 %\n",
            "step= 1400 \t cost= 0.29211635142564774 \t accuracy= 94.64 %\n",
            "step= 1600 \t cost= 0.2760024294257164 \t accuracy= 94.64 %\n",
            "step= 1800 \t cost= 0.26221879571676254 \t accuracy= 94.64 %\n",
            "step= 2000 \t cost= 0.25025658309459686 \t accuracy= 94.64 %\n",
            "step= 2200 \t cost= 0.2397543601691723 \t accuracy= 95.83 %\n",
            "step= 2400 \t cost= 0.2304437831044197 \t accuracy= 96.42 %\n",
            "step= 2600 \t cost= 0.2221195548772812 \t accuracy= 97.02 %\n",
            "step= 2800 \t cost= 0.2146213948726654 \t accuracy= 97.02 %\n",
            "step= 3000 \t cost= 0.20782195031642914 \t accuracy= 97.02 %\n",
            "step= 3200 \t cost= 0.20161907002329826 \t accuracy= 97.02 %\n",
            "step= 3400 \t cost= 0.19592981785535812 \t accuracy= 97.02 %\n",
            "step= 3600 \t cost= 0.19068623334169388 \t accuracy= 97.02 %\n",
            "step= 3800 \t cost= 0.18583224713802338 \t accuracy= 97.61 %\n",
            "step= 4000 \t cost= 0.1813211552798748 \t accuracy= 97.61 %\n",
            "step= 4200 \t cost= 0.1771136038005352 \t accuracy= 98.21 %\n",
            "step= 4400 \t cost= 0.17317654192447662 \t accuracy= 98.21 %\n",
            "step= 4600 \t cost= 0.16948149353265762 \t accuracy= 98.21 %\n",
            "step= 4800 \t cost= 0.1660042256116867 \t accuracy= 98.21 %\n",
            "step= 5000 \t cost= 0.16272404417395592 \t accuracy= 98.21 %\n",
            "step= 5200 \t cost= 0.1596226654946804 \t accuracy= 98.21 %\n",
            "step= 5400 \t cost= 0.15668410435318947 \t accuracy= 98.21 %\n",
            "step= 5600 \t cost= 0.15389442071318626 \t accuracy= 98.21 %\n",
            "step= 5800 \t cost= 0.1512414924800396 \t accuracy= 98.21 %\n",
            "step= 6000 \t cost= 0.14871422201395035 \t accuracy= 98.21 %\n",
            "step= 6200 \t cost= 0.14630309119820595 \t accuracy= 98.21 %\n",
            "step= 6400 \t cost= 0.14399918913841248 \t accuracy= 98.21 %\n",
            "step= 6600 \t cost= 0.14179502800107002 \t accuracy= 98.21 %\n",
            "step= 6800 \t cost= 0.13968345895409584 \t accuracy= 98.21 %\n",
            "step= 7000 \t cost= 0.1376580186188221 \t accuracy= 98.21 %\n",
            "step= 7200 \t cost= 0.1357131339609623 \t accuracy= 98.21 %\n",
            "step= 7400 \t cost= 0.13384363800287247 \t accuracy= 98.21 %\n",
            "step= 7600 \t cost= 0.13204468041658401 \t accuracy= 98.21 %\n",
            "step= 7800 \t cost= 0.1303120218217373 \t accuracy= 98.21 %\n",
            "step= 8000 \t cost= 0.12864157743752003 \t accuracy= 98.21 %\n",
            "step= 8200 \t cost= 0.1270298734307289 \t accuracy= 98.21 %\n",
            "step= 8400 \t cost= 0.1254734192043543 \t accuracy= 98.21 %\n",
            "step= 8600 \t cost= 0.12396910600364208 \t accuracy= 98.21 %\n",
            "step= 8800 \t cost= 0.12251423858106136 \t accuracy= 98.21 %\n",
            "step= 9000 \t cost= 0.12110600993037224 \t accuracy= 98.21 %\n",
            "step= 9200 \t cost= 0.11974207498133183 \t accuracy= 98.80 %\n",
            "step= 9400 \t cost= 0.11842016316950321 \t accuracy= 98.80 %\n",
            "step= 9600 \t cost= 0.1171382237225771 \t accuracy= 98.80 %\n",
            "step= 9800 \t cost= 0.11589410156011581 \t accuracy= 98.80 %\n",
            "step= 10000 \t cost= 0.11468606814742088 \t accuracy= 98.80 %\n"
          ],
          "name": "stdout"
        }
      ]
    },
    {
      "cell_type": "code",
      "metadata": {
        "id": "7MGrAtdBMqy-",
        "colab_type": "code",
        "colab": {
          "base_uri": "https://localhost:8080/",
          "height": 279
        },
        "outputId": "eb4798b9-5784-48f0-ea83-4ab693cd7c2a"
      },
      "source": [
        "plt.plot(cost_list)\n",
        "plt.xlabel(\"epochs\")\n",
        "plt.ylabel(\"cost\")\n",
        "plt.show()"
      ],
      "execution_count": 37,
      "outputs": [
        {
          "output_type": "display_data",
          "data": {
            "image/png": "[encoded data removed]",
            "text/plain": [
              "<Figure size 432x288 with 1 Axes>"
            ]
          },
          "metadata": {
            "tags": [],
            "needs_background": "light"
          }
        }
      ]
    },
    {
      "cell_type": "code",
      "metadata": {
        "id": "msfRuarFXYs3",
        "colab_type": "code",
        "colab": {
          "base_uri": "https://localhost:8080/",
          "height": 279
        },
        "outputId": "823a0689-d655-4429-cd3e-f9e39395dcfa"
      },
      "source": [
        "plt.plot(cv_accuracy)\n",
        "plt.xlabel(\"epochs\")\n",
        "plt.ylabel(\"cv_accuracy\")\n",
        "plt.show()"
      ],
      "execution_count": 38,
      "outputs": [
        {
          "output_type": "display_data",
          "data": {
            "image/png": "[encoded data removed]",
            "text/plain": [
              "<Figure size 432x288 with 1 Axes>"
            ]
          },
          "metadata": {
            "tags": [],
            "needs_background": "light"
          }
        }
      ]
    },
    {
      "cell_type": "code",
      "metadata": {
        "id": "oRGbJhrO-1_p",
        "colab_type": "code",
        "colab": {
          "base_uri": "https://localhost:8080/",
          "height": 279
        },
        "outputId": "383bb1b3-d090-491a-8850-38d5d58ec04c"
      },
      "source": [
        "# 가중치 업데이트 과정 그래프 (꽃받침 길이, 꽃받침 너비)\n",
        "w0 = []\n",
        "w1 = []\n",
        "for w in  w_history:\n",
        "  w0.append(w[0])\n",
        "  w1.append(w[1])\n",
        "plt.plot(w0, w1)\n",
        "plt.plot(w0[-1], w1[-1],'bo')\n",
        "plt.xlabel('w[0]')\n",
        "plt.ylabel('w[1]')\n",
        "plt.show()"
      ],
      "execution_count": 39,
      "outputs": [
        {
          "output_type": "display_data",
          "data": {
            "image/png": "[encoded data removed]",
            "text/plain": [
              "<Figure size 432x288 with 1 Axes>"
            ]
          },
          "metadata": {
            "tags": [],
            "needs_background": "light"
          }
        }
      ]
    },
    {
      "cell_type": "code",
      "metadata": {
        "id": "8C_i1H-xQL3w",
        "colab_type": "code",
        "colab": {
          "base_uri": "https://localhost:8080/",
          "height": 34
        },
        "outputId": "c9813be3-1439-4ab6-8ee9-09d957bfb6b6"
      },
      "source": [
        "# 테스트 세트에 대한 정확도 구하기\n",
        "x_test_scaled = scaler.transform(x_test)\n",
        "a = sess.run(accuracy, feed_dict={X:x_test_scaled, Y:y_test})\n",
        "print(\"테스트세트 정확도 : \", str(a*100)[:5], \"%\", sep=\"\")"
      ],
      "execution_count": 40,
      "outputs": [
        {
          "output_type": "stream",
          "text": [
            "테스트세트 정확도 : 97.22%\n"
          ],
          "name": "stdout"
        }
      ]
    },
    {
      "cell_type": "code",
      "metadata": {
        "id": "le2IpBetVxYq",
        "colab_type": "code",
        "colab": {}
      },
      "source": [
        "# 임의의 샘플데이터 5개로 예측값 구해보기\n",
        "X_test_5 = np.array([[10497, 107188, 237, 4, 5, 3], \n",
        "                     [1739, 1, 10, -8, 1, 0],\n",
        "                     [40000, 849420, 1950, 20, 13, 0],      \n",
        "                     [30000, 500000, 1000, 12, 10, 2],  \n",
        "                     [35000, 250000, 1500, 15, 7, 4]]) \n",
        "X_test_5_scaled = scaler.transform(X_test_5)"
      ],
      "execution_count": 41,
      "outputs": []
    },
    {
      "cell_type": "code",
      "metadata": {
        "id": "JJ3tLX9OssoR",
        "colab_type": "code",
        "colab": {
          "base_uri": "https://localhost:8080/",
          "height": 34
        },
        "outputId": "18c3f4e7-f28c-4dfd-8e3e-6bebc4e74acb"
      },
      "source": [
        "print(sess.run(prediction, feed_dict={X:X_test_5_scaled}))"
      ],
      "execution_count": 42,
      "outputs": [
        {
          "output_type": "stream",
          "text": [
            "[4 4 5 5 5]\n"
          ],
          "name": "stdout"
        }
      ]
    },
    {
      "cell_type": "code",
      "metadata": {
        "id": "3ZouWe-yQFjA",
        "colab_type": "code",
        "colab": {
          "base_uri": "https://localhost:8080/",
          "height": 87
        },
        "outputId": "2897b75d-9fcb-448d-d5fa-5a3c9d887fe9"
      },
      "source": [
        "try:\n",
        "  x_input = input(\"입력(온도(K), 광도(L/Lo), 반지름(R/Ro), 절대 등급(Mv), 색, 스펙트럼형): \")\n",
        "  if x_input == 'x':\n",
        "    raise NotImplementedError\n",
        "  x_input_strip =[ float(i.strip()) for i in x_input.split(\",\")]\n",
        "  print(\"온도\\t광도\\t반지름\\t절대 등급\\t색\\t스펙트럼형\")\n",
        "  for i in x_input_strip:\n",
        "    print(i,end=\"\\t\\t\")\n",
        "  print()\n",
        "  x_input_test = np.array([x_input_strip]).astype('float32')\n",
        "\n",
        "  x_input_test_scaled = scaler.transform(x_input_test)\n",
        "\n",
        "  print(\"예상 결과 : \", (sess.run(prediction, feed_dict={X:x_input_test_scaled}))) \n",
        "  \n",
        "except ValueError:\n",
        "  print(\"입력을 다시 확인해주세요\")\n",
        "except NotImplementedError:\n",
        "  print(\"종료\")"
      ],
      "execution_count": 43,
      "outputs": [
        {
          "output_type": "stream",
          "text": [
            "입력(온도(K), 광도(L/Lo), 반지름(R/Ro), 절대 등급(Mv), 색, 스펙트럼형): 10497, 107188, 237, 4, 5, 3\n",
            "온도\t광도\t반지름\t절대 등급\t색\t스펙트럼형\n",
            "10497.0\t\t107188.0\t\t237.0\t\t4.0\t\t5.0\t\t3.0\t\t\n",
            "예상 결과 :  [4]\n"
          ],
          "name": "stdout"
        }
      ]
    },
    {
      "cell_type": "code",
      "metadata": {
        "id": "Idmngbn5BbRv",
        "colab_type": "code",
        "colab": {}
      },
      "source": [
        "result_df = pd.DataFrame(X_test_5, columns=['온도(K)', '광도(L/Lo)', '반지름(R/Ro)', '절대 등급(Mv)', '색', '스펙트럼형'])"
      ],
      "execution_count": 44,
      "outputs": []
    },
    {
      "cell_type": "code",
      "metadata": {
        "id": "CIZsGePeBolu",
        "colab_type": "code",
        "colab": {
          "base_uri": "https://localhost:8080/",
          "height": 195
        },
        "outputId": "a7c9385d-ca69-49ca-c8c8-b232ec9e3279"
      },
      "source": [
        "result_df"
      ],
      "execution_count": 45,
      "outputs": [
        {
          "output_type": "execute_result",
          "data": {
            "text/html": [
              "<div>\n",
              "<style scoped>\n",
              "    .dataframe tbody tr th:only-of-type {\n",
              "        vertical-align: middle;\n",
              "    }\n",
              "\n",
              "    .dataframe tbody tr th {\n",
              "        vertical-align: top;\n",
              "    }\n",
              "\n",
              "    .dataframe thead th {\n",
              "        text-align: right;\n",
              "    }\n",
              "</style>\n",
              "<table border=\"1\" class=\"dataframe\">\n",
              "  <thead>\n",
              "    <tr style=\"text-align: right;\">\n",
              "      <th></th>\n",
              "      <th>온도(K)</th>\n",
              "      <th>광도(L/Lo)</th>\n",
              "      <th>반지름(R/Ro)</th>\n",
              "      <th>절대 등급(Mv)</th>\n",
              "      <th>색</th>\n",
              "      <th>스펙트럼형</th>\n",
              "    </tr>\n",
              "  </thead>\n",
              "  <tbody>\n",
              "    <tr>\n",
              "      <th>0</th>\n",
              "      <td>10497</td>\n",
              "      <td>107188</td>\n",
              "      <td>237</td>\n",
              "      <td>4</td>\n",
              "      <td>5</td>\n",
              "      <td>3</td>\n",
              "    </tr>\n",
              "    <tr>\n",
              "      <th>1</th>\n",
              "      <td>1739</td>\n",
              "      <td>1</td>\n",
              "      <td>10</td>\n",
              "      <td>-8</td>\n",
              "      <td>1</td>\n",
              "      <td>0</td>\n",
              "    </tr>\n",
              "    <tr>\n",
              "      <th>2</th>\n",
              "      <td>40000</td>\n",
              "      <td>849420</td>\n",
              "      <td>1950</td>\n",
              "      <td>20</td>\n",
              "      <td>13</td>\n",
              "      <td>0</td>\n",
              "    </tr>\n",
              "    <tr>\n",
              "      <th>3</th>\n",
              "      <td>30000</td>\n",
              "      <td>500000</td>\n",
              "      <td>1000</td>\n",
              "      <td>12</td>\n",
              "      <td>10</td>\n",
              "      <td>2</td>\n",
              "    </tr>\n",
              "    <tr>\n",
              "      <th>4</th>\n",
              "      <td>35000</td>\n",
              "      <td>250000</td>\n",
              "      <td>1500</td>\n",
              "      <td>15</td>\n",
              "      <td>7</td>\n",
              "      <td>4</td>\n",
              "    </tr>\n",
              "  </tbody>\n",
              "</table>\n",
              "</div>"
            ],
            "text/plain": [
              "   온도(K)  광도(L/Lo)  반지름(R/Ro)  절대 등급(Mv)   색  스펙트럼형\n",
              "0  10497    107188        237          4   5      3\n",
              "1   1739         1         10         -8   1      0\n",
              "2  40000    849420       1950         20  13      0\n",
              "3  30000    500000       1000         12  10      2\n",
              "4  35000    250000       1500         15   7      4"
            ]
          },
          "metadata": {
            "tags": []
          },
          "execution_count": 45
        }
      ]
    },
    {
      "cell_type": "code",
      "metadata": {
        "id": "AoFIdkYPCNHT",
        "colab_type": "code",
        "colab": {}
      },
      "source": [
        "result_df['예측 결과'] = sess.run(prediction, feed_dict={X:X_test_5_scaled})"
      ],
      "execution_count": 46,
      "outputs": []
    },
    {
      "cell_type": "code",
      "metadata": {
        "id": "odX-YWHKCVRL",
        "colab_type": "code",
        "colab": {}
      },
      "source": [
        "result_df['색'] = colorLabelEncoder.inverse_transform(result_df['색']) # 역 레이블 인코딩(정수->문자열 레이블)\n",
        "result_df['스펙트럼형'] = colorLabelEncoder.inverse_transform(result_df['스펙트럼형']) # 역 레이블 인코딩(정수->문자열 레이블)"
      ],
      "execution_count": 47,
      "outputs": []
    },
    {
      "cell_type": "code",
      "metadata": {
        "id": "w-lPquVJ1aCI",
        "colab_type": "code",
        "colab": {}
      },
      "source": [
        "result_df.loc[result_df['예측 결과']==0 , '예측 결과'] = '갈색왜성'\n",
        "result_df.loc[result_df['예측 결과']==1 , '예측 결과'] = '적색왜성'\n",
        "result_df.loc[result_df['예측 결과']==2 , '예측 결과'] = '백색왜성'\n",
        "result_df.loc[result_df['예측 결과']==3 , '예측 결과'] = '주계열성'\n",
        "result_df.loc[result_df['예측 결과']==4 , '예측 결과'] = '초거성'\n",
        "result_df.loc[result_df['예측 결과']==5 , '예측 결과'] = '극대거성'"
      ],
      "execution_count": 48,
      "outputs": []
    },
    {
      "cell_type": "code",
      "metadata": {
        "id": "W7YxCgiU2E1B",
        "colab_type": "code",
        "colab": {
          "base_uri": "https://localhost:8080/",
          "height": 195
        },
        "outputId": "0554fd40-e709-4c93-bace-093d241b5f43"
      },
      "source": [
        "result_df"
      ],
      "execution_count": 49,
      "outputs": [
        {
          "output_type": "execute_result",
          "data": {
            "text/html": [
              "<div>\n",
              "<style scoped>\n",
              "    .dataframe tbody tr th:only-of-type {\n",
              "        vertical-align: middle;\n",
              "    }\n",
              "\n",
              "    .dataframe tbody tr th {\n",
              "        vertical-align: top;\n",
              "    }\n",
              "\n",
              "    .dataframe thead th {\n",
              "        text-align: right;\n",
              "    }\n",
              "</style>\n",
              "<table border=\"1\" class=\"dataframe\">\n",
              "  <thead>\n",
              "    <tr style=\"text-align: right;\">\n",
              "      <th></th>\n",
              "      <th>온도(K)</th>\n",
              "      <th>광도(L/Lo)</th>\n",
              "      <th>반지름(R/Ro)</th>\n",
              "      <th>절대 등급(Mv)</th>\n",
              "      <th>색</th>\n",
              "      <th>스펙트럼형</th>\n",
              "      <th>예측 결과</th>\n",
              "    </tr>\n",
              "  </thead>\n",
              "  <tbody>\n",
              "    <tr>\n",
              "      <th>0</th>\n",
              "      <td>10497</td>\n",
              "      <td>107188</td>\n",
              "      <td>237</td>\n",
              "      <td>4</td>\n",
              "      <td>Blue-White</td>\n",
              "      <td>Blue white</td>\n",
              "      <td>초거성</td>\n",
              "    </tr>\n",
              "    <tr>\n",
              "      <th>1</th>\n",
              "      <td>1739</td>\n",
              "      <td>1</td>\n",
              "      <td>10</td>\n",
              "      <td>-8</td>\n",
              "      <td>Blue</td>\n",
              "      <td>Blue</td>\n",
              "      <td>초거성</td>\n",
              "    </tr>\n",
              "    <tr>\n",
              "      <th>2</th>\n",
              "      <td>40000</td>\n",
              "      <td>849420</td>\n",
              "      <td>1950</td>\n",
              "      <td>20</td>\n",
              "      <td>Whitish</td>\n",
              "      <td>Blue</td>\n",
              "      <td>극대거성</td>\n",
              "    </tr>\n",
              "    <tr>\n",
              "      <th>3</th>\n",
              "      <td>30000</td>\n",
              "      <td>500000</td>\n",
              "      <td>1000</td>\n",
              "      <td>12</td>\n",
              "      <td>Red</td>\n",
              "      <td>Blue White</td>\n",
              "      <td>극대거성</td>\n",
              "    </tr>\n",
              "    <tr>\n",
              "      <th>4</th>\n",
              "      <td>35000</td>\n",
              "      <td>250000</td>\n",
              "      <td>1500</td>\n",
              "      <td>15</td>\n",
              "      <td>Orange</td>\n",
              "      <td>Blue white</td>\n",
              "      <td>극대거성</td>\n",
              "    </tr>\n",
              "  </tbody>\n",
              "</table>\n",
              "</div>"
            ],
            "text/plain": [
              "   온도(K)  광도(L/Lo)  반지름(R/Ro)  절대 등급(Mv)           색        스펙트럼형 예측 결과\n",
              "0  10497    107188        237          4  Blue-White   Blue white   초거성\n",
              "1   1739         1         10         -8       Blue          Blue   초거성\n",
              "2  40000    849420       1950         20     Whitish         Blue  극대거성\n",
              "3  30000    500000       1000         12         Red   Blue White  극대거성\n",
              "4  35000    250000       1500         15      Orange  Blue white   극대거성"
            ]
          },
          "metadata": {
            "tags": []
          },
          "execution_count": 49
        }
      ]
    },
    {
      "cell_type": "code",
      "metadata": {
        "id": "hoQyQFRg2QC2",
        "colab_type": "code",
        "colab": {}
      },
      "source": [
        "sess.close()"
      ],
      "execution_count": 50,
      "outputs": []
    }
  ]
}