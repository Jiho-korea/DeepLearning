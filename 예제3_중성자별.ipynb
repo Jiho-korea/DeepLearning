{
  "nbformat": 4,
  "nbformat_minor": 0,
  "metadata": {
    "colab": {
      "name": "예제3_중성자별",
      "provenance": [],
      "collapsed_sections": [],
      "authorship_tag": "ABX9TyM8w2PGbfZOLc9X6GkLaVz+",
      "include_colab_link": true
    },
    "kernelspec": {
      "name": "python3",
      "display_name": "Python 3"
    }
  },
  "cells": [
    {
      "cell_type": "markdown",
      "metadata": {
        "id": "view-in-github",
        "colab_type": "text"
      },
      "source": [
        "<a href=\"https://colab.research.google.com/github/Jiho-korea/DeepLearning/blob/master/%EC%98%88%EC%A0%9C3_%EC%A4%91%EC%84%B1%EC%9E%90%EB%B3%84.ipynb\" target=\"_parent\"><img src=\"https://colab.research.google.com/assets/colab-badge.svg\" alt=\"Open In Colab\"/></a>"
      ]
    },
    {
      "cell_type": "code",
      "metadata": {
        "id": "SB0vIfH0objU",
        "colab_type": "code",
        "outputId": "f3222cf7-3780-4131-d68b-aeee90079119",
        "colab": {
          "base_uri": "https://localhost:8080/",
          "height": 125
        }
      },
      "source": [
        "from google.colab import drive\n",
        "drive.mount('/gdrive', force_remount=True)"
      ],
      "execution_count": 1,
      "outputs": [
        {
          "output_type": "stream",
          "text": [
            "Go to this URL in a browser: https://accounts.google.com/o/oauth2/auth?client_id=947318989803-6bn6qk8qdgf4n4g3pfee6491hc0brc4i.apps.googleusercontent.com&redirect_uri=urn%3aietf%3awg%3aoauth%3a2.0%3aoob&response_type=code&scope=email%20https%3a%2f%2fwww.googleapis.com%2fauth%2fdocs.test%20https%3a%2f%2fwww.googleapis.com%2fauth%2fdrive%20https%3a%2f%2fwww.googleapis.com%2fauth%2fdrive.photos.readonly%20https%3a%2f%2fwww.googleapis.com%2fauth%2fpeopleapi.readonly\n",
            "\n",
            "Enter your authorization code:\n",
            "··········\n",
            "Mounted at /gdrive\n"
          ],
          "name": "stdout"
        }
      ]
    },
    {
      "cell_type": "code",
      "metadata": {
        "id": "YYkn9L2BmpS4",
        "colab_type": "code",
        "outputId": "66b20eab-92bb-4265-f7db-5f8828428379",
        "colab": {
          "base_uri": "https://localhost:8080/",
          "height": 917
        }
      },
      "source": [
        "!pip install --upgrade tensorflow==1.15.0"
      ],
      "execution_count": 2,
      "outputs": [
        {
          "output_type": "stream",
          "text": [
            "Collecting tensorflow==1.15.0\n",
            "\u001b[?25l  Downloading https://files.pythonhosted.org/packages/3f/98/5a99af92fb911d7a88a0005ad55005f35b4c1ba8d75fba02df726cd936e6/tensorflow-1.15.0-cp36-cp36m-manylinux2010_x86_64.whl (412.3MB)\n",
            "\u001b[K     |████████████████████████████████| 412.3MB 23kB/s \n",
            "\u001b[?25hRequirement already satisfied, skipping upgrade: grpcio>=1.8.6 in /usr/local/lib/python3.6/dist-packages (from tensorflow==1.15.0) (1.29.0)\n",
            "Requirement already satisfied, skipping upgrade: protobuf>=3.6.1 in /usr/local/lib/python3.6/dist-packages (from tensorflow==1.15.0) (3.10.0)\n",
            "Requirement already satisfied, skipping upgrade: absl-py>=0.7.0 in /usr/local/lib/python3.6/dist-packages (from tensorflow==1.15.0) (0.9.0)\n",
            "Requirement already satisfied, skipping upgrade: wheel>=0.26 in /usr/local/lib/python3.6/dist-packages (from tensorflow==1.15.0) (0.34.2)\n",
            "Requirement already satisfied, skipping upgrade: astor>=0.6.0 in /usr/local/lib/python3.6/dist-packages (from tensorflow==1.15.0) (0.8.1)\n",
            "Requirement already satisfied, skipping upgrade: google-pasta>=0.1.6 in /usr/local/lib/python3.6/dist-packages (from tensorflow==1.15.0) (0.2.0)\n",
            "Collecting tensorboard<1.16.0,>=1.15.0\n",
            "\u001b[?25l  Downloading https://files.pythonhosted.org/packages/1e/e9/d3d747a97f7188f48aa5eda486907f3b345cd409f0a0850468ba867db246/tensorboard-1.15.0-py3-none-any.whl (3.8MB)\n",
            "\u001b[K     |████████████████████████████████| 3.8MB 35.5MB/s \n",
            "\u001b[?25hRequirement already satisfied, skipping upgrade: opt-einsum>=2.3.2 in /usr/local/lib/python3.6/dist-packages (from tensorflow==1.15.0) (3.2.1)\n",
            "Requirement already satisfied, skipping upgrade: keras-preprocessing>=1.0.5 in /usr/local/lib/python3.6/dist-packages (from tensorflow==1.15.0) (1.1.2)\n",
            "Requirement already satisfied, skipping upgrade: wrapt>=1.11.1 in /usr/local/lib/python3.6/dist-packages (from tensorflow==1.15.0) (1.12.1)\n",
            "Requirement already satisfied, skipping upgrade: six>=1.10.0 in /usr/local/lib/python3.6/dist-packages (from tensorflow==1.15.0) (1.12.0)\n",
            "Collecting tensorflow-estimator==1.15.1\n",
            "\u001b[?25l  Downloading https://files.pythonhosted.org/packages/de/62/2ee9cd74c9fa2fa450877847ba560b260f5d0fb70ee0595203082dafcc9d/tensorflow_estimator-1.15.1-py2.py3-none-any.whl (503kB)\n",
            "\u001b[K     |████████████████████████████████| 512kB 41.6MB/s \n",
            "\u001b[?25hRequirement already satisfied, skipping upgrade: termcolor>=1.1.0 in /usr/local/lib/python3.6/dist-packages (from tensorflow==1.15.0) (1.1.0)\n",
            "Requirement already satisfied, skipping upgrade: keras-applications>=1.0.8 in /usr/local/lib/python3.6/dist-packages (from tensorflow==1.15.0) (1.0.8)\n",
            "Collecting gast==0.2.2\n",
            "  Downloading https://files.pythonhosted.org/packages/4e/35/11749bf99b2d4e3cceb4d55ca22590b0d7c2c62b9de38ac4a4a7f4687421/gast-0.2.2.tar.gz\n",
            "Requirement already satisfied, skipping upgrade: numpy<2.0,>=1.16.0 in /usr/local/lib/python3.6/dist-packages (from tensorflow==1.15.0) (1.18.4)\n",
            "Requirement already satisfied, skipping upgrade: setuptools in /usr/local/lib/python3.6/dist-packages (from protobuf>=3.6.1->tensorflow==1.15.0) (47.1.1)\n",
            "Requirement already satisfied, skipping upgrade: werkzeug>=0.11.15 in /usr/local/lib/python3.6/dist-packages (from tensorboard<1.16.0,>=1.15.0->tensorflow==1.15.0) (1.0.1)\n",
            "Requirement already satisfied, skipping upgrade: markdown>=2.6.8 in /usr/local/lib/python3.6/dist-packages (from tensorboard<1.16.0,>=1.15.0->tensorflow==1.15.0) (3.2.2)\n",
            "Requirement already satisfied, skipping upgrade: h5py in /usr/local/lib/python3.6/dist-packages (from keras-applications>=1.0.8->tensorflow==1.15.0) (2.10.0)\n",
            "Requirement already satisfied, skipping upgrade: importlib-metadata; python_version < \"3.8\" in /usr/local/lib/python3.6/dist-packages (from markdown>=2.6.8->tensorboard<1.16.0,>=1.15.0->tensorflow==1.15.0) (1.6.0)\n",
            "Requirement already satisfied, skipping upgrade: zipp>=0.5 in /usr/local/lib/python3.6/dist-packages (from importlib-metadata; python_version < \"3.8\"->markdown>=2.6.8->tensorboard<1.16.0,>=1.15.0->tensorflow==1.15.0) (3.1.0)\n",
            "Building wheels for collected packages: gast\n",
            "  Building wheel for gast (setup.py) ... \u001b[?25l\u001b[?25hdone\n",
            "  Created wheel for gast: filename=gast-0.2.2-cp36-none-any.whl size=7540 sha256=18eccd41d914cf59612647ce7effc18f0223f6836952e59512fa460730046d52\n",
            "  Stored in directory: /root/.cache/pip/wheels/5c/2e/7e/a1d4d4fcebe6c381f378ce7743a3ced3699feb89bcfbdadadd\n",
            "Successfully built gast\n",
            "\u001b[31mERROR: tensorflow-probability 0.10.0 has requirement gast>=0.3.2, but you'll have gast 0.2.2 which is incompatible.\u001b[0m\n",
            "Installing collected packages: tensorboard, tensorflow-estimator, gast, tensorflow\n",
            "  Found existing installation: tensorboard 2.2.2\n",
            "    Uninstalling tensorboard-2.2.2:\n",
            "      Successfully uninstalled tensorboard-2.2.2\n",
            "  Found existing installation: tensorflow-estimator 2.2.0\n",
            "    Uninstalling tensorflow-estimator-2.2.0:\n",
            "      Successfully uninstalled tensorflow-estimator-2.2.0\n",
            "  Found existing installation: gast 0.3.3\n",
            "    Uninstalling gast-0.3.3:\n",
            "      Successfully uninstalled gast-0.3.3\n",
            "  Found existing installation: tensorflow 2.2.0\n",
            "    Uninstalling tensorflow-2.2.0:\n",
            "      Successfully uninstalled tensorflow-2.2.0\n",
            "Successfully installed gast-0.2.2 tensorboard-1.15.0 tensorflow-1.15.0 tensorflow-estimator-1.15.1\n"
          ],
          "name": "stdout"
        }
      ]
    },
    {
      "cell_type": "code",
      "metadata": {
        "id": "DWpRnLAjmYgo",
        "colab_type": "code",
        "colab": {}
      },
      "source": [
        "import tensorflow as tf\n",
        "import numpy as np\n",
        "import pandas as pd\n",
        "import matplotlib.pyplot as plt\n",
        "from sklearn.model_selection import train_test_split\n",
        "from sklearn.preprocessing import StandardScaler\n",
        "from sklearn.model_selection import StratifiedKFold"
      ],
      "execution_count": 0,
      "outputs": []
    },
    {
      "cell_type": "code",
      "metadata": {
        "id": "-qAOoLa2n-zE",
        "colab_type": "code",
        "colab": {}
      },
      "source": [
        "tf.set_random_seed(777)"
      ],
      "execution_count": 0,
      "outputs": []
    },
    {
      "cell_type": "code",
      "metadata": {
        "id": "qw3zM1dOoX6h",
        "colab_type": "code",
        "colab": {}
      },
      "source": [
        "# 데이터 확인, 분석을 위해 pandas 를 사용\n",
        "xy_df = pd.read_csv('/gdrive/My Drive/Colab Notebooks/DeepLearningPrac/tensorflowPrac/logistic/kaggle/예제3_중성자별.csv', dtype=np.float32)\n",
        "xy_df = xy_df.dropna(how='all', axis=0)  # 결측치 제거"
      ],
      "execution_count": 0,
      "outputs": []
    },
    {
      "cell_type": "code",
      "metadata": {
        "id": "qVUVqaTosXtJ",
        "colab_type": "code",
        "outputId": "5caf0404-eeed-4a10-cde2-f7f5af88ee53",
        "colab": {
          "base_uri": "https://localhost:8080/",
          "height": 418
        }
      },
      "source": [
        "xy_df.columns = ['통합 프로필 평균', '통합 프로필 표준편차', '통합 프로필 과도한 첨도', '통합 프로필 왜곡도', 'DM-SNR 곡선의 평균', 'DM-SNR 곡선의 표준편차', 'DM-SNR 곡선의 과도한 첨도', 'DM-SNR 곡선의 왜곡도', '예측결과']  # 칼럼명 한글로 변경\n",
        "xy_df # 데이터프레임 확인"
      ],
      "execution_count": 4,
      "outputs": [
        {
          "output_type": "execute_result",
          "data": {
            "text/html": [
              "<div>\n",
              "<style scoped>\n",
              "    .dataframe tbody tr th:only-of-type {\n",
              "        vertical-align: middle;\n",
              "    }\n",
              "\n",
              "    .dataframe tbody tr th {\n",
              "        vertical-align: top;\n",
              "    }\n",
              "\n",
              "    .dataframe thead th {\n",
              "        text-align: right;\n",
              "    }\n",
              "</style>\n",
              "<table border=\"1\" class=\"dataframe\">\n",
              "  <thead>\n",
              "    <tr style=\"text-align: right;\">\n",
              "      <th></th>\n",
              "      <th>통합 프로필 평균</th>\n",
              "      <th>통합 프로필 표준편차</th>\n",
              "      <th>통합 프로필 과도한 첨도</th>\n",
              "      <th>통합 프로필 왜곡도</th>\n",
              "      <th>DM-SNR 곡선의 평균</th>\n",
              "      <th>DM-SNR 곡선의 표준편차</th>\n",
              "      <th>DM-SNR 곡선의 과도한 첨도</th>\n",
              "      <th>DM-SNR 곡선의 왜곡도</th>\n",
              "      <th>예측결과</th>\n",
              "    </tr>\n",
              "  </thead>\n",
              "  <tbody>\n",
              "    <tr>\n",
              "      <th>0</th>\n",
              "      <td>140.562500</td>\n",
              "      <td>55.683781</td>\n",
              "      <td>-0.234571</td>\n",
              "      <td>-0.699648</td>\n",
              "      <td>3.199833</td>\n",
              "      <td>19.110426</td>\n",
              "      <td>7.975532</td>\n",
              "      <td>74.242226</td>\n",
              "      <td>0.0</td>\n",
              "    </tr>\n",
              "    <tr>\n",
              "      <th>1</th>\n",
              "      <td>102.507812</td>\n",
              "      <td>58.882431</td>\n",
              "      <td>0.465318</td>\n",
              "      <td>-0.515088</td>\n",
              "      <td>1.677258</td>\n",
              "      <td>14.860146</td>\n",
              "      <td>10.576487</td>\n",
              "      <td>127.393578</td>\n",
              "      <td>0.0</td>\n",
              "    </tr>\n",
              "    <tr>\n",
              "      <th>2</th>\n",
              "      <td>103.015625</td>\n",
              "      <td>39.341648</td>\n",
              "      <td>0.323328</td>\n",
              "      <td>1.051164</td>\n",
              "      <td>3.121238</td>\n",
              "      <td>21.744669</td>\n",
              "      <td>7.735822</td>\n",
              "      <td>63.171909</td>\n",
              "      <td>0.0</td>\n",
              "    </tr>\n",
              "    <tr>\n",
              "      <th>3</th>\n",
              "      <td>136.750000</td>\n",
              "      <td>57.178448</td>\n",
              "      <td>-0.068415</td>\n",
              "      <td>-0.636238</td>\n",
              "      <td>3.642977</td>\n",
              "      <td>20.959280</td>\n",
              "      <td>6.896499</td>\n",
              "      <td>53.593662</td>\n",
              "      <td>0.0</td>\n",
              "    </tr>\n",
              "    <tr>\n",
              "      <th>4</th>\n",
              "      <td>88.726562</td>\n",
              "      <td>40.672226</td>\n",
              "      <td>0.600866</td>\n",
              "      <td>1.123492</td>\n",
              "      <td>1.178930</td>\n",
              "      <td>11.468719</td>\n",
              "      <td>14.269573</td>\n",
              "      <td>252.567307</td>\n",
              "      <td>0.0</td>\n",
              "    </tr>\n",
              "    <tr>\n",
              "      <th>...</th>\n",
              "      <td>...</td>\n",
              "      <td>...</td>\n",
              "      <td>...</td>\n",
              "      <td>...</td>\n",
              "      <td>...</td>\n",
              "      <td>...</td>\n",
              "      <td>...</td>\n",
              "      <td>...</td>\n",
              "      <td>...</td>\n",
              "    </tr>\n",
              "    <tr>\n",
              "      <th>17893</th>\n",
              "      <td>136.429688</td>\n",
              "      <td>59.847420</td>\n",
              "      <td>-0.187846</td>\n",
              "      <td>-0.738123</td>\n",
              "      <td>1.296823</td>\n",
              "      <td>12.166062</td>\n",
              "      <td>15.450260</td>\n",
              "      <td>285.931030</td>\n",
              "      <td>0.0</td>\n",
              "    </tr>\n",
              "    <tr>\n",
              "      <th>17894</th>\n",
              "      <td>122.554688</td>\n",
              "      <td>49.485607</td>\n",
              "      <td>0.127978</td>\n",
              "      <td>0.323061</td>\n",
              "      <td>16.409698</td>\n",
              "      <td>44.626892</td>\n",
              "      <td>2.945244</td>\n",
              "      <td>8.297091</td>\n",
              "      <td>0.0</td>\n",
              "    </tr>\n",
              "    <tr>\n",
              "      <th>17895</th>\n",
              "      <td>119.335938</td>\n",
              "      <td>59.935940</td>\n",
              "      <td>0.159363</td>\n",
              "      <td>-0.743025</td>\n",
              "      <td>21.430601</td>\n",
              "      <td>58.872002</td>\n",
              "      <td>2.499517</td>\n",
              "      <td>4.595173</td>\n",
              "      <td>0.0</td>\n",
              "    </tr>\n",
              "    <tr>\n",
              "      <th>17896</th>\n",
              "      <td>114.507812</td>\n",
              "      <td>53.902401</td>\n",
              "      <td>0.201161</td>\n",
              "      <td>-0.024789</td>\n",
              "      <td>1.946488</td>\n",
              "      <td>13.381731</td>\n",
              "      <td>10.007967</td>\n",
              "      <td>134.238907</td>\n",
              "      <td>0.0</td>\n",
              "    </tr>\n",
              "    <tr>\n",
              "      <th>17897</th>\n",
              "      <td>57.062500</td>\n",
              "      <td>85.797340</td>\n",
              "      <td>1.406391</td>\n",
              "      <td>0.089520</td>\n",
              "      <td>188.306015</td>\n",
              "      <td>64.712563</td>\n",
              "      <td>-1.597527</td>\n",
              "      <td>1.429475</td>\n",
              "      <td>0.0</td>\n",
              "    </tr>\n",
              "  </tbody>\n",
              "</table>\n",
              "<p>17898 rows × 9 columns</p>\n",
              "</div>"
            ],
            "text/plain": [
              "        통합 프로필 평균  통합 프로필 표준편차  ...  DM-SNR 곡선의 왜곡도  예측결과\n",
              "0      140.562500    55.683781  ...       74.242226   0.0\n",
              "1      102.507812    58.882431  ...      127.393578   0.0\n",
              "2      103.015625    39.341648  ...       63.171909   0.0\n",
              "3      136.750000    57.178448  ...       53.593662   0.0\n",
              "4       88.726562    40.672226  ...      252.567307   0.0\n",
              "...           ...          ...  ...             ...   ...\n",
              "17893  136.429688    59.847420  ...      285.931030   0.0\n",
              "17894  122.554688    49.485607  ...        8.297091   0.0\n",
              "17895  119.335938    59.935940  ...        4.595173   0.0\n",
              "17896  114.507812    53.902401  ...      134.238907   0.0\n",
              "17897   57.062500    85.797340  ...        1.429475   0.0\n",
              "\n",
              "[17898 rows x 9 columns]"
            ]
          },
          "metadata": {
            "tags": []
          },
          "execution_count": 4
        }
      ]
    },
    {
      "cell_type": "code",
      "metadata": {
        "id": "3UG_LVYyqZmx",
        "colab_type": "code",
        "outputId": "5209674c-4cd7-4a2c-b6d3-aa6886564c2f",
        "colab": {
          "base_uri": "https://localhost:8080/",
          "height": 314
        }
      },
      "source": [
        "pd.DataFrame(xy_df.mean(), columns=[\"평균 값\"])"
      ],
      "execution_count": 5,
      "outputs": [
        {
          "output_type": "execute_result",
          "data": {
            "text/html": [
              "<div>\n",
              "<style scoped>\n",
              "    .dataframe tbody tr th:only-of-type {\n",
              "        vertical-align: middle;\n",
              "    }\n",
              "\n",
              "    .dataframe tbody tr th {\n",
              "        vertical-align: top;\n",
              "    }\n",
              "\n",
              "    .dataframe thead th {\n",
              "        text-align: right;\n",
              "    }\n",
              "</style>\n",
              "<table border=\"1\" class=\"dataframe\">\n",
              "  <thead>\n",
              "    <tr style=\"text-align: right;\">\n",
              "      <th></th>\n",
              "      <th>평균 값</th>\n",
              "    </tr>\n",
              "  </thead>\n",
              "  <tbody>\n",
              "    <tr>\n",
              "      <th>통합 프로필 평균</th>\n",
              "      <td>111.079773</td>\n",
              "    </tr>\n",
              "    <tr>\n",
              "      <th>통합 프로필 표준편차</th>\n",
              "      <td>46.549370</td>\n",
              "    </tr>\n",
              "    <tr>\n",
              "      <th>통합 프로필 과도한 첨도</th>\n",
              "      <td>0.477856</td>\n",
              "    </tr>\n",
              "    <tr>\n",
              "      <th>통합 프로필 왜곡도</th>\n",
              "      <td>1.770286</td>\n",
              "    </tr>\n",
              "    <tr>\n",
              "      <th>DM-SNR 곡선의 평균</th>\n",
              "      <td>12.614424</td>\n",
              "    </tr>\n",
              "    <tr>\n",
              "      <th>DM-SNR 곡선의 표준편차</th>\n",
              "      <td>26.326546</td>\n",
              "    </tr>\n",
              "    <tr>\n",
              "      <th>DM-SNR 곡선의 과도한 첨도</th>\n",
              "      <td>8.303542</td>\n",
              "    </tr>\n",
              "    <tr>\n",
              "      <th>DM-SNR 곡선의 왜곡도</th>\n",
              "      <td>104.857712</td>\n",
              "    </tr>\n",
              "    <tr>\n",
              "      <th>예측결과</th>\n",
              "      <td>0.091574</td>\n",
              "    </tr>\n",
              "  </tbody>\n",
              "</table>\n",
              "</div>"
            ],
            "text/plain": [
              "                         평균 값\n",
              "통합 프로필 평균          111.079773\n",
              "통합 프로필 표준편차         46.549370\n",
              "통합 프로필 과도한 첨도        0.477856\n",
              "통합 프로필 왜곡도           1.770286\n",
              "DM-SNR 곡선의 평균       12.614424\n",
              "DM-SNR 곡선의 표준편차     26.326546\n",
              "DM-SNR 곡선의 과도한 첨도    8.303542\n",
              "DM-SNR 곡선의 왜곡도     104.857712\n",
              "예측결과                 0.091574"
            ]
          },
          "metadata": {
            "tags": []
          },
          "execution_count": 5
        }
      ]
    },
    {
      "cell_type": "code",
      "metadata": {
        "id": "HAnbCPoIGJKt",
        "colab_type": "code",
        "colab": {
          "base_uri": "https://localhost:8080/",
          "height": 314
        },
        "outputId": "5eb75e8d-96dd-4b6d-9ca0-08b107e8fe3f"
      },
      "source": [
        "pd.DataFrame(xy_df.min(), columns=[\"최솟 값\"])"
      ],
      "execution_count": 84,
      "outputs": [
        {
          "output_type": "execute_result",
          "data": {
            "text/html": [
              "<div>\n",
              "<style scoped>\n",
              "    .dataframe tbody tr th:only-of-type {\n",
              "        vertical-align: middle;\n",
              "    }\n",
              "\n",
              "    .dataframe tbody tr th {\n",
              "        vertical-align: top;\n",
              "    }\n",
              "\n",
              "    .dataframe thead th {\n",
              "        text-align: right;\n",
              "    }\n",
              "</style>\n",
              "<table border=\"1\" class=\"dataframe\">\n",
              "  <thead>\n",
              "    <tr style=\"text-align: right;\">\n",
              "      <th></th>\n",
              "      <th>최솟 값</th>\n",
              "    </tr>\n",
              "  </thead>\n",
              "  <tbody>\n",
              "    <tr>\n",
              "      <th>통합 프로필 평균</th>\n",
              "      <td>5.812500</td>\n",
              "    </tr>\n",
              "    <tr>\n",
              "      <th>통합 프로필 표준편차</th>\n",
              "      <td>24.772041</td>\n",
              "    </tr>\n",
              "    <tr>\n",
              "      <th>통합 프로필 과도한 첨도</th>\n",
              "      <td>-1.876011</td>\n",
              "    </tr>\n",
              "    <tr>\n",
              "      <th>통합 프로필 왜곡도</th>\n",
              "      <td>-1.791886</td>\n",
              "    </tr>\n",
              "    <tr>\n",
              "      <th>DM-SNR 곡선의 평균</th>\n",
              "      <td>0.213211</td>\n",
              "    </tr>\n",
              "    <tr>\n",
              "      <th>DM-SNR 곡선의 표준편차</th>\n",
              "      <td>7.370432</td>\n",
              "    </tr>\n",
              "    <tr>\n",
              "      <th>DM-SNR 곡선의 과도한 첨도</th>\n",
              "      <td>-3.139270</td>\n",
              "    </tr>\n",
              "    <tr>\n",
              "      <th>DM-SNR 곡선의 왜곡도</th>\n",
              "      <td>-1.976976</td>\n",
              "    </tr>\n",
              "    <tr>\n",
              "      <th>예측결과</th>\n",
              "      <td>0.000000</td>\n",
              "    </tr>\n",
              "  </tbody>\n",
              "</table>\n",
              "</div>"
            ],
            "text/plain": [
              "                        최솟 값\n",
              "통합 프로필 평균           5.812500\n",
              "통합 프로필 표준편차        24.772041\n",
              "통합 프로필 과도한 첨도      -1.876011\n",
              "통합 프로필 왜곡도         -1.791886\n",
              "DM-SNR 곡선의 평균       0.213211\n",
              "DM-SNR 곡선의 표준편차     7.370432\n",
              "DM-SNR 곡선의 과도한 첨도  -3.139270\n",
              "DM-SNR 곡선의 왜곡도     -1.976976\n",
              "예측결과                0.000000"
            ]
          },
          "metadata": {
            "tags": []
          },
          "execution_count": 84
        }
      ]
    },
    {
      "cell_type": "code",
      "metadata": {
        "id": "i-u_zJLZGJpn",
        "colab_type": "code",
        "colab": {
          "base_uri": "https://localhost:8080/",
          "height": 314
        },
        "outputId": "09791d1d-7699-4315-84cb-7a02c65a7838"
      },
      "source": [
        "pd.DataFrame(xy_df.max(), columns=[\"최댓 값\"])"
      ],
      "execution_count": 83,
      "outputs": [
        {
          "output_type": "execute_result",
          "data": {
            "text/html": [
              "<div>\n",
              "<style scoped>\n",
              "    .dataframe tbody tr th:only-of-type {\n",
              "        vertical-align: middle;\n",
              "    }\n",
              "\n",
              "    .dataframe tbody tr th {\n",
              "        vertical-align: top;\n",
              "    }\n",
              "\n",
              "    .dataframe thead th {\n",
              "        text-align: right;\n",
              "    }\n",
              "</style>\n",
              "<table border=\"1\" class=\"dataframe\">\n",
              "  <thead>\n",
              "    <tr style=\"text-align: right;\">\n",
              "      <th></th>\n",
              "      <th>최댓 값</th>\n",
              "    </tr>\n",
              "  </thead>\n",
              "  <tbody>\n",
              "    <tr>\n",
              "      <th>통합 프로필 평균</th>\n",
              "      <td>192.617188</td>\n",
              "    </tr>\n",
              "    <tr>\n",
              "      <th>통합 프로필 표준편차</th>\n",
              "      <td>98.778908</td>\n",
              "    </tr>\n",
              "    <tr>\n",
              "      <th>통합 프로필 과도한 첨도</th>\n",
              "      <td>8.069522</td>\n",
              "    </tr>\n",
              "    <tr>\n",
              "      <th>통합 프로필 왜곡도</th>\n",
              "      <td>68.101624</td>\n",
              "    </tr>\n",
              "    <tr>\n",
              "      <th>DM-SNR 곡선의 평균</th>\n",
              "      <td>223.392136</td>\n",
              "    </tr>\n",
              "    <tr>\n",
              "      <th>DM-SNR 곡선의 표준편차</th>\n",
              "      <td>110.642212</td>\n",
              "    </tr>\n",
              "    <tr>\n",
              "      <th>DM-SNR 곡선의 과도한 첨도</th>\n",
              "      <td>34.539845</td>\n",
              "    </tr>\n",
              "    <tr>\n",
              "      <th>DM-SNR 곡선의 왜곡도</th>\n",
              "      <td>1191.000854</td>\n",
              "    </tr>\n",
              "    <tr>\n",
              "      <th>예측결과</th>\n",
              "      <td>1.000000</td>\n",
              "    </tr>\n",
              "  </tbody>\n",
              "</table>\n",
              "</div>"
            ],
            "text/plain": [
              "                          최댓 값\n",
              "통합 프로필 평균           192.617188\n",
              "통합 프로필 표준편차          98.778908\n",
              "통합 프로필 과도한 첨도         8.069522\n",
              "통합 프로필 왜곡도           68.101624\n",
              "DM-SNR 곡선의 평균       223.392136\n",
              "DM-SNR 곡선의 표준편차     110.642212\n",
              "DM-SNR 곡선의 과도한 첨도    34.539845\n",
              "DM-SNR 곡선의 왜곡도     1191.000854\n",
              "예측결과                  1.000000"
            ]
          },
          "metadata": {
            "tags": []
          },
          "execution_count": 83
        }
      ]
    },
    {
      "cell_type": "code",
      "metadata": {
        "id": "D_hC1k55tKG1",
        "colab_type": "code",
        "colab": {}
      },
      "source": [
        "y_data = xy_df.iloc[:,-1].values.reshape(-1,1)  # 레이블 데이터(예측결과)를 numpy로 추출"
      ],
      "execution_count": 0,
      "outputs": []
    },
    {
      "cell_type": "code",
      "metadata": {
        "id": "8mXSOydou10P",
        "colab_type": "code",
        "colab": {}
      },
      "source": [
        "x_data = xy_df.iloc[:,:-1].values  # 피쳐데이터를 numpy로 추출"
      ],
      "execution_count": 0,
      "outputs": []
    },
    {
      "cell_type": "code",
      "metadata": {
        "id": "5ctMnbJObCTY",
        "colab_type": "code",
        "colab": {}
      },
      "source": [
        "# 넘파이 배열 내 데이터타입 변경\n",
        "x_data = x_data.astype('float32')\n",
        "y_data = y_data.astype('float32')"
      ],
      "execution_count": 0,
      "outputs": []
    },
    {
      "cell_type": "code",
      "metadata": {
        "id": "WZo_o7lFup5j",
        "colab_type": "code",
        "outputId": "761e28ce-3900-4a12-907d-cbcd0266b7e2",
        "colab": {
          "base_uri": "https://localhost:8080/",
          "height": 158
        }
      },
      "source": [
        "print(y_data.shape)\n",
        "print(y_data[:7]) #레이블 확인"
      ],
      "execution_count": 9,
      "outputs": [
        {
          "output_type": "stream",
          "text": [
            "(17898, 1)\n",
            "[[0.]\n",
            " [0.]\n",
            " [0.]\n",
            " [0.]\n",
            " [0.]\n",
            " [0.]\n",
            " [0.]]\n"
          ],
          "name": "stdout"
        }
      ]
    },
    {
      "cell_type": "code",
      "metadata": {
        "id": "rNVOT2slwIEq",
        "colab_type": "code",
        "outputId": "e0addfd0-f3e8-4100-dbc0-7d46f48e38a7",
        "colab": {
          "base_uri": "https://localhost:8080/",
          "height": 281
        }
      },
      "source": [
        "print(x_data.shape)\n",
        "print(x_data[:7,:]) # 피쳐 확인"
      ],
      "execution_count": 10,
      "outputs": [
        {
          "output_type": "stream",
          "text": [
            "(17898, 8)\n",
            "[[ 1.40562500e+02  5.56837807e+01 -2.34571412e-01 -6.99648380e-01\n",
            "   3.19983268e+00  1.91104259e+01  7.97553158e+00  7.42422256e+01]\n",
            " [ 1.02507812e+02  5.88824310e+01  4.65318143e-01 -5.15087903e-01\n",
            "   1.67725754e+00  1.48601456e+01  1.05764866e+01  1.27393578e+02]\n",
            " [ 1.03015625e+02  3.93416481e+01  3.23328376e-01  1.05116439e+00\n",
            "   3.12123752e+00  2.17446690e+01  7.73582220e+00  6.31719093e+01]\n",
            " [ 1.36750000e+02  5.71784477e+01 -6.84146360e-02 -6.36238396e-01\n",
            "   3.64297652e+00  2.09592800e+01  6.89649868e+00  5.35936623e+01]\n",
            " [ 8.87265625e+01  4.06722260e+01  6.00866079e-01  1.12349164e+00\n",
            "   1.17892981e+00  1.14687195e+01  1.42695732e+01  2.52567307e+02]\n",
            " [ 9.35703125e+01  4.66981125e+01  5.31904876e-01  4.16721106e-01\n",
            "   1.63628757e+00  1.45450745e+01  1.06217480e+01  1.31393997e+02]\n",
            " [ 1.19484375e+02  4.87650604e+01  3.14602219e-02 -1.12167574e-01\n",
            "   9.99163866e-01  9.27961254e+00  1.92062302e+01  4.79756561e+02]]\n"
          ],
          "name": "stdout"
        }
      ]
    },
    {
      "cell_type": "code",
      "metadata": {
        "id": "awbOUtssLrXz",
        "colab_type": "code",
        "outputId": "14dd8f62-22c0-4e80-b50d-81669be28b12",
        "colab": {
          "base_uri": "https://localhost:8080/",
          "height": 34
        }
      },
      "source": [
        "np.unique(y_data, return_counts=True)"
      ],
      "execution_count": 11,
      "outputs": [
        {
          "output_type": "execute_result",
          "data": {
            "text/plain": [
              "(array([0., 1.], dtype=float32), array([16259,  1639]))"
            ]
          },
          "metadata": {
            "tags": []
          },
          "execution_count": 11
        }
      ]
    },
    {
      "cell_type": "code",
      "metadata": {
        "id": "VLMhZjhywTrI",
        "colab_type": "code",
        "colab": {}
      },
      "source": [
        "# 테스트세트를 분리\n",
        "x_train, x_test, y_train, y_test = train_test_split(x_data, y_data, test_size=0.3, stratify=y_data, random_state=777) # 전체 데이터중 20%"
      ],
      "execution_count": 0,
      "outputs": []
    },
    {
      "cell_type": "code",
      "metadata": {
        "id": "8pzqSWQOL1Ub",
        "colab_type": "code",
        "outputId": "aa476ddc-01ed-4dba-ee67-f6429f970b6f",
        "colab": {
          "base_uri": "https://localhost:8080/",
          "height": 34
        }
      },
      "source": [
        "np.unique(y_train, return_counts=True)"
      ],
      "execution_count": 13,
      "outputs": [
        {
          "output_type": "execute_result",
          "data": {
            "text/plain": [
              "(array([0., 1.], dtype=float32), array([11381,  1147]))"
            ]
          },
          "metadata": {
            "tags": []
          },
          "execution_count": 13
        }
      ]
    },
    {
      "cell_type": "code",
      "metadata": {
        "id": "C1rA7T03Dgpv",
        "colab_type": "code",
        "outputId": "65188c56-2799-47ee-e963-c9063ac87bd2",
        "colab": {
          "base_uri": "https://localhost:8080/",
          "height": 52
        }
      },
      "source": [
        "print(\"학습용 \",x_train.shape, \"\\t\", y_train.shape) # 학습용 피쳐, 레이블 데이터 \n",
        "print(\"테스트용 \",x_test.shape, \"\\t\", y_test.shape) # 테스트용 피쳐, 레이블 데이터"
      ],
      "execution_count": 14,
      "outputs": [
        {
          "output_type": "stream",
          "text": [
            "학습용  (12528, 8) \t (12528, 1)\n",
            "테스트용  (5370, 8) \t (5370, 1)\n"
          ],
          "name": "stdout"
        }
      ]
    },
    {
      "cell_type": "code",
      "metadata": {
        "id": "34ktK3ffGUCV",
        "colab_type": "code",
        "colab": {}
      },
      "source": [
        "scaler = StandardScaler()"
      ],
      "execution_count": 0,
      "outputs": []
    },
    {
      "cell_type": "code",
      "metadata": {
        "id": "F1WpyU7LJGrh",
        "colab_type": "code",
        "colab": {}
      },
      "source": [
        "# 텐서플로우 그래프 그리기\n",
        "num_x = x_data.shape[1]\n",
        "X = tf.placeholder(tf.float32, shape=[None, num_x]) \n",
        "Y = tf.placeholder(tf.float32, shape=[None, 1])\n",
        "W = tf.Variable(tf.random.normal([num_x , 1]), name='weight') \n",
        "b = tf.Variable(tf.random.normal([1]), name='bias')"
      ],
      "execution_count": 0,
      "outputs": []
    },
    {
      "cell_type": "code",
      "metadata": {
        "id": "i-5-BV1iLjf8",
        "colab_type": "code",
        "colab": {}
      },
      "source": [
        "hypothesis = tf.sigmoid(tf.matmul(X,W) + b)"
      ],
      "execution_count": 0,
      "outputs": []
    },
    {
      "cell_type": "code",
      "metadata": {
        "id": "TQpuIqHHLm_q",
        "colab_type": "code",
        "colab": {}
      },
      "source": [
        "cost = -tf.reduce_mean(Y*tf.log(hypothesis) +  (1-Y)*tf.log(1-hypothesis))"
      ],
      "execution_count": 0,
      "outputs": []
    },
    {
      "cell_type": "code",
      "metadata": {
        "id": "-DcXkwHMMtNJ",
        "colab_type": "code",
        "colab": {}
      },
      "source": [
        "train = tf.train.GradientDescentOptimizer(learning_rate=1e-3).minimize(cost)"
      ],
      "execution_count": 0,
      "outputs": []
    },
    {
      "cell_type": "code",
      "metadata": {
        "id": "wOW6RFgFWttw",
        "colab_type": "code",
        "colab": {}
      },
      "source": [
        "predicted = tf.cast(hypothesis > 0.5 , dtype=tf.float32)"
      ],
      "execution_count": 0,
      "outputs": []
    },
    {
      "cell_type": "code",
      "metadata": {
        "id": "ecp-EG3XWuFw",
        "colab_type": "code",
        "colab": {}
      },
      "source": [
        "accuracy = tf.reduce_mean(tf.cast(tf.equal(predicted, Y), dtype=tf.float32))"
      ],
      "execution_count": 0,
      "outputs": []
    },
    {
      "cell_type": "code",
      "metadata": {
        "id": "yI8S6FaiMRl7",
        "colab_type": "code",
        "colab": {}
      },
      "source": [
        "sess = tf.Session()"
      ],
      "execution_count": 0,
      "outputs": []
    },
    {
      "cell_type": "code",
      "metadata": {
        "id": "Y6DamJxYMTMC",
        "colab_type": "code",
        "colab": {}
      },
      "source": [
        "sess.run(tf.global_variables_initializer())"
      ],
      "execution_count": 0,
      "outputs": []
    },
    {
      "cell_type": "code",
      "metadata": {
        "id": "hCd2LhbXM-ti",
        "colab_type": "code",
        "colab": {}
      },
      "source": [
        "w_history = [] # 변화하는 가중치 행렬을 담기위한 리스트\n",
        "cost_list = [] # 감소하는 cost를 담기위한 리스트"
      ],
      "execution_count": 0,
      "outputs": []
    },
    {
      "cell_type": "code",
      "metadata": {
        "id": "knqz78V4JH1-",
        "colab_type": "code",
        "colab": {}
      },
      "source": [
        "n_fold = 5 # 5개의 폴드\n",
        "skf = StratifiedKFold(n_splits=n_fold) \n",
        "cv_accuracy = [] # 폴드세트별 정확도를 저장할 리스트"
      ],
      "execution_count": 0,
      "outputs": []
    },
    {
      "cell_type": "code",
      "metadata": {
        "id": "_2c4GtvAMVW_",
        "colab_type": "code",
        "outputId": "0544936c-d124-4b91-8139-4a887eb4a530",
        "colab": {
          "base_uri": "https://localhost:8080/",
          "height": 404
        }
      },
      "source": [
        "epochs = 4201\n",
        "  \n",
        "for step in range(epochs):\n",
        "  fold_cost = 0\n",
        "  fold_accuracy = 0\n",
        "  for train_index, test_index in skf.split(x_train, y_train):\n",
        "    train_random_index = np.random.permutation(train_index)\n",
        "    test_random_index = np.random.permutation(test_index)\n",
        "\n",
        "     # 학습폴드, 검증폴드 분리(피쳐, 레이블 별)\n",
        "    train_feature_fold, val_feature_fold = x_train[train_random_index], x_train[test_random_index]\n",
        "    train_label_fold, val_label_fold = y_train[train_random_index], y_train[test_random_index]\n",
        "\n",
        "    # 학습폴드를 기준으로 표준화\n",
        "    scaler.fit(train_feature_fold)\n",
        "    \n",
        "    # 학습폴드를 기준으로 학습폴드, 검증폴드를 표준화\n",
        "    train_feature_fold_scaled = scaler.transform(train_feature_fold) \n",
        "    val_feature_fold_scaled = scaler.transform(val_feature_fold) \n",
        "\n",
        "    # 학습폴드로 학습 \n",
        "    cost_val, W_all, _ = sess.run([cost, W, train], feed_dict={X:train_feature_fold_scaled, Y:train_label_fold})\n",
        "\n",
        "    fold_cost += cost_val\n",
        "    w_history.append(W_all.copy())  \n",
        "\n",
        "    # 폴드세트별 Accuracy 저장 \n",
        "    fold_accuracy += sess.run(accuracy, feed_dict={X:val_feature_fold_scaled, Y:val_label_fold})\n",
        "\n",
        "\n",
        "  cv_accuracy.append(fold_accuracy/n_fold) # epoch 별 검증폴드의 평균 Accuracy를 저장한다\n",
        "  cost_list.append(fold_cost/n_fold) # epoch 별 학습폴드의 평균 cost를 저장한다\n",
        "\n",
        "  if step % 200 == 0:\n",
        "    print(\"step=\",step,\" cost=\", fold_cost/n_fold, \"accuracy=\",fold_accuracy/n_fold)"
      ],
      "execution_count": 26,
      "outputs": [
        {
          "output_type": "stream",
          "text": [
            "step= 0  cost= 1.7755021810531617 accuracy= 0.27219071984291077\n",
            "step= 200  cost= 1.048154640197754 accuracy= 0.4905812621116638\n",
            "step= 400  cost= 0.6468131065368652 accuracy= 0.7757021069526673\n",
            "step= 600  cost= 0.46376176476478576 accuracy= 0.8811461448669433\n",
            "step= 800  cost= 0.36122732162475585 accuracy= 0.9115582942962647\n",
            "step= 1000  cost= 0.2970335364341736 accuracy= 0.9293584108352662\n",
            "step= 1200  cost= 0.2545289099216461 accuracy= 0.9395755290985107\n",
            "step= 1400  cost= 0.22490696012973785 accuracy= 0.9474781036376954\n",
            "step= 1600  cost= 0.20327675342559814 accuracy= 0.9543423652648926\n",
            "step= 1800  cost= 0.1868529200553894 accuracy= 0.9595308661460876\n",
            "step= 2000  cost= 0.17398538291454316 accuracy= 0.9643199205398559\n",
            "step= 2200  cost= 0.16364913582801818 accuracy= 0.9667145490646363\n",
            "step= 2400  cost= 0.15517720878124236 accuracy= 0.9679916143417359\n",
            "step= 2600  cost= 0.14811733067035676 accuracy= 0.9689494729042053\n",
            "step= 2800  cost= 0.142151939868927 accuracy= 0.9699871182441712\n",
            "step= 3000  cost= 0.13705157935619355 accuracy= 0.9705458045005798\n",
            "step= 3200  cost= 0.13264605402946472 accuracy= 0.9710247635841369\n",
            "step= 3400  cost= 0.12880675196647645 accuracy= 0.9714239239692688\n",
            "step= 3600  cost= 0.12543454319238662 accuracy= 0.9715836048126221\n",
            "step= 3800  cost= 0.12245179563760758 accuracy= 0.9720625758171082\n",
            "step= 4000  cost= 0.11979691833257675 accuracy= 0.9723020076751709\n",
            "step= 4200  cost= 0.1174205183982849 accuracy= 0.9724617242813111\n"
          ],
          "name": "stdout"
        }
      ]
    },
    {
      "cell_type": "code",
      "metadata": {
        "id": "7MGrAtdBMqy-",
        "colab_type": "code",
        "outputId": "de790505-1b2a-4362-e43f-7a10ea74ae3f",
        "colab": {
          "base_uri": "https://localhost:8080/",
          "height": 279
        }
      },
      "source": [
        "plt.plot(cost_list)\n",
        "plt.xlabel(\"epochs\")\n",
        "plt.ylabel(\"cost\")\n",
        "plt.show()"
      ],
      "execution_count": 30,
      "outputs": [
        {
          "output_type": "display_data",
          "data": {
            "image/png": "[encoded data removed]",
            "text/plain": [
              "<Figure size 432x288 with 1 Axes>"
            ]
          },
          "metadata": {
            "tags": [],
            "needs_background": "light"
          }
        }
      ]
    },
    {
      "cell_type": "code",
      "metadata": {
        "id": "msfRuarFXYs3",
        "colab_type": "code",
        "outputId": "a8b864fc-2177-40cd-db56-c68f8470019c",
        "colab": {
          "base_uri": "https://localhost:8080/",
          "height": 281
        }
      },
      "source": [
        "plt.plot(cv_accuracy)\n",
        "plt.xlabel(\"epochs\")\n",
        "plt.ylabel(\"cv_accuracy\")\n",
        "plt.show()"
      ],
      "execution_count": 31,
      "outputs": [
        {
          "output_type": "display_data",
          "data": {
            "image/png": "[encoded data removed]",
            "text/plain": [
              "<Figure size 432x288 with 1 Axes>"
            ]
          },
          "metadata": {
            "tags": [],
            "needs_background": "light"
          }
        }
      ]
    },
    {
      "cell_type": "code",
      "metadata": {
        "id": "oRGbJhrO-1_p",
        "colab_type": "code",
        "outputId": "225600dd-7eaf-4223-a30d-1c76251e4a6e",
        "colab": {
          "base_uri": "https://localhost:8080/",
          "height": 279
        }
      },
      "source": [
        "# 가중치 업데이트 과정 그래프 (임신횟수, 공복혈당농도)\n",
        "w0 = []\n",
        "w1 = []\n",
        "for w in  w_history:\n",
        "  w0.append(w[0])\n",
        "  w1.append(w[1])\n",
        "plt.plot(w0, w1)\n",
        "plt.plot(w0[-1], w1[-1],'bo')\n",
        "plt.xlabel('w[0]')\n",
        "plt.ylabel('w[1]')\n",
        "plt.show()"
      ],
      "execution_count": 32,
      "outputs": [
        {
          "output_type": "display_data",
          "data": {
            "image/png": "[encoded data removed]",
            "text/plain": [
              "<Figure size 432x288 with 1 Axes>"
            ]
          },
          "metadata": {
            "tags": [],
            "needs_background": "light"
          }
        }
      ]
    },
    {
      "cell_type": "code",
      "metadata": {
        "id": "8C_i1H-xQL3w",
        "colab_type": "code",
        "outputId": "87d8eecc-f6ca-410f-cbc1-73acc4a9ccc0",
        "colab": {
          "base_uri": "https://localhost:8080/",
          "height": 34
        }
      },
      "source": [
        "# 테스트 세트에 대한 정확도 구하기\n",
        "x_test_scaled = scaler.transform(x_test)\n",
        "a = sess.run(accuracy, feed_dict={X:x_test_scaled, Y:y_test})\n",
        "print(\"정확도 : \", str(a*100)[:5], \"%\", sep=\"\")"
      ],
      "execution_count": 33,
      "outputs": [
        {
          "output_type": "stream",
          "text": [
            "정확도 : 97.29%\n"
          ],
          "name": "stdout"
        }
      ]
    },
    {
      "cell_type": "code",
      "metadata": {
        "id": "le2IpBetVxYq",
        "colab_type": "code",
        "colab": {}
      },
      "source": [
        "# 임의의 샘플데이터 5개로 예측값 구해보기\n",
        "X_test_5 = np.array([[111,46,0.47,1.77,12.6,26.3,8.3,104],\n",
        "                     [5,46,0.47,1.77,12.6,26.3,8.3,104],     \n",
        "                     [111,1,0.47,1.77,12.6,26.3,8.3,104],    \n",
        "                     [111,46,8,1.77,12.6,26.3,8.3,104],      \n",
        "                     [111,46,0.47,70.77,12.6,26.3,8.3,104],  \n",
        "                     [111,46,0.47,1.77,300,26.3,8.3,104],    \n",
        "                     [111,46,0.47,1.77,12.6,110,8.3,104],    \n",
        "                     [111,46,0.47,1.77,12.6,26.3,40,104],    \n",
        "                     [111,46,0.47,1.77,12.6,26.3,8.3,1300]]) \n",
        "X_test_5_scaled = scaler.transform(X_test_5)"
      ],
      "execution_count": 0,
      "outputs": []
    },
    {
      "cell_type": "code",
      "metadata": {
        "id": "JJ3tLX9OssoR",
        "colab_type": "code",
        "outputId": "a473a5ad-121d-4a1d-91b9-ac3f45aebd16",
        "colab": {
          "base_uri": "https://localhost:8080/",
          "height": 175
        }
      },
      "source": [
        "print(sess.run(predicted, feed_dict={X:X_test_5_scaled}))"
      ],
      "execution_count": 143,
      "outputs": [
        {
          "output_type": "stream",
          "text": [
            "[[0.]\n",
            " [1.]\n",
            " [0.]\n",
            " [1.]\n",
            " [1.]\n",
            " [0.]\n",
            " [1.]\n",
            " [1.]\n",
            " [0.]]\n"
          ],
          "name": "stdout"
        }
      ]
    },
    {
      "cell_type": "code",
      "metadata": {
        "id": "3ZouWe-yQFjA",
        "colab_type": "code",
        "outputId": "932e9fc5-5c46-4887-936a-6d1162dd78b7",
        "colab": {
          "base_uri": "https://localhost:8080/",
          "height": 107
        }
      },
      "source": [
        "try:\n",
        "  x_input = input(\"입력(통합 프로필 평균, 통합 프로필 표준편차, 통합 프로필 과도한 첨도, 통합 프로필 왜곡도, DM-SNR 곡선의 평균, DM-SNR 곡선의 표준편차, DM-SNR 곡선의 과도한 첨도, DM-SNR 곡선의 왜곡도): \")\n",
        "  if x_input == 'x':\n",
        "    raise NotImplementedError\n",
        "  x_input_strip =[ float(i.strip()) for i in x_input.split(\",\")]\n",
        "  print(\"통합 프로필 평균\\t통합 프로필 표준편차\\t통합 프로필 과도한 첨도\\t\\t통합 프로필 왜곡도\\tDM-SNR 곡선의 평균\\tDM-SNR 곡선의 표준편차\\t\\tDM-SNR 곡선의 과도한 첨도\\tDM-SNR 곡선의 왜곡도\")\n",
        "  for i in x_input_strip:\n",
        "    print(i,end=\"\\t\\t\")\n",
        "  print()\n",
        "  x_input_test = np.array([x_input_strip]).astype('float32')\n",
        "\n",
        "  x_input_test_scaled = scaler.transform(x_input_test)\n",
        "\n",
        "  print(\"예상 결과 : \", (sess.run(predicted, feed_dict={X:x_input_test_scaled}))) \n",
        "  \n",
        "except ValueError:\n",
        "  print(\"입력을 다시 확인해주세요\")\n",
        "except NotImplementedError:\n",
        "  print(\"종료\")"
      ],
      "execution_count": 144,
      "outputs": [
        {
          "output_type": "stream",
          "text": [
            "입력(통합 프로필 평균, 통합 프로필 표준편차, 통합 프로필 과도한 첨도, 통합 프로필 왜곡도, DM-SNR 곡선의 평균, DM-SNR 곡선의 표준편차, DM-SNR 곡선의 과도한 첨도, DM-SNR 곡선의 왜곡도): 111,46,0.47,1.77,12.6,26.3,8.3,104\n",
            "통합 프로필 평균\t통합 프로필 표준편차\t통합 프로필 과도한 첨도\t\t통합 프로필 왜곡도\tDM-SNR 곡선의 평균\tDM-SNR 곡선의 표준편차\t\tDM-SNR 곡선의 과도한 첨도\tDM-SNR 곡선의 왜곡도\n",
            "111.0\t\t46.0\t\t0.47\t\t1.77\t\t12.6\t\t26.3\t\t8.3\t\t104.0\t\t\n",
            "예상 결과 :  [[0.]]\n"
          ],
          "name": "stdout"
        }
      ]
    },
    {
      "cell_type": "code",
      "metadata": {
        "id": "Idmngbn5BbRv",
        "colab_type": "code",
        "colab": {}
      },
      "source": [
        "result_df = pd.DataFrame(X_test_5, columns=['통합프로필 평균', '통합프로필 표준편차', '통합프로필 과도한첨도', '통합프로필 왜곡도', 'DM-SNR 곡선의 평균', 'DM-SNR 곡선의 표준편차', 'DM-SNR 곡선의 과도한 첨도', 'DM-SNR 곡선의 왜곡도'])"
      ],
      "execution_count": 0,
      "outputs": []
    },
    {
      "cell_type": "code",
      "metadata": {
        "id": "CIZsGePeBolu",
        "colab_type": "code",
        "outputId": "22d5ffea-2a68-41d2-f35d-007b012f7ed1",
        "colab": {
          "base_uri": "https://localhost:8080/",
          "height": 314
        }
      },
      "source": [
        "result_df"
      ],
      "execution_count": 151,
      "outputs": [
        {
          "output_type": "execute_result",
          "data": {
            "text/html": [
              "<div>\n",
              "<style scoped>\n",
              "    .dataframe tbody tr th:only-of-type {\n",
              "        vertical-align: middle;\n",
              "    }\n",
              "\n",
              "    .dataframe tbody tr th {\n",
              "        vertical-align: top;\n",
              "    }\n",
              "\n",
              "    .dataframe thead th {\n",
              "        text-align: right;\n",
              "    }\n",
              "</style>\n",
              "<table border=\"1\" class=\"dataframe\">\n",
              "  <thead>\n",
              "    <tr style=\"text-align: right;\">\n",
              "      <th></th>\n",
              "      <th>통합프로필 평균</th>\n",
              "      <th>통합프로필 표준편차</th>\n",
              "      <th>통합프로필 과도한첨도</th>\n",
              "      <th>통합프로필 왜곡도</th>\n",
              "      <th>DM-SNR 곡선의 평균</th>\n",
              "      <th>DM-SNR 곡선의 표준편차</th>\n",
              "      <th>DM-SNR 곡선의 과도한 첨도</th>\n",
              "      <th>DM-SNR 곡선의 왜곡도</th>\n",
              "    </tr>\n",
              "  </thead>\n",
              "  <tbody>\n",
              "    <tr>\n",
              "      <th>0</th>\n",
              "      <td>111.0</td>\n",
              "      <td>46.0</td>\n",
              "      <td>0.47</td>\n",
              "      <td>1.77</td>\n",
              "      <td>12.6</td>\n",
              "      <td>26.3</td>\n",
              "      <td>8.3</td>\n",
              "      <td>104.0</td>\n",
              "    </tr>\n",
              "    <tr>\n",
              "      <th>1</th>\n",
              "      <td>5.0</td>\n",
              "      <td>46.0</td>\n",
              "      <td>0.47</td>\n",
              "      <td>1.77</td>\n",
              "      <td>12.6</td>\n",
              "      <td>26.3</td>\n",
              "      <td>8.3</td>\n",
              "      <td>104.0</td>\n",
              "    </tr>\n",
              "    <tr>\n",
              "      <th>2</th>\n",
              "      <td>111.0</td>\n",
              "      <td>1.0</td>\n",
              "      <td>0.47</td>\n",
              "      <td>1.77</td>\n",
              "      <td>12.6</td>\n",
              "      <td>26.3</td>\n",
              "      <td>8.3</td>\n",
              "      <td>104.0</td>\n",
              "    </tr>\n",
              "    <tr>\n",
              "      <th>3</th>\n",
              "      <td>111.0</td>\n",
              "      <td>46.0</td>\n",
              "      <td>8.00</td>\n",
              "      <td>1.77</td>\n",
              "      <td>12.6</td>\n",
              "      <td>26.3</td>\n",
              "      <td>8.3</td>\n",
              "      <td>104.0</td>\n",
              "    </tr>\n",
              "    <tr>\n",
              "      <th>4</th>\n",
              "      <td>111.0</td>\n",
              "      <td>46.0</td>\n",
              "      <td>0.47</td>\n",
              "      <td>70.77</td>\n",
              "      <td>12.6</td>\n",
              "      <td>26.3</td>\n",
              "      <td>8.3</td>\n",
              "      <td>104.0</td>\n",
              "    </tr>\n",
              "    <tr>\n",
              "      <th>5</th>\n",
              "      <td>111.0</td>\n",
              "      <td>46.0</td>\n",
              "      <td>0.47</td>\n",
              "      <td>1.77</td>\n",
              "      <td>300.0</td>\n",
              "      <td>26.3</td>\n",
              "      <td>8.3</td>\n",
              "      <td>104.0</td>\n",
              "    </tr>\n",
              "    <tr>\n",
              "      <th>6</th>\n",
              "      <td>111.0</td>\n",
              "      <td>46.0</td>\n",
              "      <td>0.47</td>\n",
              "      <td>1.77</td>\n",
              "      <td>12.6</td>\n",
              "      <td>110.0</td>\n",
              "      <td>8.3</td>\n",
              "      <td>104.0</td>\n",
              "    </tr>\n",
              "    <tr>\n",
              "      <th>7</th>\n",
              "      <td>111.0</td>\n",
              "      <td>46.0</td>\n",
              "      <td>0.47</td>\n",
              "      <td>1.77</td>\n",
              "      <td>12.6</td>\n",
              "      <td>26.3</td>\n",
              "      <td>40.0</td>\n",
              "      <td>104.0</td>\n",
              "    </tr>\n",
              "    <tr>\n",
              "      <th>8</th>\n",
              "      <td>111.0</td>\n",
              "      <td>46.0</td>\n",
              "      <td>0.47</td>\n",
              "      <td>1.77</td>\n",
              "      <td>12.6</td>\n",
              "      <td>26.3</td>\n",
              "      <td>8.3</td>\n",
              "      <td>1300.0</td>\n",
              "    </tr>\n",
              "  </tbody>\n",
              "</table>\n",
              "</div>"
            ],
            "text/plain": [
              "   통합프로필 평균  통합프로필 표준편차  ...  DM-SNR 곡선의 과도한 첨도  DM-SNR 곡선의 왜곡도\n",
              "0     111.0        46.0  ...                8.3           104.0\n",
              "1       5.0        46.0  ...                8.3           104.0\n",
              "2     111.0         1.0  ...                8.3           104.0\n",
              "3     111.0        46.0  ...                8.3           104.0\n",
              "4     111.0        46.0  ...                8.3           104.0\n",
              "5     111.0        46.0  ...                8.3           104.0\n",
              "6     111.0        46.0  ...                8.3           104.0\n",
              "7     111.0        46.0  ...               40.0           104.0\n",
              "8     111.0        46.0  ...                8.3          1300.0\n",
              "\n",
              "[9 rows x 8 columns]"
            ]
          },
          "metadata": {
            "tags": []
          },
          "execution_count": 151
        }
      ]
    },
    {
      "cell_type": "code",
      "metadata": {
        "id": "AoFIdkYPCNHT",
        "colab_type": "code",
        "colab": {}
      },
      "source": [
        "result_df['예측 결과'] = sess.run(predicted, feed_dict={X:X_test_5_scaled})"
      ],
      "execution_count": 0,
      "outputs": []
    },
    {
      "cell_type": "code",
      "metadata": {
        "id": "odX-YWHKCVRL",
        "colab_type": "code",
        "colab": {}
      },
      "source": [
        "result_df.loc[result_df[\"예측 결과\"]==1,\"예측 결과\"] = \"O\"\n",
        "result_df.loc[result_df[\"예측 결과\"]==0,\"예측 결과\"] = \"X\""
      ],
      "execution_count": 0,
      "outputs": []
    },
    {
      "cell_type": "code",
      "metadata": {
        "id": "W7YxCgiU2E1B",
        "colab_type": "code",
        "outputId": "d4e3abf6-b96b-4ac2-c2d7-1365459b3766",
        "colab": {
          "base_uri": "https://localhost:8080/",
          "height": 314
        }
      },
      "source": [
        "result_df"
      ],
      "execution_count": 154,
      "outputs": [
        {
          "output_type": "execute_result",
          "data": {
            "text/html": [
              "<div>\n",
              "<style scoped>\n",
              "    .dataframe tbody tr th:only-of-type {\n",
              "        vertical-align: middle;\n",
              "    }\n",
              "\n",
              "    .dataframe tbody tr th {\n",
              "        vertical-align: top;\n",
              "    }\n",
              "\n",
              "    .dataframe thead th {\n",
              "        text-align: right;\n",
              "    }\n",
              "</style>\n",
              "<table border=\"1\" class=\"dataframe\">\n",
              "  <thead>\n",
              "    <tr style=\"text-align: right;\">\n",
              "      <th></th>\n",
              "      <th>통합프로필 평균</th>\n",
              "      <th>통합프로필 표준편차</th>\n",
              "      <th>통합프로필 과도한첨도</th>\n",
              "      <th>통합프로필 왜곡도</th>\n",
              "      <th>DM-SNR 곡선의 평균</th>\n",
              "      <th>DM-SNR 곡선의 표준편차</th>\n",
              "      <th>DM-SNR 곡선의 과도한 첨도</th>\n",
              "      <th>DM-SNR 곡선의 왜곡도</th>\n",
              "      <th>예측 결과</th>\n",
              "    </tr>\n",
              "  </thead>\n",
              "  <tbody>\n",
              "    <tr>\n",
              "      <th>0</th>\n",
              "      <td>111.0</td>\n",
              "      <td>46.0</td>\n",
              "      <td>0.47</td>\n",
              "      <td>1.77</td>\n",
              "      <td>12.6</td>\n",
              "      <td>26.3</td>\n",
              "      <td>8.3</td>\n",
              "      <td>104.0</td>\n",
              "      <td>X</td>\n",
              "    </tr>\n",
              "    <tr>\n",
              "      <th>1</th>\n",
              "      <td>5.0</td>\n",
              "      <td>46.0</td>\n",
              "      <td>0.47</td>\n",
              "      <td>1.77</td>\n",
              "      <td>12.6</td>\n",
              "      <td>26.3</td>\n",
              "      <td>8.3</td>\n",
              "      <td>104.0</td>\n",
              "      <td>O</td>\n",
              "    </tr>\n",
              "    <tr>\n",
              "      <th>2</th>\n",
              "      <td>111.0</td>\n",
              "      <td>1.0</td>\n",
              "      <td>0.47</td>\n",
              "      <td>1.77</td>\n",
              "      <td>12.6</td>\n",
              "      <td>26.3</td>\n",
              "      <td>8.3</td>\n",
              "      <td>104.0</td>\n",
              "      <td>X</td>\n",
              "    </tr>\n",
              "    <tr>\n",
              "      <th>3</th>\n",
              "      <td>111.0</td>\n",
              "      <td>46.0</td>\n",
              "      <td>8.00</td>\n",
              "      <td>1.77</td>\n",
              "      <td>12.6</td>\n",
              "      <td>26.3</td>\n",
              "      <td>8.3</td>\n",
              "      <td>104.0</td>\n",
              "      <td>O</td>\n",
              "    </tr>\n",
              "    <tr>\n",
              "      <th>4</th>\n",
              "      <td>111.0</td>\n",
              "      <td>46.0</td>\n",
              "      <td>0.47</td>\n",
              "      <td>70.77</td>\n",
              "      <td>12.6</td>\n",
              "      <td>26.3</td>\n",
              "      <td>8.3</td>\n",
              "      <td>104.0</td>\n",
              "      <td>O</td>\n",
              "    </tr>\n",
              "    <tr>\n",
              "      <th>5</th>\n",
              "      <td>111.0</td>\n",
              "      <td>46.0</td>\n",
              "      <td>0.47</td>\n",
              "      <td>1.77</td>\n",
              "      <td>300.0</td>\n",
              "      <td>26.3</td>\n",
              "      <td>8.3</td>\n",
              "      <td>104.0</td>\n",
              "      <td>X</td>\n",
              "    </tr>\n",
              "    <tr>\n",
              "      <th>6</th>\n",
              "      <td>111.0</td>\n",
              "      <td>46.0</td>\n",
              "      <td>0.47</td>\n",
              "      <td>1.77</td>\n",
              "      <td>12.6</td>\n",
              "      <td>110.0</td>\n",
              "      <td>8.3</td>\n",
              "      <td>104.0</td>\n",
              "      <td>O</td>\n",
              "    </tr>\n",
              "    <tr>\n",
              "      <th>7</th>\n",
              "      <td>111.0</td>\n",
              "      <td>46.0</td>\n",
              "      <td>0.47</td>\n",
              "      <td>1.77</td>\n",
              "      <td>12.6</td>\n",
              "      <td>26.3</td>\n",
              "      <td>40.0</td>\n",
              "      <td>104.0</td>\n",
              "      <td>O</td>\n",
              "    </tr>\n",
              "    <tr>\n",
              "      <th>8</th>\n",
              "      <td>111.0</td>\n",
              "      <td>46.0</td>\n",
              "      <td>0.47</td>\n",
              "      <td>1.77</td>\n",
              "      <td>12.6</td>\n",
              "      <td>26.3</td>\n",
              "      <td>8.3</td>\n",
              "      <td>1300.0</td>\n",
              "      <td>X</td>\n",
              "    </tr>\n",
              "  </tbody>\n",
              "</table>\n",
              "</div>"
            ],
            "text/plain": [
              "   통합프로필 평균  통합프로필 표준편차  통합프로필 과도한첨도  ...  DM-SNR 곡선의 과도한 첨도  DM-SNR 곡선의 왜곡도  예측 결과\n",
              "0     111.0        46.0         0.47  ...                8.3           104.0      X\n",
              "1       5.0        46.0         0.47  ...                8.3           104.0      O\n",
              "2     111.0         1.0         0.47  ...                8.3           104.0      X\n",
              "3     111.0        46.0         8.00  ...                8.3           104.0      O\n",
              "4     111.0        46.0         0.47  ...                8.3           104.0      O\n",
              "5     111.0        46.0         0.47  ...                8.3           104.0      X\n",
              "6     111.0        46.0         0.47  ...                8.3           104.0      O\n",
              "7     111.0        46.0         0.47  ...               40.0           104.0      O\n",
              "8     111.0        46.0         0.47  ...                8.3          1300.0      X\n",
              "\n",
              "[9 rows x 9 columns]"
            ]
          },
          "metadata": {
            "tags": []
          },
          "execution_count": 154
        }
      ]
    },
    {
      "cell_type": "code",
      "metadata": {
        "id": "hoQyQFRg2QC2",
        "colab_type": "code",
        "colab": {}
      },
      "source": [
        "sess.close()"
      ],
      "execution_count": 0,
      "outputs": []
    }
  ]
}