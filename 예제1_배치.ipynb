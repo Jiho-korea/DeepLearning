{
  "nbformat": 4,
  "nbformat_minor": 0,
  "metadata": {
    "colab": {
      "name": "예제1_배치",
      "provenance": [],
      "collapsed_sections": [],
      "authorship_tag": "ABX9TyMI8BHh3J3BMxoFPuXkEE+t",
      "include_colab_link": true
    },
    "kernelspec": {
      "name": "python3",
      "display_name": "Python 3"
    }
  },
  "cells": [
    {
      "cell_type": "markdown",
      "metadata": {
        "id": "view-in-github",
        "colab_type": "text"
      },
      "source": [
        "<a href=\"https://colab.research.google.com/github/Jiho-korea/DeepLearning/blob/master/%EC%98%88%EC%A0%9C1_%EB%B0%B0%EC%B9%98.ipynb\" target=\"_parent\"><img src=\"https://colab.research.google.com/assets/colab-badge.svg\" alt=\"Open In Colab\"/></a>"
      ]
    },
    {
      "cell_type": "code",
      "metadata": {
        "id": "SB0vIfH0objU",
        "colab_type": "code",
        "outputId": "0a198862-f98c-4b00-f8e2-9433a463a75d",
        "colab": {
          "base_uri": "https://localhost:8080/",
          "height": 125
        }
      },
      "source": [
        "from google.colab import drive\n",
        "drive.mount('/gdrive', force_remount=True)"
      ],
      "execution_count": 0,
      "outputs": [
        {
          "output_type": "stream",
          "text": [
            "Go to this URL in a browser: https://accounts.google.com/o/oauth2/auth?client_id=947318989803-6bn6qk8qdgf4n4g3pfee6491hc0brc4i.apps.googleusercontent.com&redirect_uri=urn%3aietf%3awg%3aoauth%3a2.0%3aoob&response_type=code&scope=email%20https%3a%2f%2fwww.googleapis.com%2fauth%2fdocs.test%20https%3a%2f%2fwww.googleapis.com%2fauth%2fdrive%20https%3a%2f%2fwww.googleapis.com%2fauth%2fdrive.photos.readonly%20https%3a%2f%2fwww.googleapis.com%2fauth%2fpeopleapi.readonly\n",
            "\n",
            "Enter your authorization code:\n",
            "··········\n",
            "Mounted at /gdrive\n"
          ],
          "name": "stdout"
        }
      ]
    },
    {
      "cell_type": "code",
      "metadata": {
        "id": "YYkn9L2BmpS4",
        "colab_type": "code",
        "outputId": "d0ee0dcf-5f76-42ef-d139-fd2a76739fee",
        "colab": {
          "base_uri": "https://localhost:8080/",
          "height": 862
        }
      },
      "source": [
        "!pip install --upgrade tensorflow==1.15.0"
      ],
      "execution_count": 0,
      "outputs": [
        {
          "output_type": "stream",
          "text": [
            "Collecting tensorflow==1.15.0\n",
            "\u001b[?25l  Downloading https://files.pythonhosted.org/packages/3f/98/5a99af92fb911d7a88a0005ad55005f35b4c1ba8d75fba02df726cd936e6/tensorflow-1.15.0-cp36-cp36m-manylinux2010_x86_64.whl (412.3MB)\n",
            "\u001b[K     |████████████████████████████████| 412.3MB 36kB/s \n",
            "\u001b[?25hCollecting tensorflow-estimator==1.15.1\n",
            "\u001b[?25l  Downloading https://files.pythonhosted.org/packages/de/62/2ee9cd74c9fa2fa450877847ba560b260f5d0fb70ee0595203082dafcc9d/tensorflow_estimator-1.15.1-py2.py3-none-any.whl (503kB)\n",
            "\u001b[K     |████████████████████████████████| 512kB 34.3MB/s \n",
            "\u001b[?25hCollecting tensorboard<1.16.0,>=1.15.0\n",
            "\u001b[?25l  Downloading https://files.pythonhosted.org/packages/1e/e9/d3d747a97f7188f48aa5eda486907f3b345cd409f0a0850468ba867db246/tensorboard-1.15.0-py3-none-any.whl (3.8MB)\n",
            "\u001b[K     |████████████████████████████████| 3.8MB 43.8MB/s \n",
            "\u001b[?25hCollecting gast==0.2.2\n",
            "  Downloading https://files.pythonhosted.org/packages/4e/35/11749bf99b2d4e3cceb4d55ca22590b0d7c2c62b9de38ac4a4a7f4687421/gast-0.2.2.tar.gz\n",
            "Requirement already satisfied, skipping upgrade: numpy<2.0,>=1.16.0 in /usr/local/lib/python3.6/dist-packages (from tensorflow==1.15.0) (1.18.4)\n",
            "Requirement already satisfied, skipping upgrade: keras-preprocessing>=1.0.5 in /usr/local/lib/python3.6/dist-packages (from tensorflow==1.15.0) (1.1.0)\n",
            "Requirement already satisfied, skipping upgrade: google-pasta>=0.1.6 in /usr/local/lib/python3.6/dist-packages (from tensorflow==1.15.0) (0.2.0)\n",
            "Requirement already satisfied, skipping upgrade: keras-applications>=1.0.8 in /usr/local/lib/python3.6/dist-packages (from tensorflow==1.15.0) (1.0.8)\n",
            "Requirement already satisfied, skipping upgrade: termcolor>=1.1.0 in /usr/local/lib/python3.6/dist-packages (from tensorflow==1.15.0) (1.1.0)\n",
            "Requirement already satisfied, skipping upgrade: astor>=0.6.0 in /usr/local/lib/python3.6/dist-packages (from tensorflow==1.15.0) (0.8.1)\n",
            "Requirement already satisfied, skipping upgrade: six>=1.10.0 in /usr/local/lib/python3.6/dist-packages (from tensorflow==1.15.0) (1.12.0)\n",
            "Requirement already satisfied, skipping upgrade: grpcio>=1.8.6 in /usr/local/lib/python3.6/dist-packages (from tensorflow==1.15.0) (1.28.1)\n",
            "Requirement already satisfied, skipping upgrade: wrapt>=1.11.1 in /usr/local/lib/python3.6/dist-packages (from tensorflow==1.15.0) (1.12.1)\n",
            "Requirement already satisfied, skipping upgrade: opt-einsum>=2.3.2 in /usr/local/lib/python3.6/dist-packages (from tensorflow==1.15.0) (3.2.1)\n",
            "Requirement already satisfied, skipping upgrade: protobuf>=3.6.1 in /usr/local/lib/python3.6/dist-packages (from tensorflow==1.15.0) (3.10.0)\n",
            "Requirement already satisfied, skipping upgrade: absl-py>=0.7.0 in /usr/local/lib/python3.6/dist-packages (from tensorflow==1.15.0) (0.9.0)\n",
            "Requirement already satisfied, skipping upgrade: wheel>=0.26 in /usr/local/lib/python3.6/dist-packages (from tensorflow==1.15.0) (0.34.2)\n",
            "Requirement already satisfied, skipping upgrade: werkzeug>=0.11.15 in /usr/local/lib/python3.6/dist-packages (from tensorboard<1.16.0,>=1.15.0->tensorflow==1.15.0) (1.0.1)\n",
            "Requirement already satisfied, skipping upgrade: markdown>=2.6.8 in /usr/local/lib/python3.6/dist-packages (from tensorboard<1.16.0,>=1.15.0->tensorflow==1.15.0) (3.2.1)\n",
            "Requirement already satisfied, skipping upgrade: setuptools>=41.0.0 in /usr/local/lib/python3.6/dist-packages (from tensorboard<1.16.0,>=1.15.0->tensorflow==1.15.0) (46.3.0)\n",
            "Requirement already satisfied, skipping upgrade: h5py in /usr/local/lib/python3.6/dist-packages (from keras-applications>=1.0.8->tensorflow==1.15.0) (2.10.0)\n",
            "Building wheels for collected packages: gast\n",
            "  Building wheel for gast (setup.py) ... \u001b[?25l\u001b[?25hdone\n",
            "  Created wheel for gast: filename=gast-0.2.2-cp36-none-any.whl size=7540 sha256=2d4de770fc5e9b9f25b0fca416cf1f5d97b8701d121263c151a0406451c1c53c\n",
            "  Stored in directory: /root/.cache/pip/wheels/5c/2e/7e/a1d4d4fcebe6c381f378ce7743a3ced3699feb89bcfbdadadd\n",
            "Successfully built gast\n",
            "\u001b[31mERROR: tensorflow-probability 0.10.0rc0 has requirement gast>=0.3.2, but you'll have gast 0.2.2 which is incompatible.\u001b[0m\n",
            "Installing collected packages: tensorflow-estimator, tensorboard, gast, tensorflow\n",
            "  Found existing installation: tensorflow-estimator 2.2.0\n",
            "    Uninstalling tensorflow-estimator-2.2.0:\n",
            "      Successfully uninstalled tensorflow-estimator-2.2.0\n",
            "  Found existing installation: tensorboard 2.2.1\n",
            "    Uninstalling tensorboard-2.2.1:\n",
            "      Successfully uninstalled tensorboard-2.2.1\n",
            "  Found existing installation: gast 0.3.3\n",
            "    Uninstalling gast-0.3.3:\n",
            "      Successfully uninstalled gast-0.3.3\n",
            "  Found existing installation: tensorflow 2.2.0\n",
            "    Uninstalling tensorflow-2.2.0:\n",
            "      Successfully uninstalled tensorflow-2.2.0\n",
            "Successfully installed gast-0.2.2 tensorboard-1.15.0 tensorflow-1.15.0 tensorflow-estimator-1.15.1\n"
          ],
          "name": "stdout"
        }
      ]
    },
    {
      "cell_type": "code",
      "metadata": {
        "id": "DWpRnLAjmYgo",
        "colab_type": "code",
        "colab": {}
      },
      "source": [
        "import tensorflow as tf\n",
        "import numpy as np\n",
        "import pandas as pd\n",
        "import matplotlib.pyplot as plt\n",
        "from sklearn.model_selection import train_test_split"
      ],
      "execution_count": 0,
      "outputs": []
    },
    {
      "cell_type": "code",
      "metadata": {
        "id": "-qAOoLa2n-zE",
        "colab_type": "code",
        "colab": {}
      },
      "source": [
        "tf.set_random_seed(777)"
      ],
      "execution_count": 0,
      "outputs": []
    },
    {
      "cell_type": "code",
      "metadata": {
        "id": "qw3zM1dOoX6h",
        "colab_type": "code",
        "colab": {}
      },
      "source": [
        "# 데이터 확인, 분석을 위해 numpy로 불러들이는 것이 아닌 pandas 를 사용함 \n",
        "xy_df = pd.read_csv('/gdrive/My Drive/Colab Notebooks/DeepLearningPrac/tensorflowPrac/tensorflowHW/예제1_맥주소비량.csv') # numpy 대신 pandas 를 사용해 칼럼명까지 같이 읽어들임\n",
        "xy_df = xy_df.dropna(how='all', axis=0)  # 결측치 제거"
      ],
      "execution_count": 0,
      "outputs": []
    },
    {
      "cell_type": "code",
      "metadata": {
        "id": "u9kC3p7yo_VG",
        "colab_type": "code",
        "colab": {}
      },
      "source": [
        "xy_df.drop(\"Data\", axis=1, inplace=True)  # 필요없는 칼럼(날짜) 제거"
      ],
      "execution_count": 0,
      "outputs": []
    },
    {
      "cell_type": "code",
      "metadata": {
        "id": "qVUVqaTosXtJ",
        "colab_type": "code",
        "outputId": "5cadf6e1-0604-4dd8-e23a-bd9ce8866c75",
        "colab": {
          "base_uri": "https://localhost:8080/",
          "height": 402
        }
      },
      "source": [
        "xy_df.columns = ['평균 온도(C)', '최저 온도(C)', '최고 온도(C)', '강수량(mm)', '주말 여부', '맥주 소비량(L)']  # 칼럼명 한글로 변경\n",
        "xy_df # 데이터프레임 확인"
      ],
      "execution_count": 0,
      "outputs": [
        {
          "output_type": "execute_result",
          "data": {
            "text/html": [
              "<div>\n",
              "<style scoped>\n",
              "    .dataframe tbody tr th:only-of-type {\n",
              "        vertical-align: middle;\n",
              "    }\n",
              "\n",
              "    .dataframe tbody tr th {\n",
              "        vertical-align: top;\n",
              "    }\n",
              "\n",
              "    .dataframe thead th {\n",
              "        text-align: right;\n",
              "    }\n",
              "</style>\n",
              "<table border=\"1\" class=\"dataframe\">\n",
              "  <thead>\n",
              "    <tr style=\"text-align: right;\">\n",
              "      <th></th>\n",
              "      <th>평균 온도(C)</th>\n",
              "      <th>최저 온도(C)</th>\n",
              "      <th>최고 온도(C)</th>\n",
              "      <th>강수량(mm)</th>\n",
              "      <th>주말 여부</th>\n",
              "      <th>맥주 소비량(L)</th>\n",
              "    </tr>\n",
              "  </thead>\n",
              "  <tbody>\n",
              "    <tr>\n",
              "      <th>0</th>\n",
              "      <td>27.30</td>\n",
              "      <td>23.9</td>\n",
              "      <td>32.5</td>\n",
              "      <td>0.0</td>\n",
              "      <td>0</td>\n",
              "      <td>25.461</td>\n",
              "    </tr>\n",
              "    <tr>\n",
              "      <th>1</th>\n",
              "      <td>27.02</td>\n",
              "      <td>24.5</td>\n",
              "      <td>33.5</td>\n",
              "      <td>0.0</td>\n",
              "      <td>0</td>\n",
              "      <td>28.972</td>\n",
              "    </tr>\n",
              "    <tr>\n",
              "      <th>2</th>\n",
              "      <td>24.82</td>\n",
              "      <td>22.4</td>\n",
              "      <td>29.9</td>\n",
              "      <td>0.0</td>\n",
              "      <td>1</td>\n",
              "      <td>30.814</td>\n",
              "    </tr>\n",
              "    <tr>\n",
              "      <th>3</th>\n",
              "      <td>23.98</td>\n",
              "      <td>21.5</td>\n",
              "      <td>28.6</td>\n",
              "      <td>1.2</td>\n",
              "      <td>1</td>\n",
              "      <td>29.799</td>\n",
              "    </tr>\n",
              "    <tr>\n",
              "      <th>4</th>\n",
              "      <td>23.82</td>\n",
              "      <td>21.0</td>\n",
              "      <td>28.3</td>\n",
              "      <td>0.0</td>\n",
              "      <td>0</td>\n",
              "      <td>28.900</td>\n",
              "    </tr>\n",
              "    <tr>\n",
              "      <th>...</th>\n",
              "      <td>...</td>\n",
              "      <td>...</td>\n",
              "      <td>...</td>\n",
              "      <td>...</td>\n",
              "      <td>...</td>\n",
              "      <td>...</td>\n",
              "    </tr>\n",
              "    <tr>\n",
              "      <th>360</th>\n",
              "      <td>24.00</td>\n",
              "      <td>21.1</td>\n",
              "      <td>28.2</td>\n",
              "      <td>13.6</td>\n",
              "      <td>1</td>\n",
              "      <td>32.307</td>\n",
              "    </tr>\n",
              "    <tr>\n",
              "      <th>361</th>\n",
              "      <td>22.64</td>\n",
              "      <td>21.1</td>\n",
              "      <td>26.7</td>\n",
              "      <td>0.0</td>\n",
              "      <td>0</td>\n",
              "      <td>26.095</td>\n",
              "    </tr>\n",
              "    <tr>\n",
              "      <th>362</th>\n",
              "      <td>21.68</td>\n",
              "      <td>20.3</td>\n",
              "      <td>24.1</td>\n",
              "      <td>10.3</td>\n",
              "      <td>0</td>\n",
              "      <td>22.309</td>\n",
              "    </tr>\n",
              "    <tr>\n",
              "      <th>363</th>\n",
              "      <td>21.38</td>\n",
              "      <td>19.3</td>\n",
              "      <td>22.4</td>\n",
              "      <td>6.3</td>\n",
              "      <td>0</td>\n",
              "      <td>20.467</td>\n",
              "    </tr>\n",
              "    <tr>\n",
              "      <th>364</th>\n",
              "      <td>24.76</td>\n",
              "      <td>20.2</td>\n",
              "      <td>29.0</td>\n",
              "      <td>0.0</td>\n",
              "      <td>0</td>\n",
              "      <td>22.446</td>\n",
              "    </tr>\n",
              "  </tbody>\n",
              "</table>\n",
              "<p>365 rows × 6 columns</p>\n",
              "</div>"
            ],
            "text/plain": [
              "     평균 온도(C)  최저 온도(C)  최고 온도(C)  강수량(mm)  주말 여부  맥주 소비량(L)\n",
              "0       27.30      23.9      32.5      0.0      0     25.461\n",
              "1       27.02      24.5      33.5      0.0      0     28.972\n",
              "2       24.82      22.4      29.9      0.0      1     30.814\n",
              "3       23.98      21.5      28.6      1.2      1     29.799\n",
              "4       23.82      21.0      28.3      0.0      0     28.900\n",
              "..        ...       ...       ...      ...    ...        ...\n",
              "360     24.00      21.1      28.2     13.6      1     32.307\n",
              "361     22.64      21.1      26.7      0.0      0     26.095\n",
              "362     21.68      20.3      24.1     10.3      0     22.309\n",
              "363     21.38      19.3      22.4      6.3      0     20.467\n",
              "364     24.76      20.2      29.0      0.0      0     22.446\n",
              "\n",
              "[365 rows x 6 columns]"
            ]
          },
          "metadata": {
            "tags": []
          },
          "execution_count": 5
        }
      ]
    },
    {
      "cell_type": "code",
      "metadata": {
        "id": "D_hC1k55tKG1",
        "colab_type": "code",
        "colab": {}
      },
      "source": [
        "y_data = xy_df['맥주 소비량(L)'].values.reshape(-1,1)  # 레이블 데이터(맥주소비량)를 numpy로 추출"
      ],
      "execution_count": 0,
      "outputs": []
    },
    {
      "cell_type": "code",
      "metadata": {
        "id": "WZo_o7lFup5j",
        "colab_type": "code",
        "outputId": "b8c8b710-f7bc-4a29-d82f-061852265e89",
        "colab": {
          "base_uri": "https://localhost:8080/",
          "height": 158
        }
      },
      "source": [
        "print(y_data.shape)\n",
        "print(y_data[:7]) #레이블 확인"
      ],
      "execution_count": 0,
      "outputs": [
        {
          "output_type": "stream",
          "text": [
            "(365, 1)\n",
            "[[25.461]\n",
            " [28.972]\n",
            " [30.814]\n",
            " [29.799]\n",
            " [28.9  ]\n",
            " [28.218]\n",
            " [29.732]]\n"
          ],
          "name": "stdout"
        }
      ]
    },
    {
      "cell_type": "code",
      "metadata": {
        "id": "8mXSOydou10P",
        "colab_type": "code",
        "colab": {}
      },
      "source": [
        "x_data = xy_df.drop(\"맥주 소비량(L)\", axis=1).values  # 피쳐데이터를 numpy로 추출"
      ],
      "execution_count": 0,
      "outputs": []
    },
    {
      "cell_type": "code",
      "metadata": {
        "id": "rNVOT2slwIEq",
        "colab_type": "code",
        "outputId": "3c3935a0-d36e-4915-d328-d1f27831a618",
        "colab": {
          "base_uri": "https://localhost:8080/",
          "height": 158
        }
      },
      "source": [
        "print(x_data.shape)\n",
        "print(x_data[:7,:]) # 피쳐 확인"
      ],
      "execution_count": 0,
      "outputs": [
        {
          "output_type": "stream",
          "text": [
            "(365, 5)\n",
            "[[27.3  23.9  32.5   0.    0.  ]\n",
            " [27.02 24.5  33.5   0.    0.  ]\n",
            " [24.82 22.4  29.9   0.    1.  ]\n",
            " [23.98 21.5  28.6   1.2   1.  ]\n",
            " [23.82 21.   28.3   0.    0.  ]\n",
            " [23.78 20.1  30.5  12.2   0.  ]\n",
            " [24.   19.5  33.7   0.    0.  ]]\n"
          ],
          "name": "stdout"
        }
      ]
    },
    {
      "cell_type": "code",
      "metadata": {
        "id": "VLMhZjhywTrI",
        "colab_type": "code",
        "colab": {}
      },
      "source": [
        "# 테스트세트를 분리\n",
        "x_train_all, x_test, y_train_all, y_test = train_test_split(x_data, y_data, test_size=0.2, random_state=777) # 전체 데이터중 20%"
      ],
      "execution_count": 0,
      "outputs": []
    },
    {
      "cell_type": "code",
      "metadata": {
        "id": "j4VsodmYQVdd",
        "colab_type": "code",
        "colab": {}
      },
      "source": [
        "# 검증세트를 분리\n",
        "x_train, x_val, y_train, y_val = train_test_split(x_train_all, y_train_all, test_size=0.2, random_state=777) # 나머지 데이터중 20%"
      ],
      "execution_count": 0,
      "outputs": []
    },
    {
      "cell_type": "code",
      "metadata": {
        "id": "C1rA7T03Dgpv",
        "colab_type": "code",
        "outputId": "ee82ec9e-300f-4240-8fbf-c98e0a849e09",
        "colab": {
          "base_uri": "https://localhost:8080/",
          "height": 70
        }
      },
      "source": [
        "print(\"학습용 \",x_train.shape, \"\\t\", y_train.shape) # 학습용 피쳐, 레이블 데이터 \n",
        "print(\"검증용 \",x_val.shape, \"\\t\", y_val.shape) # 검증용 피쳐, 레이블 데이터 \n",
        "print(\"테스트용 \",x_test.shape, \"\\t\", y_test.shape) # 테스트용 피쳐, 레이블 데이터"
      ],
      "execution_count": 0,
      "outputs": [
        {
          "output_type": "stream",
          "text": [
            "학습용  (233, 5) \t (233, 1)\n",
            "검증용  (59, 5) \t (59, 1)\n",
            "테스트용  (73, 5) \t (73, 1)\n"
          ],
          "name": "stdout"
        }
      ]
    },
    {
      "cell_type": "code",
      "metadata": {
        "id": "W7vR72jTD5lC",
        "colab_type": "code",
        "outputId": "4a3948f9-419d-49be-a9f3-20888a73e8b4",
        "colab": {
          "base_uri": "https://localhost:8080/",
          "height": 279
        }
      },
      "source": [
        "# 우선 전처리(표준화) 전의 데이터 분포 확인\n",
        "plt.scatter(x_train[:50,1], x_train[:50,2])\n",
        "plt.scatter(x_val[:50,1], x_val[:50,2])\n",
        "plt.xlabel(\"feature1\")\n",
        "plt.ylabel(\"feature2\")\n",
        "plt.show()  # 두번째 피쳐(최저온도), 세번째피쳐(최고온도)가 10~30 대의 숫자인것을 확인가능 "
      ],
      "execution_count": 0,
      "outputs": [
        {
          "output_type": "display_data",
          "data": {
            "image/png": "[encoded data removed]",
            "text/plain": [
              "<Figure size 432x288 with 1 Axes>"
            ]
          },
          "metadata": {
            "tags": [],
            "needs_background": "light"
          }
        }
      ]
    },
    {
      "cell_type": "code",
      "metadata": {
        "id": "34ktK3ffGUCV",
        "colab_type": "code",
        "colab": {}
      },
      "source": [
        "# 데이터 전처리(표준화)과정\n",
        "# 학습, 테스트 세트의 표준화를 위해 먼저 학습세트의 평균, 표준편차를 구해야한다\n",
        "train_mean = np.mean(x_train, axis=0) # 학습세트의 각피쳐의 평균\n",
        "train_std = np.std(x_train, axis=0) # 학습세트의 각피쳐의 표준편차"
      ],
      "execution_count": 0,
      "outputs": []
    },
    {
      "cell_type": "code",
      "metadata": {
        "id": "5aAOhUk7H9FG",
        "colab_type": "code",
        "outputId": "42b48260-1c45-4ee7-f5a7-e06753fe844f",
        "colab": {
          "base_uri": "https://localhost:8080/",
          "height": 52
        }
      },
      "source": [
        "print(train_mean) # 학습세트의 각피쳐의 평균\n",
        "print(train_std) # 학습세트의 각피쳐의 표준편차"
      ],
      "execution_count": 0,
      "outputs": [
        {
          "output_type": "stream",
          "text": [
            "[21.24240343 17.53519313 26.57639485  4.20128755  0.27896996]\n",
            "[ 3.1775572   2.79985547  4.31321961 11.1142235   0.44849272]\n"
          ],
          "name": "stdout"
        }
      ]
    },
    {
      "cell_type": "code",
      "metadata": {
        "id": "L-KqI5JUUdFS",
        "colab_type": "code",
        "colab": {}
      },
      "source": [
        "# 표준화를 쉽게 하기 위해 함수정의 -> 같은 비율로 전처리 하기 위해 학습세트의 평균, 표준편차를 그대로 사용한다.\n",
        "def standardScaler(data):\n",
        "  data_scaled = (data - train_mean) / train_std\n",
        "  return data_scaled"
      ],
      "execution_count": 0,
      "outputs": []
    },
    {
      "cell_type": "code",
      "metadata": {
        "id": "Arleu4TIIJjV",
        "colab_type": "code",
        "colab": {}
      },
      "source": [
        "# 학습세트 표준화\n",
        "x_train_scaled = standardScaler(x_train) "
      ],
      "execution_count": 0,
      "outputs": []
    },
    {
      "cell_type": "code",
      "metadata": {
        "id": "Oa6wrwI5IYuL",
        "colab_type": "code",
        "colab": {}
      },
      "source": [
        "# 검증세트 표준화\n",
        "x_val_scaled = standardScaler(x_val) # 학습세트와 같은 비율로 전처리하기 위해 학습세트의 평균, 표준편차를 그대로 사용한다"
      ],
      "execution_count": 0,
      "outputs": []
    },
    {
      "cell_type": "code",
      "metadata": {
        "id": "EZIvCTvmIthm",
        "colab_type": "code",
        "outputId": "fb5ac211-5d21-4fbc-b221-8e8a05a5f448",
        "colab": {
          "base_uri": "https://localhost:8080/",
          "height": 279
        }
      },
      "source": [
        "# 표준화된 데이터로 그래프 작성 -> 제대로 표준화 되었는지 확인\n",
        "plt.scatter(x_train_scaled[:50,1], x_train_scaled[:50,2])\n",
        "plt.scatter(x_val_scaled[:50,1], x_val_scaled[:50,2])\n",
        "plt.xlabel(\"feature1\")\n",
        "plt.ylabel(\"feature2\")\n",
        "plt.show()  # 완성된 그래프를 보면 위 그래프와 모양은 똑같지만 값의 범위가 현저히 줄어든 것을 확인 할 수 있으니 표준화가 잘된 것을 확인할 수 있습니다.."
      ],
      "execution_count": 0,
      "outputs": [
        {
          "output_type": "display_data",
          "data": {
            "image/png": "[encoded data removed]",
            "text/plain": [
              "<Figure size 432x288 with 1 Axes>"
            ]
          },
          "metadata": {
            "tags": [],
            "needs_background": "light"
          }
        }
      ]
    },
    {
      "cell_type": "code",
      "metadata": {
        "id": "F1WpyU7LJGrh",
        "colab_type": "code",
        "colab": {}
      },
      "source": [
        "# 텐서플로우 그래프 그리기\n",
        "num_x = 5\n",
        "X = tf.placeholder(tf.float32, shape=[None, num_x]) \n",
        "Y = tf.placeholder(tf.float32, shape=[None, 1])\n",
        "W = tf.Variable(tf.random.normal([num_x , 1]), name='weight') \n",
        "b = tf.Variable(tf.random.normal([1]), name='bias')"
      ],
      "execution_count": 0,
      "outputs": []
    },
    {
      "cell_type": "code",
      "metadata": {
        "id": "i-5-BV1iLjf8",
        "colab_type": "code",
        "colab": {}
      },
      "source": [
        "hypothesis =  tf.matmul(X, W) + b"
      ],
      "execution_count": 0,
      "outputs": []
    },
    {
      "cell_type": "code",
      "metadata": {
        "id": "TQpuIqHHLm_q",
        "colab_type": "code",
        "colab": {}
      },
      "source": [
        "cost = tf.reduce_mean(tf.square(hypothesis - Y))"
      ],
      "execution_count": 0,
      "outputs": []
    },
    {
      "cell_type": "code",
      "metadata": {
        "id": "sm-JCT59L8pa",
        "colab_type": "code",
        "colab": {}
      },
      "source": [
        "optimizer = tf.train.GradientDescentOptimizer(learning_rate=0.0001) "
      ],
      "execution_count": 0,
      "outputs": []
    },
    {
      "cell_type": "code",
      "metadata": {
        "id": "-DcXkwHMMtNJ",
        "colab_type": "code",
        "colab": {}
      },
      "source": [
        "train = optimizer.minimize(cost)"
      ],
      "execution_count": 0,
      "outputs": []
    },
    {
      "cell_type": "code",
      "metadata": {
        "id": "yI8S6FaiMRl7",
        "colab_type": "code",
        "colab": {}
      },
      "source": [
        "sess = tf.Session()"
      ],
      "execution_count": 0,
      "outputs": []
    },
    {
      "cell_type": "code",
      "metadata": {
        "id": "Y6DamJxYMTMC",
        "colab_type": "code",
        "colab": {}
      },
      "source": [
        "sess.run(tf.global_variables_initializer())"
      ],
      "execution_count": 0,
      "outputs": []
    },
    {
      "cell_type": "code",
      "metadata": {
        "id": "hCd2LhbXM-ti",
        "colab_type": "code",
        "colab": {}
      },
      "source": [
        "w_history = [] # 변화하는 가중치 행렬을 담기위한 리스트\n",
        "cost_list = [] # 감소하는 cost를 담기위한 리스트"
      ],
      "execution_count": 0,
      "outputs": []
    },
    {
      "cell_type": "code",
      "metadata": {
        "id": "_2c4GtvAMVW_",
        "colab_type": "code",
        "outputId": "042bff5b-7c5a-46fa-ab9c-328b1c84f89a",
        "colab": {
          "base_uri": "https://localhost:8080/",
          "height": 1000
        }
      },
      "source": [
        "epochs = 20001\n",
        "for step in range(epochs):\n",
        "  cost_val, hy_val, W_all, _ = sess.run([cost, hypothesis, W, train], feed_dict={X:x_train_scaled, Y:y_train})\n",
        "  cost_list.append(cost_val)\n",
        "  w_history.append(W_all.copy())  \n",
        "\n",
        "  if step % 200 == 0:\n",
        "    print(step, cost_val)\n",
        "  "
      ],
      "execution_count": 0,
      "outputs": [
        {
          "output_type": "stream",
          "text": [
            "0 644.4452\n",
            "200 594.899\n",
            "400 549.27014\n",
            "600 507.23602\n",
            "800 468.50305\n",
            "1000 432.80344\n",
            "1200 399.8926\n",
            "1400 369.54697\n",
            "1600 341.562\n",
            "1800 315.7502\n",
            "2000 291.93967\n",
            "2200 269.97275\n",
            "2400 249.70454\n",
            "2600 231.0018\n",
            "2800 213.74222\n",
            "3000 197.8132\n",
            "3200 183.11128\n",
            "3400 169.54105\n",
            "3600 157.01463\n",
            "3800 145.45111\n",
            "4000 134.77614\n",
            "4200 124.92089\n",
            "4400 115.82202\n",
            "4600 107.42119\n",
            "4800 99.664604\n",
            "5000 92.50256\n",
            "5200 85.88928\n",
            "5400 79.78245\n",
            "5600 74.14319\n",
            "5800 68.93554\n",
            "6000 64.12624\n",
            "6200 59.68475\n",
            "6400 55.58273\n",
            "6600 51.794228\n",
            "6800 48.295025\n",
            "7000 45.062996\n",
            "7200 42.077682\n",
            "7400 39.320053\n",
            "7600 36.77269\n",
            "7800 34.41944\n",
            "8000 32.245502\n",
            "8200 30.237135\n",
            "8400 28.381624\n",
            "8600 26.667234\n",
            "8800 25.08319\n",
            "9000 23.619482\n",
            "9200 22.26696\n",
            "9400 21.017046\n",
            "9600 19.86191\n",
            "9800 18.794323\n",
            "10000 17.807583\n",
            "10200 16.89548\n",
            "10400 16.052357\n",
            "10600 15.272898\n",
            "10800 14.552248\n",
            "11000 13.885966\n",
            "11200 13.269838\n",
            "11400 12.700096\n",
            "11600 12.173189\n",
            "11800 11.685829\n",
            "12000 11.234978\n",
            "12200 10.817909\n",
            "12400 10.432022\n",
            "12600 10.074951\n",
            "12800 9.744516\n",
            "13000 9.438687\n",
            "13200 9.155593\n",
            "13400 8.893495\n",
            "13600 8.6508255\n",
            "13800 8.426088\n",
            "14000 8.217943\n",
            "14200 8.025118\n",
            "14400 7.846463\n",
            "14600 7.6808968\n",
            "14800 7.5274224\n",
            "15000 7.3851705\n",
            "15200 7.253257\n",
            "15400 7.130901\n",
            "15600 7.0173864\n",
            "15800 6.912097\n",
            "16000 6.814347\n",
            "16200 6.723604\n",
            "16400 6.6393456\n",
            "16600 6.561086\n",
            "16800 6.488382\n",
            "17000 6.420786\n",
            "17200 6.357959\n",
            "17400 6.299505\n",
            "17600 6.2451344\n",
            "17800 6.194539\n",
            "18000 6.1474247\n",
            "18200 6.1035614\n",
            "18400 6.062687\n",
            "18600 6.0245633\n",
            "18800 5.989041\n",
            "19000 5.9558687\n",
            "19200 5.9249406\n",
            "19400 5.8960476\n",
            "19600 5.8690505\n",
            "19800 5.843814\n",
            "20000 5.8202157\n"
          ],
          "name": "stdout"
        }
      ]
    },
    {
      "cell_type": "code",
      "metadata": {
        "id": "7MGrAtdBMqy-",
        "colab_type": "code",
        "outputId": "73426989-ba33-4bc7-c7e3-b77185272557",
        "colab": {
          "base_uri": "https://localhost:8080/",
          "height": 279
        }
      },
      "source": [
        "plt.plot(cost_list)\n",
        "plt.xlabel(\"epochs\")\n",
        "plt.ylabel(\"cost\")\n",
        "plt.show()"
      ],
      "execution_count": 0,
      "outputs": [
        {
          "output_type": "display_data",
          "data": {
            "image/png": "[encoded data removed]",
            "text/plain": [
              "<Figure size 432x288 with 1 Axes>"
            ]
          },
          "metadata": {
            "tags": [],
            "needs_background": "light"
          }
        }
      ]
    },
    {
      "cell_type": "code",
      "metadata": {
        "id": "7MlLB3TMVf7o",
        "colab_type": "code",
        "outputId": "74696ff3-127e-4018-9489-adb195dc2885",
        "colab": {
          "base_uri": "https://localhost:8080/",
          "height": 279
        }
      },
      "source": [
        "# 가중치 업데이트 과정 그래프\n",
        "w2 = []\n",
        "w3 = []\n",
        "for w in  w_history:\n",
        "  w2.append(w[2])\n",
        "  w3.append(w[3])\n",
        "plt.plot(w2, w3)\n",
        "plt.plot(w2[-1], w3[-1],'bo')\n",
        "plt.xlabel('w[2]')\n",
        "plt.ylabel('w[3]')\n",
        "plt.show()"
      ],
      "execution_count": 0,
      "outputs": [
        {
          "output_type": "display_data",
          "data": {
            "image/png": "[encoded data removed]",
            "text/plain": [
              "<Figure size 432x288 with 1 Axes>"
            ]
          },
          "metadata": {
            "tags": [],
            "needs_background": "light"
          }
        }
      ]
    },
    {
      "cell_type": "code",
      "metadata": {
        "id": "8C_i1H-xQL3w",
        "colab_type": "code",
        "colab": {}
      },
      "source": [
        "prediction = sess.run(hypothesis, feed_dict={X:x_val_scaled})  # 검증 세트에 대한 예측값 구하기"
      ],
      "execution_count": 0,
      "outputs": []
    },
    {
      "cell_type": "code",
      "metadata": {
        "id": "R6pKHUojRX4x",
        "colab_type": "code",
        "outputId": "b4f40df8-c149-469f-b0ff-8b9e7adc920c",
        "colab": {
          "base_uri": "https://localhost:8080/",
          "height": 34
        }
      },
      "source": [
        "# 검증용 피쳐데이터로 예측한 값들과 검증용 레이블 데이터 세트를 비교 -> 각 샘플데이터에 대한 오차를 평균내어 평균 오차를 구해 이걸로 모델의 정확도 판단\n",
        "np.mean(np.square(prediction - y_val))\n",
        "\n",
        "# 평균적인 제곱오차"
      ],
      "execution_count": 0,
      "outputs": [
        {
          "output_type": "execute_result",
          "data": {
            "text/plain": [
              "5.385583306110024"
            ]
          },
          "metadata": {
            "tags": []
          },
          "execution_count": 32
        }
      ]
    },
    {
      "cell_type": "code",
      "metadata": {
        "id": "sXRFB5geTtbl",
        "colab_type": "code",
        "outputId": "27017a8a-06a3-4725-ac3a-6b5b0ba92922",
        "colab": {
          "base_uri": "https://localhost:8080/",
          "height": 34
        }
      },
      "source": [
        "# 내가 정한 임의의 값으로 예측하기 -> 표준화한 데이터로 모델을 만들었기 때문에 임의의 값을 넣어줄때도 임의의 값을 표준화 해주어야 합니다.\n",
        "X_test = np.array([[25,22,29,0,1]])\n",
        "X_test_scaled = standardScaler(X_test)\n",
        "print(X_test_scaled)"
      ],
      "execution_count": 0,
      "outputs": [
        {
          "output_type": "stream",
          "text": [
            "[[ 1.18254254  1.5946562   0.56190163 -0.37800999  1.6076739 ]]\n"
          ],
          "name": "stdout"
        }
      ]
    },
    {
      "cell_type": "code",
      "metadata": {
        "id": "p-JbUvU_T77l",
        "colab_type": "code",
        "outputId": "4b45e0b6-c2f4-42ff-8d20-c020b94766ab",
        "colab": {
          "base_uri": "https://localhost:8080/",
          "height": 34
        }
      },
      "source": [
        "print(sess.run(hypothesis, feed_dict={X:X_test_scaled})) "
      ],
      "execution_count": 0,
      "outputs": [
        {
          "output_type": "stream",
          "text": [
            "[[31.267887]]\n"
          ],
          "name": "stdout"
        }
      ]
    },
    {
      "cell_type": "code",
      "metadata": {
        "id": "le2IpBetVxYq",
        "colab_type": "code",
        "colab": {}
      },
      "source": [
        "# 임의의 샘플데이터 5개로 예측값 구해보기\n",
        "X_test_5 = np.array([[23,20,27,10.1,1],\n",
        "                     [25,22,32,15,0],\n",
        "                     [20.5,15,23,0,1],\n",
        "                     [30,20,40,45,1],\n",
        "                     [27,22,32,22,1]])\n",
        "X_test_5_scaled = standardScaler(X_test_5)"
      ],
      "execution_count": 0,
      "outputs": []
    },
    {
      "cell_type": "code",
      "metadata": {
        "id": "JJ3tLX9OssoR",
        "colab_type": "code",
        "outputId": "266acc23-19c3-4e2b-af5c-36394497a382",
        "colab": {
          "base_uri": "https://localhost:8080/",
          "height": 105
        }
      },
      "source": [
        "print(sess.run(hypothesis, feed_dict={X:X_test_5_scaled}))"
      ],
      "execution_count": 0,
      "outputs": [
        {
          "output_type": "stream",
          "text": [
            "[[29.040846]\n",
            " [25.918411]\n",
            " [27.738266]\n",
            " [33.99577 ]\n",
            " [31.569386]]\n"
          ],
          "name": "stdout"
        }
      ]
    },
    {
      "cell_type": "code",
      "metadata": {
        "id": "3ZouWe-yQFjA",
        "colab_type": "code",
        "outputId": "8d80353f-ec44-4f29-d5b6-cf2de988143d",
        "colab": {
          "base_uri": "https://localhost:8080/",
          "height": 87
        }
      },
      "source": [
        "try:\n",
        "  x_input = input(\"입력(평균온도, 최저온도, 최고온도, 강수량, 주말여부): \")\n",
        "  if x_input == 'x':\n",
        "    raise NotImplementedError\n",
        "  x_input_strip =[ float(i.strip()) for i in x_input.split(\",\")]\n",
        "  print(\"평균온도\\t최저온도\\t최고온도\\t강수량\\t\\t주말여부\")\n",
        "  for i in x_input_strip:\n",
        "    print(i,end=\"\\t\\t\")\n",
        "  print()\n",
        "  x_input_test = np.array([x_input_strip]).astype('float32')\n",
        "\n",
        "  x_input_test_scaled = standardScaler(x_input_test)\n",
        "\n",
        "  print(\"예상 맥주소비량 : \", (sess.run(hypothesis, feed_dict={X:x_input_test_scaled}))) \n",
        "  \n",
        "except ValueError:\n",
        "  print(\"입력을 다시 확인해주세요\")\n",
        "except NotImplementedError:\n",
        "  print(\"종료\")"
      ],
      "execution_count": 0,
      "outputs": [
        {
          "output_type": "stream",
          "text": [
            "입력(평균온도, 최저온도, 최고온도, 강수량, 주말여부): 25,22,29,0,1\n",
            "평균온도\t최저온도\t최고온도\t강수량\t\t주말여부\n",
            "25.0\t\t22.0\t\t29.0\t\t0.0\t\t1.0\t\t\n",
            "예상 맥주소비량 :  [[31.267887]]\n"
          ],
          "name": "stdout"
        }
      ]
    },
    {
      "cell_type": "code",
      "metadata": {
        "id": "9KO4OQvgsv4Y",
        "colab_type": "code",
        "colab": {}
      },
      "source": [
        "sess.close()"
      ],
      "execution_count": 0,
      "outputs": []
    }
  ]
}