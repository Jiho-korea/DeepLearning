{
  "nbformat": 4,
  "nbformat_minor": 0,
  "metadata": {
    "colab": {
      "name": "예제2_당뇨병",
      "provenance": [],
      "collapsed_sections": [],
      "authorship_tag": "ABX9TyMBtmjpr/wwmF2GzNDC8qz1",
      "include_colab_link": true
    },
    "kernelspec": {
      "name": "python3",
      "display_name": "Python 3"
    }
  },
  "cells": [
    {
      "cell_type": "markdown",
      "metadata": {
        "id": "view-in-github",
        "colab_type": "text"
      },
      "source": [
        "<a href=\"https://colab.research.google.com/github/Jiho-korea/DeepLearning/blob/master/%EC%98%88%EC%A0%9C2_%EB%8B%B9%EB%87%A8%EB%B3%91.ipynb\" target=\"_parent\"><img src=\"https://colab.research.google.com/assets/colab-badge.svg\" alt=\"Open In Colab\"/></a>"
      ]
    },
    {
      "cell_type": "code",
      "metadata": {
        "id": "SB0vIfH0objU",
        "colab_type": "code",
        "outputId": "f37983b9-a994-4a55-fde0-d12198e95b5e",
        "colab": {
          "base_uri": "https://localhost:8080/",
          "height": 125
        }
      },
      "source": [
        "from google.colab import drive\n",
        "drive.mount('/gdrive', force_remount=True)"
      ],
      "execution_count": 1,
      "outputs": [
        {
          "output_type": "stream",
          "text": [
            "Go to this URL in a browser: https://accounts.google.com/o/oauth2/auth?client_id=947318989803-6bn6qk8qdgf4n4g3pfee6491hc0brc4i.apps.googleusercontent.com&redirect_uri=urn%3aietf%3awg%3aoauth%3a2.0%3aoob&response_type=code&scope=email%20https%3a%2f%2fwww.googleapis.com%2fauth%2fdocs.test%20https%3a%2f%2fwww.googleapis.com%2fauth%2fdrive%20https%3a%2f%2fwww.googleapis.com%2fauth%2fdrive.photos.readonly%20https%3a%2f%2fwww.googleapis.com%2fauth%2fpeopleapi.readonly\n",
            "\n",
            "Enter your authorization code:\n",
            "··········\n",
            "Mounted at /gdrive\n"
          ],
          "name": "stdout"
        }
      ]
    },
    {
      "cell_type": "code",
      "metadata": {
        "id": "YYkn9L2BmpS4",
        "colab_type": "code",
        "outputId": "4415f20b-f851-4c38-ae8a-83044071f9aa",
        "colab": {
          "base_uri": "https://localhost:8080/",
          "height": 917
        }
      },
      "source": [
        "!pip install --upgrade tensorflow==1.15.0"
      ],
      "execution_count": 2,
      "outputs": [
        {
          "output_type": "stream",
          "text": [
            "Collecting tensorflow==1.15.0\n",
            "\u001b[?25l  Downloading https://files.pythonhosted.org/packages/3f/98/5a99af92fb911d7a88a0005ad55005f35b4c1ba8d75fba02df726cd936e6/tensorflow-1.15.0-cp36-cp36m-manylinux2010_x86_64.whl (412.3MB)\n",
            "\u001b[K     |████████████████████████████████| 412.3MB 36kB/s \n",
            "\u001b[?25hRequirement already satisfied, skipping upgrade: numpy<2.0,>=1.16.0 in /usr/local/lib/python3.6/dist-packages (from tensorflow==1.15.0) (1.18.4)\n",
            "Requirement already satisfied, skipping upgrade: six>=1.10.0 in /usr/local/lib/python3.6/dist-packages (from tensorflow==1.15.0) (1.12.0)\n",
            "Requirement already satisfied, skipping upgrade: keras-preprocessing>=1.0.5 in /usr/local/lib/python3.6/dist-packages (from tensorflow==1.15.0) (1.1.2)\n",
            "Requirement already satisfied, skipping upgrade: keras-applications>=1.0.8 in /usr/local/lib/python3.6/dist-packages (from tensorflow==1.15.0) (1.0.8)\n",
            "Requirement already satisfied, skipping upgrade: wrapt>=1.11.1 in /usr/local/lib/python3.6/dist-packages (from tensorflow==1.15.0) (1.12.1)\n",
            "Requirement already satisfied, skipping upgrade: protobuf>=3.6.1 in /usr/local/lib/python3.6/dist-packages (from tensorflow==1.15.0) (3.10.0)\n",
            "Collecting tensorflow-estimator==1.15.1\n",
            "\u001b[?25l  Downloading https://files.pythonhosted.org/packages/de/62/2ee9cd74c9fa2fa450877847ba560b260f5d0fb70ee0595203082dafcc9d/tensorflow_estimator-1.15.1-py2.py3-none-any.whl (503kB)\n",
            "\u001b[K     |████████████████████████████████| 512kB 45.2MB/s \n",
            "\u001b[?25hRequirement already satisfied, skipping upgrade: astor>=0.6.0 in /usr/local/lib/python3.6/dist-packages (from tensorflow==1.15.0) (0.8.1)\n",
            "Requirement already satisfied, skipping upgrade: absl-py>=0.7.0 in /usr/local/lib/python3.6/dist-packages (from tensorflow==1.15.0) (0.9.0)\n",
            "Requirement already satisfied, skipping upgrade: wheel>=0.26 in /usr/local/lib/python3.6/dist-packages (from tensorflow==1.15.0) (0.34.2)\n",
            "Collecting gast==0.2.2\n",
            "  Downloading https://files.pythonhosted.org/packages/4e/35/11749bf99b2d4e3cceb4d55ca22590b0d7c2c62b9de38ac4a4a7f4687421/gast-0.2.2.tar.gz\n",
            "Requirement already satisfied, skipping upgrade: grpcio>=1.8.6 in /usr/local/lib/python3.6/dist-packages (from tensorflow==1.15.0) (1.29.0)\n",
            "Collecting tensorboard<1.16.0,>=1.15.0\n",
            "\u001b[?25l  Downloading https://files.pythonhosted.org/packages/1e/e9/d3d747a97f7188f48aa5eda486907f3b345cd409f0a0850468ba867db246/tensorboard-1.15.0-py3-none-any.whl (3.8MB)\n",
            "\u001b[K     |████████████████████████████████| 3.8MB 41.0MB/s \n",
            "\u001b[?25hRequirement already satisfied, skipping upgrade: termcolor>=1.1.0 in /usr/local/lib/python3.6/dist-packages (from tensorflow==1.15.0) (1.1.0)\n",
            "Requirement already satisfied, skipping upgrade: opt-einsum>=2.3.2 in /usr/local/lib/python3.6/dist-packages (from tensorflow==1.15.0) (3.2.1)\n",
            "Requirement already satisfied, skipping upgrade: google-pasta>=0.1.6 in /usr/local/lib/python3.6/dist-packages (from tensorflow==1.15.0) (0.2.0)\n",
            "Requirement already satisfied, skipping upgrade: h5py in /usr/local/lib/python3.6/dist-packages (from keras-applications>=1.0.8->tensorflow==1.15.0) (2.10.0)\n",
            "Requirement already satisfied, skipping upgrade: setuptools in /usr/local/lib/python3.6/dist-packages (from protobuf>=3.6.1->tensorflow==1.15.0) (47.1.1)\n",
            "Requirement already satisfied, skipping upgrade: markdown>=2.6.8 in /usr/local/lib/python3.6/dist-packages (from tensorboard<1.16.0,>=1.15.0->tensorflow==1.15.0) (3.2.2)\n",
            "Requirement already satisfied, skipping upgrade: werkzeug>=0.11.15 in /usr/local/lib/python3.6/dist-packages (from tensorboard<1.16.0,>=1.15.0->tensorflow==1.15.0) (1.0.1)\n",
            "Requirement already satisfied, skipping upgrade: importlib-metadata; python_version < \"3.8\" in /usr/local/lib/python3.6/dist-packages (from markdown>=2.6.8->tensorboard<1.16.0,>=1.15.0->tensorflow==1.15.0) (1.6.0)\n",
            "Requirement already satisfied, skipping upgrade: zipp>=0.5 in /usr/local/lib/python3.6/dist-packages (from importlib-metadata; python_version < \"3.8\"->markdown>=2.6.8->tensorboard<1.16.0,>=1.15.0->tensorflow==1.15.0) (3.1.0)\n",
            "Building wheels for collected packages: gast\n",
            "  Building wheel for gast (setup.py) ... \u001b[?25l\u001b[?25hdone\n",
            "  Created wheel for gast: filename=gast-0.2.2-cp36-none-any.whl size=7540 sha256=a9f2918f9c94d42f43737ed89c223260f60b14d48fd2afe7c5ecae3f4590b461\n",
            "  Stored in directory: /root/.cache/pip/wheels/5c/2e/7e/a1d4d4fcebe6c381f378ce7743a3ced3699feb89bcfbdadadd\n",
            "Successfully built gast\n",
            "\u001b[31mERROR: tensorflow-probability 0.10.0 has requirement gast>=0.3.2, but you'll have gast 0.2.2 which is incompatible.\u001b[0m\n",
            "Installing collected packages: tensorflow-estimator, gast, tensorboard, tensorflow\n",
            "  Found existing installation: tensorflow-estimator 2.2.0\n",
            "    Uninstalling tensorflow-estimator-2.2.0:\n",
            "      Successfully uninstalled tensorflow-estimator-2.2.0\n",
            "  Found existing installation: gast 0.3.3\n",
            "    Uninstalling gast-0.3.3:\n",
            "      Successfully uninstalled gast-0.3.3\n",
            "  Found existing installation: tensorboard 2.2.2\n",
            "    Uninstalling tensorboard-2.2.2:\n",
            "      Successfully uninstalled tensorboard-2.2.2\n",
            "  Found existing installation: tensorflow 2.2.0\n",
            "    Uninstalling tensorflow-2.2.0:\n",
            "      Successfully uninstalled tensorflow-2.2.0\n",
            "Successfully installed gast-0.2.2 tensorboard-1.15.0 tensorflow-1.15.0 tensorflow-estimator-1.15.1\n"
          ],
          "name": "stdout"
        }
      ]
    },
    {
      "cell_type": "code",
      "metadata": {
        "id": "DWpRnLAjmYgo",
        "colab_type": "code",
        "colab": {}
      },
      "source": [
        "import tensorflow as tf\n",
        "import numpy as np\n",
        "import pandas as pd\n",
        "import matplotlib.pyplot as plt\n",
        "from sklearn.model_selection import train_test_split\n",
        "from sklearn.preprocessing import StandardScaler\n",
        "from sklearn.model_selection import StratifiedKFold"
      ],
      "execution_count": 0,
      "outputs": []
    },
    {
      "cell_type": "code",
      "metadata": {
        "id": "-qAOoLa2n-zE",
        "colab_type": "code",
        "colab": {}
      },
      "source": [
        "tf.set_random_seed(777)"
      ],
      "execution_count": 0,
      "outputs": []
    },
    {
      "cell_type": "code",
      "metadata": {
        "id": "qw3zM1dOoX6h",
        "colab_type": "code",
        "colab": {}
      },
      "source": [
        "# 데이터 확인, 분석을 위해 pandas 를 사용\n",
        "xy_df = pd.read_csv('/gdrive/My Drive/Colab Notebooks/DeepLearningPrac/tensorflowPrac/logistic/kaggle/예제2_당뇨병.csv', dtype=np.float32)\n",
        "xy_df = xy_df.dropna(how='all', axis=0)  # 결측치 제거"
      ],
      "execution_count": 0,
      "outputs": []
    },
    {
      "cell_type": "code",
      "metadata": {
        "id": "qVUVqaTosXtJ",
        "colab_type": "code",
        "outputId": "ade3f108-e8b6-4e47-9eed-dcf667f38697",
        "colab": {
          "base_uri": "https://localhost:8080/",
          "height": 402
        }
      },
      "source": [
        "xy_df.columns = ['임신횟수', '공복혈당농도', '혈압', '피부주름두께', '혈정인슐린', 'BMI', '당뇨병가족력', '나이', '예측결과']  # 칼럼명 한글로 변경\n",
        "xy_df # 데이터프레임 확인"
      ],
      "execution_count": 6,
      "outputs": [
        {
          "output_type": "execute_result",
          "data": {
            "text/html": [
              "<div>\n",
              "<style scoped>\n",
              "    .dataframe tbody tr th:only-of-type {\n",
              "        vertical-align: middle;\n",
              "    }\n",
              "\n",
              "    .dataframe tbody tr th {\n",
              "        vertical-align: top;\n",
              "    }\n",
              "\n",
              "    .dataframe thead th {\n",
              "        text-align: right;\n",
              "    }\n",
              "</style>\n",
              "<table border=\"1\" class=\"dataframe\">\n",
              "  <thead>\n",
              "    <tr style=\"text-align: right;\">\n",
              "      <th></th>\n",
              "      <th>임신횟수</th>\n",
              "      <th>공복혈당농도</th>\n",
              "      <th>혈압</th>\n",
              "      <th>피부주름두께</th>\n",
              "      <th>혈정인슐린</th>\n",
              "      <th>BMI</th>\n",
              "      <th>당뇨병가족력</th>\n",
              "      <th>나이</th>\n",
              "      <th>예측결과</th>\n",
              "    </tr>\n",
              "  </thead>\n",
              "  <tbody>\n",
              "    <tr>\n",
              "      <th>0</th>\n",
              "      <td>6.0</td>\n",
              "      <td>148.0</td>\n",
              "      <td>72.0</td>\n",
              "      <td>35.0</td>\n",
              "      <td>0.0</td>\n",
              "      <td>33.599998</td>\n",
              "      <td>0.627</td>\n",
              "      <td>50.0</td>\n",
              "      <td>1.0</td>\n",
              "    </tr>\n",
              "    <tr>\n",
              "      <th>1</th>\n",
              "      <td>1.0</td>\n",
              "      <td>85.0</td>\n",
              "      <td>66.0</td>\n",
              "      <td>29.0</td>\n",
              "      <td>0.0</td>\n",
              "      <td>26.600000</td>\n",
              "      <td>0.351</td>\n",
              "      <td>31.0</td>\n",
              "      <td>0.0</td>\n",
              "    </tr>\n",
              "    <tr>\n",
              "      <th>2</th>\n",
              "      <td>8.0</td>\n",
              "      <td>183.0</td>\n",
              "      <td>64.0</td>\n",
              "      <td>0.0</td>\n",
              "      <td>0.0</td>\n",
              "      <td>23.299999</td>\n",
              "      <td>0.672</td>\n",
              "      <td>32.0</td>\n",
              "      <td>1.0</td>\n",
              "    </tr>\n",
              "    <tr>\n",
              "      <th>3</th>\n",
              "      <td>1.0</td>\n",
              "      <td>89.0</td>\n",
              "      <td>66.0</td>\n",
              "      <td>23.0</td>\n",
              "      <td>94.0</td>\n",
              "      <td>28.100000</td>\n",
              "      <td>0.167</td>\n",
              "      <td>21.0</td>\n",
              "      <td>0.0</td>\n",
              "    </tr>\n",
              "    <tr>\n",
              "      <th>4</th>\n",
              "      <td>0.0</td>\n",
              "      <td>137.0</td>\n",
              "      <td>40.0</td>\n",
              "      <td>35.0</td>\n",
              "      <td>168.0</td>\n",
              "      <td>43.099998</td>\n",
              "      <td>2.288</td>\n",
              "      <td>33.0</td>\n",
              "      <td>1.0</td>\n",
              "    </tr>\n",
              "    <tr>\n",
              "      <th>...</th>\n",
              "      <td>...</td>\n",
              "      <td>...</td>\n",
              "      <td>...</td>\n",
              "      <td>...</td>\n",
              "      <td>...</td>\n",
              "      <td>...</td>\n",
              "      <td>...</td>\n",
              "      <td>...</td>\n",
              "      <td>...</td>\n",
              "    </tr>\n",
              "    <tr>\n",
              "      <th>763</th>\n",
              "      <td>10.0</td>\n",
              "      <td>101.0</td>\n",
              "      <td>76.0</td>\n",
              "      <td>48.0</td>\n",
              "      <td>180.0</td>\n",
              "      <td>32.900002</td>\n",
              "      <td>0.171</td>\n",
              "      <td>63.0</td>\n",
              "      <td>0.0</td>\n",
              "    </tr>\n",
              "    <tr>\n",
              "      <th>764</th>\n",
              "      <td>2.0</td>\n",
              "      <td>122.0</td>\n",
              "      <td>70.0</td>\n",
              "      <td>27.0</td>\n",
              "      <td>0.0</td>\n",
              "      <td>36.799999</td>\n",
              "      <td>0.340</td>\n",
              "      <td>27.0</td>\n",
              "      <td>0.0</td>\n",
              "    </tr>\n",
              "    <tr>\n",
              "      <th>765</th>\n",
              "      <td>5.0</td>\n",
              "      <td>121.0</td>\n",
              "      <td>72.0</td>\n",
              "      <td>23.0</td>\n",
              "      <td>112.0</td>\n",
              "      <td>26.200001</td>\n",
              "      <td>0.245</td>\n",
              "      <td>30.0</td>\n",
              "      <td>0.0</td>\n",
              "    </tr>\n",
              "    <tr>\n",
              "      <th>766</th>\n",
              "      <td>1.0</td>\n",
              "      <td>126.0</td>\n",
              "      <td>60.0</td>\n",
              "      <td>0.0</td>\n",
              "      <td>0.0</td>\n",
              "      <td>30.100000</td>\n",
              "      <td>0.349</td>\n",
              "      <td>47.0</td>\n",
              "      <td>1.0</td>\n",
              "    </tr>\n",
              "    <tr>\n",
              "      <th>767</th>\n",
              "      <td>1.0</td>\n",
              "      <td>93.0</td>\n",
              "      <td>70.0</td>\n",
              "      <td>31.0</td>\n",
              "      <td>0.0</td>\n",
              "      <td>30.400000</td>\n",
              "      <td>0.315</td>\n",
              "      <td>23.0</td>\n",
              "      <td>0.0</td>\n",
              "    </tr>\n",
              "  </tbody>\n",
              "</table>\n",
              "<p>768 rows × 9 columns</p>\n",
              "</div>"
            ],
            "text/plain": [
              "     임신횟수  공복혈당농도    혈압  피부주름두께  혈정인슐린        BMI  당뇨병가족력    나이  예측결과\n",
              "0     6.0   148.0  72.0    35.0    0.0  33.599998   0.627  50.0   1.0\n",
              "1     1.0    85.0  66.0    29.0    0.0  26.600000   0.351  31.0   0.0\n",
              "2     8.0   183.0  64.0     0.0    0.0  23.299999   0.672  32.0   1.0\n",
              "3     1.0    89.0  66.0    23.0   94.0  28.100000   0.167  21.0   0.0\n",
              "4     0.0   137.0  40.0    35.0  168.0  43.099998   2.288  33.0   1.0\n",
              "..    ...     ...   ...     ...    ...        ...     ...   ...   ...\n",
              "763  10.0   101.0  76.0    48.0  180.0  32.900002   0.171  63.0   0.0\n",
              "764   2.0   122.0  70.0    27.0    0.0  36.799999   0.340  27.0   0.0\n",
              "765   5.0   121.0  72.0    23.0  112.0  26.200001   0.245  30.0   0.0\n",
              "766   1.0   126.0  60.0     0.0    0.0  30.100000   0.349  47.0   1.0\n",
              "767   1.0    93.0  70.0    31.0    0.0  30.400000   0.315  23.0   0.0\n",
              "\n",
              "[768 rows x 9 columns]"
            ]
          },
          "metadata": {
            "tags": []
          },
          "execution_count": 6
        }
      ]
    },
    {
      "cell_type": "code",
      "metadata": {
        "id": "3UG_LVYyqZmx",
        "colab_type": "code",
        "outputId": "5de7d70e-510b-4961-d7cd-ff0b3daf0f27",
        "colab": {
          "base_uri": "https://localhost:8080/",
          "height": 314
        }
      },
      "source": [
        "pd.DataFrame(xy_df.mean(), columns=[\"평균 값\"])"
      ],
      "execution_count": 7,
      "outputs": [
        {
          "output_type": "execute_result",
          "data": {
            "text/html": [
              "<div>\n",
              "<style scoped>\n",
              "    .dataframe tbody tr th:only-of-type {\n",
              "        vertical-align: middle;\n",
              "    }\n",
              "\n",
              "    .dataframe tbody tr th {\n",
              "        vertical-align: top;\n",
              "    }\n",
              "\n",
              "    .dataframe thead th {\n",
              "        text-align: right;\n",
              "    }\n",
              "</style>\n",
              "<table border=\"1\" class=\"dataframe\">\n",
              "  <thead>\n",
              "    <tr style=\"text-align: right;\">\n",
              "      <th></th>\n",
              "      <th>평균 값</th>\n",
              "    </tr>\n",
              "  </thead>\n",
              "  <tbody>\n",
              "    <tr>\n",
              "      <th>임신횟수</th>\n",
              "      <td>3.845052</td>\n",
              "    </tr>\n",
              "    <tr>\n",
              "      <th>공복혈당농도</th>\n",
              "      <td>120.894531</td>\n",
              "    </tr>\n",
              "    <tr>\n",
              "      <th>혈압</th>\n",
              "      <td>69.105469</td>\n",
              "    </tr>\n",
              "    <tr>\n",
              "      <th>피부주름두께</th>\n",
              "      <td>20.536459</td>\n",
              "    </tr>\n",
              "    <tr>\n",
              "      <th>혈정인슐린</th>\n",
              "      <td>79.799477</td>\n",
              "    </tr>\n",
              "    <tr>\n",
              "      <th>BMI</th>\n",
              "      <td>31.992609</td>\n",
              "    </tr>\n",
              "    <tr>\n",
              "      <th>당뇨병가족력</th>\n",
              "      <td>0.471876</td>\n",
              "    </tr>\n",
              "    <tr>\n",
              "      <th>나이</th>\n",
              "      <td>33.240887</td>\n",
              "    </tr>\n",
              "    <tr>\n",
              "      <th>예측결과</th>\n",
              "      <td>0.348958</td>\n",
              "    </tr>\n",
              "  </tbody>\n",
              "</table>\n",
              "</div>"
            ],
            "text/plain": [
              "              평균 값\n",
              "임신횟수      3.845052\n",
              "공복혈당농도  120.894531\n",
              "혈압       69.105469\n",
              "피부주름두께   20.536459\n",
              "혈정인슐린    79.799477\n",
              "BMI      31.992609\n",
              "당뇨병가족력    0.471876\n",
              "나이       33.240887\n",
              "예측결과      0.348958"
            ]
          },
          "metadata": {
            "tags": []
          },
          "execution_count": 7
        }
      ]
    },
    {
      "cell_type": "code",
      "metadata": {
        "id": "D_hC1k55tKG1",
        "colab_type": "code",
        "colab": {}
      },
      "source": [
        "y_data = xy_df.iloc[:,-1].values.reshape(-1,1)  # 레이블 데이터(예측결과)를 numpy로 추출"
      ],
      "execution_count": 0,
      "outputs": []
    },
    {
      "cell_type": "code",
      "metadata": {
        "id": "8mXSOydou10P",
        "colab_type": "code",
        "colab": {}
      },
      "source": [
        "x_data = xy_df.iloc[:,:-1].values  # 피쳐데이터를 numpy로 추출"
      ],
      "execution_count": 0,
      "outputs": []
    },
    {
      "cell_type": "code",
      "metadata": {
        "id": "5ctMnbJObCTY",
        "colab_type": "code",
        "colab": {}
      },
      "source": [
        "# 넘파이 배열 내 데이터타입 변경\n",
        "x_data = x_data.astype('float32')\n",
        "y_data = y_data.astype('float32')"
      ],
      "execution_count": 0,
      "outputs": []
    },
    {
      "cell_type": "code",
      "metadata": {
        "id": "WZo_o7lFup5j",
        "colab_type": "code",
        "outputId": "7a3edf78-82d2-44e4-d133-1cea0f6e6807",
        "colab": {
          "base_uri": "https://localhost:8080/",
          "height": 158
        }
      },
      "source": [
        "print(y_data.shape)\n",
        "print(y_data[:7]) #레이블 확인"
      ],
      "execution_count": 11,
      "outputs": [
        {
          "output_type": "stream",
          "text": [
            "(768, 1)\n",
            "[[1.]\n",
            " [0.]\n",
            " [1.]\n",
            " [0.]\n",
            " [1.]\n",
            " [0.]\n",
            " [1.]]\n"
          ],
          "name": "stdout"
        }
      ]
    },
    {
      "cell_type": "code",
      "metadata": {
        "id": "rNVOT2slwIEq",
        "colab_type": "code",
        "outputId": "3024dc2a-221d-4860-aa83-26df8918749c",
        "colab": {
          "base_uri": "https://localhost:8080/",
          "height": 281
        }
      },
      "source": [
        "print(x_data.shape)\n",
        "print(x_data[:7,:]) # 피쳐 확인"
      ],
      "execution_count": 12,
      "outputs": [
        {
          "output_type": "stream",
          "text": [
            "(768, 8)\n",
            "[[6.000e+00 1.480e+02 7.200e+01 3.500e+01 0.000e+00 3.360e+01 6.270e-01\n",
            "  5.000e+01]\n",
            " [1.000e+00 8.500e+01 6.600e+01 2.900e+01 0.000e+00 2.660e+01 3.510e-01\n",
            "  3.100e+01]\n",
            " [8.000e+00 1.830e+02 6.400e+01 0.000e+00 0.000e+00 2.330e+01 6.720e-01\n",
            "  3.200e+01]\n",
            " [1.000e+00 8.900e+01 6.600e+01 2.300e+01 9.400e+01 2.810e+01 1.670e-01\n",
            "  2.100e+01]\n",
            " [0.000e+00 1.370e+02 4.000e+01 3.500e+01 1.680e+02 4.310e+01 2.288e+00\n",
            "  3.300e+01]\n",
            " [5.000e+00 1.160e+02 7.400e+01 0.000e+00 0.000e+00 2.560e+01 2.010e-01\n",
            "  3.000e+01]\n",
            " [3.000e+00 7.800e+01 5.000e+01 3.200e+01 8.800e+01 3.100e+01 2.480e-01\n",
            "  2.600e+01]]\n"
          ],
          "name": "stdout"
        }
      ]
    },
    {
      "cell_type": "code",
      "metadata": {
        "id": "awbOUtssLrXz",
        "colab_type": "code",
        "outputId": "37bafeb8-6c1d-4332-ac12-a18566d5cf55",
        "colab": {
          "base_uri": "https://localhost:8080/",
          "height": 34
        }
      },
      "source": [
        "np.unique(y_data, return_counts=True)"
      ],
      "execution_count": 13,
      "outputs": [
        {
          "output_type": "execute_result",
          "data": {
            "text/plain": [
              "(array([0., 1.], dtype=float32), array([500, 268]))"
            ]
          },
          "metadata": {
            "tags": []
          },
          "execution_count": 13
        }
      ]
    },
    {
      "cell_type": "code",
      "metadata": {
        "id": "VLMhZjhywTrI",
        "colab_type": "code",
        "colab": {}
      },
      "source": [
        "# 테스트세트를 분리\n",
        "x_train, x_test, y_train, y_test = train_test_split(x_data, y_data, test_size=0.3, stratify=y_data, random_state=777) # 전체 데이터중 30%"
      ],
      "execution_count": 0,
      "outputs": []
    },
    {
      "cell_type": "code",
      "metadata": {
        "id": "8pzqSWQOL1Ub",
        "colab_type": "code",
        "outputId": "6368bc5a-3f48-4d1c-99fc-41a0c16fe441",
        "colab": {
          "base_uri": "https://localhost:8080/",
          "height": 34
        }
      },
      "source": [
        "np.unique(y_train, return_counts=True)"
      ],
      "execution_count": 15,
      "outputs": [
        {
          "output_type": "execute_result",
          "data": {
            "text/plain": [
              "(array([0., 1.], dtype=float32), array([350, 187]))"
            ]
          },
          "metadata": {
            "tags": []
          },
          "execution_count": 15
        }
      ]
    },
    {
      "cell_type": "code",
      "metadata": {
        "id": "C1rA7T03Dgpv",
        "colab_type": "code",
        "outputId": "4ec54cd4-677f-4cce-cdc5-af65a656c67f",
        "colab": {
          "base_uri": "https://localhost:8080/",
          "height": 52
        }
      },
      "source": [
        "print(\"학습용 \",x_train.shape, \"\\t\", y_train.shape) # 학습용 피쳐, 레이블 데이터 \n",
        "print(\"테스트용 \",x_test.shape, \"\\t\", y_test.shape) # 테스트용 피쳐, 레이블 데이터"
      ],
      "execution_count": 16,
      "outputs": [
        {
          "output_type": "stream",
          "text": [
            "학습용  (537, 8) \t (537, 1)\n",
            "테스트용  (231, 8) \t (231, 1)\n"
          ],
          "name": "stdout"
        }
      ]
    },
    {
      "cell_type": "code",
      "metadata": {
        "id": "34ktK3ffGUCV",
        "colab_type": "code",
        "colab": {}
      },
      "source": [
        "scaler = StandardScaler()"
      ],
      "execution_count": 0,
      "outputs": []
    },
    {
      "cell_type": "code",
      "metadata": {
        "id": "F1WpyU7LJGrh",
        "colab_type": "code",
        "colab": {}
      },
      "source": [
        "# 텐서플로우 그래프 그리기\n",
        "num_x = x_data.shape[1]\n",
        "X = tf.placeholder(tf.float32, shape=[None, num_x]) \n",
        "Y = tf.placeholder(tf.float32, shape=[None, 1])\n",
        "W = tf.Variable(tf.random.normal([num_x , 1]), name='weight') \n",
        "b = tf.Variable(tf.random.normal([1]), name='bias')"
      ],
      "execution_count": 0,
      "outputs": []
    },
    {
      "cell_type": "code",
      "metadata": {
        "id": "i-5-BV1iLjf8",
        "colab_type": "code",
        "colab": {}
      },
      "source": [
        "hypothesis = tf.sigmoid(tf.matmul(X,W) + b)"
      ],
      "execution_count": 0,
      "outputs": []
    },
    {
      "cell_type": "code",
      "metadata": {
        "id": "TQpuIqHHLm_q",
        "colab_type": "code",
        "colab": {}
      },
      "source": [
        "cost = -tf.reduce_mean(Y*tf.log(hypothesis) +  (1-Y)*tf.log(1-hypothesis))"
      ],
      "execution_count": 0,
      "outputs": []
    },
    {
      "cell_type": "code",
      "metadata": {
        "id": "-DcXkwHMMtNJ",
        "colab_type": "code",
        "colab": {}
      },
      "source": [
        "train = tf.train.GradientDescentOptimizer(learning_rate=1e-3).minimize(cost)"
      ],
      "execution_count": 0,
      "outputs": []
    },
    {
      "cell_type": "code",
      "metadata": {
        "id": "wOW6RFgFWttw",
        "colab_type": "code",
        "colab": {}
      },
      "source": [
        "predicted = tf.cast(hypothesis > 0.5 , dtype=tf.float32)"
      ],
      "execution_count": 0,
      "outputs": []
    },
    {
      "cell_type": "code",
      "metadata": {
        "id": "ecp-EG3XWuFw",
        "colab_type": "code",
        "colab": {}
      },
      "source": [
        "accuracy = tf.reduce_mean(tf.cast(tf.equal(predicted, Y), dtype=tf.float32))"
      ],
      "execution_count": 0,
      "outputs": []
    },
    {
      "cell_type": "code",
      "metadata": {
        "id": "yI8S6FaiMRl7",
        "colab_type": "code",
        "colab": {}
      },
      "source": [
        "sess = tf.Session()"
      ],
      "execution_count": 0,
      "outputs": []
    },
    {
      "cell_type": "code",
      "metadata": {
        "id": "Y6DamJxYMTMC",
        "colab_type": "code",
        "colab": {}
      },
      "source": [
        "sess.run(tf.global_variables_initializer())"
      ],
      "execution_count": 0,
      "outputs": []
    },
    {
      "cell_type": "code",
      "metadata": {
        "id": "hCd2LhbXM-ti",
        "colab_type": "code",
        "colab": {}
      },
      "source": [
        "w_history = [] # 변화하는 가중치 행렬을 담기위한 리스트\n",
        "cost_list = [] # 감소하는 cost를 담기위한 리스트"
      ],
      "execution_count": 0,
      "outputs": []
    },
    {
      "cell_type": "code",
      "metadata": {
        "id": "knqz78V4JH1-",
        "colab_type": "code",
        "colab": {}
      },
      "source": [
        "n_fold = 5 # 5개의 폴드\n",
        "skf = StratifiedKFold(n_splits=n_fold) \n",
        "cv_accuracy = [] # 폴드세트별 정확도를 저장할 리스트"
      ],
      "execution_count": 0,
      "outputs": []
    },
    {
      "cell_type": "code",
      "metadata": {
        "id": "_2c4GtvAMVW_",
        "colab_type": "code",
        "outputId": "0559f4b4-3c9a-46b7-d32f-1691223d697d",
        "colab": {
          "base_uri": "https://localhost:8080/",
          "height": 422
        }
      },
      "source": [
        "epochs = 4501\n",
        "  \n",
        "for step in range(epochs):\n",
        "  fold_cost = 0\n",
        "  fold_accuracy = 0\n",
        "  for train_index, test_index in skf.split(x_train, y_train):\n",
        "    train_random_index = np.random.permutation(train_index)\n",
        "    test_random_index = np.random.permutation(test_index)\n",
        "\n",
        "     # 학습폴드, 검증폴드 분리(피쳐, 레이블 별)\n",
        "    train_feature_fold, val_feature_fold = x_train[train_random_index], x_train[test_random_index]\n",
        "    train_label_fold, val_label_fold = y_train[train_random_index], y_train[test_random_index]\n",
        "\n",
        "    # 학습폴드를 기준으로 표준화\n",
        "    scaler.fit(train_feature_fold)\n",
        "    \n",
        "    # 학습폴드를 기준으로 학습폴드, 검증폴드를 표준화\n",
        "    train_feature_fold_scaled = scaler.transform(train_feature_fold) \n",
        "    val_feature_fold_scaled = scaler.transform(val_feature_fold) \n",
        "\n",
        "    # 학습폴드로 학습 \n",
        "    cost_val, W_all, _ = sess.run([cost, W, train], feed_dict={X:train_feature_fold_scaled, Y:train_label_fold})\n",
        "\n",
        "    fold_cost += cost_val\n",
        "    w_history.append(W_all.copy())  \n",
        "\n",
        "    # 폴드세트별 Accuracy 저장 \n",
        "    fold_accuracy += sess.run(accuracy, feed_dict={X:val_feature_fold_scaled, Y:val_label_fold})\n",
        "\n",
        "\n",
        "  cv_accuracy.append(fold_accuracy/n_fold) # epoch 별 검증폴드의 평균 Accuracy를 저장한다\n",
        "  cost_list.append(fold_cost/n_fold) # epoch 별 학습폴드의 평균 cost를 저장한다\n",
        "\n",
        "  if step % 200 == 0:\n",
        "    print(\"step=\",step,\" cost=\", fold_cost/n_fold, \"accuracy=\",fold_accuracy/n_fold)"
      ],
      "execution_count": 28,
      "outputs": [
        {
          "output_type": "stream",
          "text": [
            "step= 0  cost= 0.7726391553878784 accuracy= 0.6218933939933777\n",
            "step= 200  cost= 0.6967894911766053 accuracy= 0.6498615503311157\n",
            "step= 400  cost= 0.6427201986312866 accuracy= 0.6722222208976746\n",
            "step= 600  cost= 0.6033202528953552 accuracy= 0.7094842433929444\n",
            "step= 800  cost= 0.5740209579467773 accuracy= 0.7188473582267761\n",
            "step= 1000  cost= 0.5518427610397338 accuracy= 0.7356351613998413\n",
            "step= 1200  cost= 0.5348060011863709 accuracy= 0.7431118011474609\n",
            "step= 1400  cost= 0.5215642929077149 accuracy= 0.7524749040603638\n",
            "step= 1600  cost= 0.511176872253418 accuracy= 0.7636725544929505\n",
            "step= 1800  cost= 0.5029696226119995 accuracy= 0.7655071020126343\n",
            "step= 2000  cost= 0.4964473724365234 accuracy= 0.7636206269264221\n",
            "step= 2200  cost= 0.4912396788597107 accuracy= 0.7710626602172852\n",
            "step= 2400  cost= 0.4870645761489868 accuracy= 0.7729145169258118\n",
            "step= 2600  cost= 0.48370482325553893 accuracy= 0.7747836709022522\n",
            "step= 2800  cost= 0.48099170327186586 accuracy= 0.7785046696662903\n",
            "step= 3000  cost= 0.47879305481910706 accuracy= 0.7803738355636597\n",
            "step= 3200  cost= 0.4770049512386322 accuracy= 0.7822429895401001\n",
            "step= 3400  cost= 0.47554545998573305 accuracy= 0.782260286808014\n",
            "step= 3600  cost= 0.47434967160224917 accuracy= 0.7841121435165406\n",
            "step= 3800  cost= 0.47336614727973936 accuracy= 0.7822429895401001\n",
            "step= 4000  cost= 0.472553950548172 accuracy= 0.7859640002250672\n",
            "step= 4200  cost= 0.4718805730342865 accuracy= 0.7859640002250672\n",
            "step= 4400  cost= 0.47132001519203187 accuracy= 0.7859640121459961\n"
          ],
          "name": "stdout"
        }
      ]
    },
    {
      "cell_type": "code",
      "metadata": {
        "id": "7MGrAtdBMqy-",
        "colab_type": "code",
        "outputId": "05bac0b8-4b75-48ae-a36a-e02d6becbf2d",
        "colab": {
          "base_uri": "https://localhost:8080/",
          "height": 279
        }
      },
      "source": [
        "plt.plot(cost_list)\n",
        "plt.xlabel(\"epochs\")\n",
        "plt.ylabel(\"cost\")\n",
        "plt.show()"
      ],
      "execution_count": 29,
      "outputs": [
        {
          "output_type": "display_data",
          "data": {
            "image/png": "[encoded data removed]",
            "text/plain": [
              "<Figure size 432x288 with 1 Axes>"
            ]
          },
          "metadata": {
            "tags": [],
            "needs_background": "light"
          }
        }
      ]
    },
    {
      "cell_type": "code",
      "metadata": {
        "id": "msfRuarFXYs3",
        "colab_type": "code",
        "outputId": "b89d3be7-c349-430f-ebd7-77d7433e77ae",
        "colab": {
          "base_uri": "https://localhost:8080/",
          "height": 279
        }
      },
      "source": [
        "plt.plot(cv_accuracy)\n",
        "plt.xlabel(\"epochs\")\n",
        "plt.ylabel(\"cv_accuracy\")\n",
        "plt.show()"
      ],
      "execution_count": 30,
      "outputs": [
        {
          "output_type": "display_data",
          "data": {
            "image/png": "[encoded data removed]",
            "text/plain": [
              "<Figure size 432x288 with 1 Axes>"
            ]
          },
          "metadata": {
            "tags": [],
            "needs_background": "light"
          }
        }
      ]
    },
    {
      "cell_type": "code",
      "metadata": {
        "id": "oRGbJhrO-1_p",
        "colab_type": "code",
        "outputId": "eab449c4-3f68-4d03-9858-b3094c6346c5",
        "colab": {
          "base_uri": "https://localhost:8080/",
          "height": 280
        }
      },
      "source": [
        "# 가중치 업데이트 과정 그래프 (임신횟수, 공복혈당농도)\n",
        "w0 = []\n",
        "w1 = []\n",
        "for w in  w_history:\n",
        "  w0.append(w[0])\n",
        "  w1.append(w[1])\n",
        "plt.plot(w0, w1)\n",
        "plt.plot(w0[-1], w1[-1],'bo')\n",
        "plt.xlabel('w[0]')\n",
        "plt.ylabel('w[1]')\n",
        "plt.show()"
      ],
      "execution_count": 31,
      "outputs": [
        {
          "output_type": "display_data",
          "data": {
            "image/png": "[encoded data removed]",
            "text/plain": [
              "<Figure size 432x288 with 1 Axes>"
            ]
          },
          "metadata": {
            "tags": [],
            "needs_background": "light"
          }
        }
      ]
    },
    {
      "cell_type": "code",
      "metadata": {
        "id": "8C_i1H-xQL3w",
        "colab_type": "code",
        "outputId": "db5cfb7e-3a59-44a0-d930-76ccc24a1bd4",
        "colab": {
          "base_uri": "https://localhost:8080/",
          "height": 34
        }
      },
      "source": [
        "# 테스트 세트에 대한 정확도 구하기\n",
        "x_test_scaled = scaler.transform(x_test)\n",
        "a = sess.run(accuracy, feed_dict={X:x_test_scaled, Y:y_test})\n",
        "print(\"정확도 : \", str(a*100)[:5], \"%\", sep=\"\")"
      ],
      "execution_count": 32,
      "outputs": [
        {
          "output_type": "stream",
          "text": [
            "정확도 : 77.05%\n"
          ],
          "name": "stdout"
        }
      ]
    },
    {
      "cell_type": "code",
      "metadata": {
        "id": "le2IpBetVxYq",
        "colab_type": "code",
        "colab": {}
      },
      "source": [
        "# 임의의 샘플데이터 5개로 예측값 구해보기\n",
        "X_test_5 = np.array([[4,120,70,20,80,30,0.5,33],\n",
        "                     [11,120,70,20,80,30,0.5,33],\n",
        "                     [4,190,70,20,80,30,0.5,33],\n",
        "                     [4,120,160,20,80,30,0.5,33],\n",
        "                     [4,120,70,100,80,30,0.5,33],\n",
        "                     [4,120,70,20,300,30,0.5,33],\n",
        "                     [4,120,70,20,80,50,0.5,33],\n",
        "                     [4,120,70,20,80,30,2,33],\n",
        "                     [4,120,70,20,80,30,0.5,100]])\n",
        "X_test_5_scaled = scaler.transform(X_test_5)"
      ],
      "execution_count": 0,
      "outputs": []
    },
    {
      "cell_type": "code",
      "metadata": {
        "id": "JJ3tLX9OssoR",
        "colab_type": "code",
        "outputId": "ff728d2f-74d5-42a2-d186-8b363564f9cb",
        "colab": {
          "base_uri": "https://localhost:8080/",
          "height": 175
        }
      },
      "source": [
        "print(sess.run(predicted, feed_dict={X:X_test_5_scaled}))"
      ],
      "execution_count": 34,
      "outputs": [
        {
          "output_type": "stream",
          "text": [
            "[[0.]\n",
            " [1.]\n",
            " [1.]\n",
            " [0.]\n",
            " [0.]\n",
            " [0.]\n",
            " [1.]\n",
            " [1.]\n",
            " [0.]]\n"
          ],
          "name": "stdout"
        }
      ]
    },
    {
      "cell_type": "code",
      "metadata": {
        "id": "3ZouWe-yQFjA",
        "colab_type": "code",
        "outputId": "a23e267a-0539-4899-95a7-5df869ee7688",
        "colab": {
          "base_uri": "https://localhost:8080/",
          "height": 87
        }
      },
      "source": [
        "try:\n",
        "  x_input = input(\"입력(임신횟수, 공복혈당농도, 혈압, 피부주름두께, 혈정인슐린, BMI, 당뇨병가족력, 나이): \")\n",
        "  if x_input == 'x':\n",
        "    raise NotImplementedError\n",
        "  x_input_strip =[ float(i.strip()) for i in x_input.split(\",\")]\n",
        "  print(\"임신횟수\\t공복혈당농도\\t혈압\\t\\t피부주름두께\\t혈정인슐린\\tBMI\\t\\t당뇨병가족력\\t나이\")\n",
        "  for i in x_input_strip:\n",
        "    print(i,end=\"\\t\\t\")\n",
        "  print()\n",
        "  x_input_test = np.array([x_input_strip]).astype('float32')\n",
        "\n",
        "  x_input_test_scaled = scaler.transform(x_input_test)\n",
        "\n",
        "  print(\"예상 결과 : \", (sess.run(predicted, feed_dict={X:x_input_test_scaled}))) \n",
        "  \n",
        "except ValueError:\n",
        "  print(\"입력을 다시 확인해주세요\")\n",
        "except NotImplementedError:\n",
        "  print(\"종료\")"
      ],
      "execution_count": 35,
      "outputs": [
        {
          "output_type": "stream",
          "text": [
            "입력(임신횟수, 공복혈당농도, 혈압, 피부주름두께, 혈정인슐린, BMI, 당뇨병가족력, 나이): 4,120,70,20,80,30,0.5,33\n",
            "임신횟수\t공복혈당농도\t혈압\t\t피부주름두께\t혈정인슐린\tBMI\t\t당뇨병가족력\t나이\n",
            "4.0\t\t120.0\t\t70.0\t\t20.0\t\t80.0\t\t30.0\t\t0.5\t\t33.0\t\t\n",
            "예상 결과 :  [[0.]]\n"
          ],
          "name": "stdout"
        }
      ]
    },
    {
      "cell_type": "code",
      "metadata": {
        "id": "Idmngbn5BbRv",
        "colab_type": "code",
        "colab": {}
      },
      "source": [
        "result_df = pd.DataFrame(X_test_5, columns=['임신횟수', '공복혈당농도', '혈압', '피부주름두께', '혈정인슐린', 'BMI', '당뇨병가족력', '나이'])"
      ],
      "execution_count": 0,
      "outputs": []
    },
    {
      "cell_type": "code",
      "metadata": {
        "id": "CIZsGePeBolu",
        "colab_type": "code",
        "outputId": "bd19a4fe-0c87-494f-dfd8-cfb616770eb0",
        "colab": {
          "base_uri": "https://localhost:8080/",
          "height": 314
        }
      },
      "source": [
        "result_df"
      ],
      "execution_count": 37,
      "outputs": [
        {
          "output_type": "execute_result",
          "data": {
            "text/html": [
              "<div>\n",
              "<style scoped>\n",
              "    .dataframe tbody tr th:only-of-type {\n",
              "        vertical-align: middle;\n",
              "    }\n",
              "\n",
              "    .dataframe tbody tr th {\n",
              "        vertical-align: top;\n",
              "    }\n",
              "\n",
              "    .dataframe thead th {\n",
              "        text-align: right;\n",
              "    }\n",
              "</style>\n",
              "<table border=\"1\" class=\"dataframe\">\n",
              "  <thead>\n",
              "    <tr style=\"text-align: right;\">\n",
              "      <th></th>\n",
              "      <th>임신횟수</th>\n",
              "      <th>공복혈당농도</th>\n",
              "      <th>혈압</th>\n",
              "      <th>피부주름두께</th>\n",
              "      <th>혈정인슐린</th>\n",
              "      <th>BMI</th>\n",
              "      <th>당뇨병가족력</th>\n",
              "      <th>나이</th>\n",
              "    </tr>\n",
              "  </thead>\n",
              "  <tbody>\n",
              "    <tr>\n",
              "      <th>0</th>\n",
              "      <td>4.0</td>\n",
              "      <td>120.0</td>\n",
              "      <td>70.0</td>\n",
              "      <td>20.0</td>\n",
              "      <td>80.0</td>\n",
              "      <td>30.0</td>\n",
              "      <td>0.5</td>\n",
              "      <td>33.0</td>\n",
              "    </tr>\n",
              "    <tr>\n",
              "      <th>1</th>\n",
              "      <td>11.0</td>\n",
              "      <td>120.0</td>\n",
              "      <td>70.0</td>\n",
              "      <td>20.0</td>\n",
              "      <td>80.0</td>\n",
              "      <td>30.0</td>\n",
              "      <td>0.5</td>\n",
              "      <td>33.0</td>\n",
              "    </tr>\n",
              "    <tr>\n",
              "      <th>2</th>\n",
              "      <td>4.0</td>\n",
              "      <td>190.0</td>\n",
              "      <td>70.0</td>\n",
              "      <td>20.0</td>\n",
              "      <td>80.0</td>\n",
              "      <td>30.0</td>\n",
              "      <td>0.5</td>\n",
              "      <td>33.0</td>\n",
              "    </tr>\n",
              "    <tr>\n",
              "      <th>3</th>\n",
              "      <td>4.0</td>\n",
              "      <td>120.0</td>\n",
              "      <td>160.0</td>\n",
              "      <td>20.0</td>\n",
              "      <td>80.0</td>\n",
              "      <td>30.0</td>\n",
              "      <td>0.5</td>\n",
              "      <td>33.0</td>\n",
              "    </tr>\n",
              "    <tr>\n",
              "      <th>4</th>\n",
              "      <td>4.0</td>\n",
              "      <td>120.0</td>\n",
              "      <td>70.0</td>\n",
              "      <td>100.0</td>\n",
              "      <td>80.0</td>\n",
              "      <td>30.0</td>\n",
              "      <td>0.5</td>\n",
              "      <td>33.0</td>\n",
              "    </tr>\n",
              "    <tr>\n",
              "      <th>5</th>\n",
              "      <td>4.0</td>\n",
              "      <td>120.0</td>\n",
              "      <td>70.0</td>\n",
              "      <td>20.0</td>\n",
              "      <td>300.0</td>\n",
              "      <td>30.0</td>\n",
              "      <td>0.5</td>\n",
              "      <td>33.0</td>\n",
              "    </tr>\n",
              "    <tr>\n",
              "      <th>6</th>\n",
              "      <td>4.0</td>\n",
              "      <td>120.0</td>\n",
              "      <td>70.0</td>\n",
              "      <td>20.0</td>\n",
              "      <td>80.0</td>\n",
              "      <td>50.0</td>\n",
              "      <td>0.5</td>\n",
              "      <td>33.0</td>\n",
              "    </tr>\n",
              "    <tr>\n",
              "      <th>7</th>\n",
              "      <td>4.0</td>\n",
              "      <td>120.0</td>\n",
              "      <td>70.0</td>\n",
              "      <td>20.0</td>\n",
              "      <td>80.0</td>\n",
              "      <td>30.0</td>\n",
              "      <td>2.0</td>\n",
              "      <td>33.0</td>\n",
              "    </tr>\n",
              "    <tr>\n",
              "      <th>8</th>\n",
              "      <td>4.0</td>\n",
              "      <td>120.0</td>\n",
              "      <td>70.0</td>\n",
              "      <td>20.0</td>\n",
              "      <td>80.0</td>\n",
              "      <td>30.0</td>\n",
              "      <td>0.5</td>\n",
              "      <td>100.0</td>\n",
              "    </tr>\n",
              "  </tbody>\n",
              "</table>\n",
              "</div>"
            ],
            "text/plain": [
              "   임신횟수  공복혈당농도     혈압  피부주름두께  혈정인슐린   BMI  당뇨병가족력     나이\n",
              "0   4.0   120.0   70.0    20.0   80.0  30.0     0.5   33.0\n",
              "1  11.0   120.0   70.0    20.0   80.0  30.0     0.5   33.0\n",
              "2   4.0   190.0   70.0    20.0   80.0  30.0     0.5   33.0\n",
              "3   4.0   120.0  160.0    20.0   80.0  30.0     0.5   33.0\n",
              "4   4.0   120.0   70.0   100.0   80.0  30.0     0.5   33.0\n",
              "5   4.0   120.0   70.0    20.0  300.0  30.0     0.5   33.0\n",
              "6   4.0   120.0   70.0    20.0   80.0  50.0     0.5   33.0\n",
              "7   4.0   120.0   70.0    20.0   80.0  30.0     2.0   33.0\n",
              "8   4.0   120.0   70.0    20.0   80.0  30.0     0.5  100.0"
            ]
          },
          "metadata": {
            "tags": []
          },
          "execution_count": 37
        }
      ]
    },
    {
      "cell_type": "code",
      "metadata": {
        "id": "AoFIdkYPCNHT",
        "colab_type": "code",
        "colab": {}
      },
      "source": [
        "result_df['예측 결과'] = sess.run(predicted, feed_dict={X:X_test_5_scaled})"
      ],
      "execution_count": 0,
      "outputs": []
    },
    {
      "cell_type": "code",
      "metadata": {
        "id": "odX-YWHKCVRL",
        "colab_type": "code",
        "colab": {}
      },
      "source": [
        "result_df.loc[result_df[\"예측 결과\"]==1,\"예측 결과\"] = \"양성\"\n",
        "result_df.loc[result_df[\"예측 결과\"]==0,\"예측 결과\"] = \"음성\""
      ],
      "execution_count": 0,
      "outputs": []
    },
    {
      "cell_type": "code",
      "metadata": {
        "id": "W7YxCgiU2E1B",
        "colab_type": "code",
        "outputId": "f6368bfc-825b-426e-ac34-9c7a6a59bfb2",
        "colab": {
          "base_uri": "https://localhost:8080/",
          "height": 314
        }
      },
      "source": [
        "result_df"
      ],
      "execution_count": 40,
      "outputs": [
        {
          "output_type": "execute_result",
          "data": {
            "text/html": [
              "<div>\n",
              "<style scoped>\n",
              "    .dataframe tbody tr th:only-of-type {\n",
              "        vertical-align: middle;\n",
              "    }\n",
              "\n",
              "    .dataframe tbody tr th {\n",
              "        vertical-align: top;\n",
              "    }\n",
              "\n",
              "    .dataframe thead th {\n",
              "        text-align: right;\n",
              "    }\n",
              "</style>\n",
              "<table border=\"1\" class=\"dataframe\">\n",
              "  <thead>\n",
              "    <tr style=\"text-align: right;\">\n",
              "      <th></th>\n",
              "      <th>임신횟수</th>\n",
              "      <th>공복혈당농도</th>\n",
              "      <th>혈압</th>\n",
              "      <th>피부주름두께</th>\n",
              "      <th>혈정인슐린</th>\n",
              "      <th>BMI</th>\n",
              "      <th>당뇨병가족력</th>\n",
              "      <th>나이</th>\n",
              "      <th>예측 결과</th>\n",
              "    </tr>\n",
              "  </thead>\n",
              "  <tbody>\n",
              "    <tr>\n",
              "      <th>0</th>\n",
              "      <td>4.0</td>\n",
              "      <td>120.0</td>\n",
              "      <td>70.0</td>\n",
              "      <td>20.0</td>\n",
              "      <td>80.0</td>\n",
              "      <td>30.0</td>\n",
              "      <td>0.5</td>\n",
              "      <td>33.0</td>\n",
              "      <td>음성</td>\n",
              "    </tr>\n",
              "    <tr>\n",
              "      <th>1</th>\n",
              "      <td>11.0</td>\n",
              "      <td>120.0</td>\n",
              "      <td>70.0</td>\n",
              "      <td>20.0</td>\n",
              "      <td>80.0</td>\n",
              "      <td>30.0</td>\n",
              "      <td>0.5</td>\n",
              "      <td>33.0</td>\n",
              "      <td>양성</td>\n",
              "    </tr>\n",
              "    <tr>\n",
              "      <th>2</th>\n",
              "      <td>4.0</td>\n",
              "      <td>190.0</td>\n",
              "      <td>70.0</td>\n",
              "      <td>20.0</td>\n",
              "      <td>80.0</td>\n",
              "      <td>30.0</td>\n",
              "      <td>0.5</td>\n",
              "      <td>33.0</td>\n",
              "      <td>양성</td>\n",
              "    </tr>\n",
              "    <tr>\n",
              "      <th>3</th>\n",
              "      <td>4.0</td>\n",
              "      <td>120.0</td>\n",
              "      <td>160.0</td>\n",
              "      <td>20.0</td>\n",
              "      <td>80.0</td>\n",
              "      <td>30.0</td>\n",
              "      <td>0.5</td>\n",
              "      <td>33.0</td>\n",
              "      <td>음성</td>\n",
              "    </tr>\n",
              "    <tr>\n",
              "      <th>4</th>\n",
              "      <td>4.0</td>\n",
              "      <td>120.0</td>\n",
              "      <td>70.0</td>\n",
              "      <td>100.0</td>\n",
              "      <td>80.0</td>\n",
              "      <td>30.0</td>\n",
              "      <td>0.5</td>\n",
              "      <td>33.0</td>\n",
              "      <td>음성</td>\n",
              "    </tr>\n",
              "    <tr>\n",
              "      <th>5</th>\n",
              "      <td>4.0</td>\n",
              "      <td>120.0</td>\n",
              "      <td>70.0</td>\n",
              "      <td>20.0</td>\n",
              "      <td>300.0</td>\n",
              "      <td>30.0</td>\n",
              "      <td>0.5</td>\n",
              "      <td>33.0</td>\n",
              "      <td>음성</td>\n",
              "    </tr>\n",
              "    <tr>\n",
              "      <th>6</th>\n",
              "      <td>4.0</td>\n",
              "      <td>120.0</td>\n",
              "      <td>70.0</td>\n",
              "      <td>20.0</td>\n",
              "      <td>80.0</td>\n",
              "      <td>50.0</td>\n",
              "      <td>0.5</td>\n",
              "      <td>33.0</td>\n",
              "      <td>양성</td>\n",
              "    </tr>\n",
              "    <tr>\n",
              "      <th>7</th>\n",
              "      <td>4.0</td>\n",
              "      <td>120.0</td>\n",
              "      <td>70.0</td>\n",
              "      <td>20.0</td>\n",
              "      <td>80.0</td>\n",
              "      <td>30.0</td>\n",
              "      <td>2.0</td>\n",
              "      <td>33.0</td>\n",
              "      <td>양성</td>\n",
              "    </tr>\n",
              "    <tr>\n",
              "      <th>8</th>\n",
              "      <td>4.0</td>\n",
              "      <td>120.0</td>\n",
              "      <td>70.0</td>\n",
              "      <td>20.0</td>\n",
              "      <td>80.0</td>\n",
              "      <td>30.0</td>\n",
              "      <td>0.5</td>\n",
              "      <td>100.0</td>\n",
              "      <td>음성</td>\n",
              "    </tr>\n",
              "  </tbody>\n",
              "</table>\n",
              "</div>"
            ],
            "text/plain": [
              "   임신횟수  공복혈당농도     혈압  피부주름두께  혈정인슐린   BMI  당뇨병가족력     나이 예측 결과\n",
              "0   4.0   120.0   70.0    20.0   80.0  30.0     0.5   33.0    음성\n",
              "1  11.0   120.0   70.0    20.0   80.0  30.0     0.5   33.0    양성\n",
              "2   4.0   190.0   70.0    20.0   80.0  30.0     0.5   33.0    양성\n",
              "3   4.0   120.0  160.0    20.0   80.0  30.0     0.5   33.0    음성\n",
              "4   4.0   120.0   70.0   100.0   80.0  30.0     0.5   33.0    음성\n",
              "5   4.0   120.0   70.0    20.0  300.0  30.0     0.5   33.0    음성\n",
              "6   4.0   120.0   70.0    20.0   80.0  50.0     0.5   33.0    양성\n",
              "7   4.0   120.0   70.0    20.0   80.0  30.0     2.0   33.0    양성\n",
              "8   4.0   120.0   70.0    20.0   80.0  30.0     0.5  100.0    음성"
            ]
          },
          "metadata": {
            "tags": []
          },
          "execution_count": 40
        }
      ]
    },
    {
      "cell_type": "code",
      "metadata": {
        "id": "hoQyQFRg2QC2",
        "colab_type": "code",
        "colab": {}
      },
      "source": [
        "sess.close()"
      ],
      "execution_count": 0,
      "outputs": []
    }
  ]
}