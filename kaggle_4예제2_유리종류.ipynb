{
  "nbformat": 4,
  "nbformat_minor": 0,
  "metadata": {
    "colab": {
      "name": "kaggle#4예제2_유리종류",
      "provenance": [],
      "collapsed_sections": [],
      "authorship_tag": "ABX9TyPZLA75l2fWTTeSKMYOP42x",
      "include_colab_link": true
    },
    "kernelspec": {
      "name": "python3",
      "display_name": "Python 3"
    }
  },
  "cells": [
    {
      "cell_type": "markdown",
      "metadata": {
        "id": "view-in-github",
        "colab_type": "text"
      },
      "source": [
        "<a href=\"https://colab.research.google.com/github/Jiho-korea/DeepLearning/blob/master/kaggle_4%EC%98%88%EC%A0%9C2_%EC%9C%A0%EB%A6%AC%EC%A2%85%EB%A5%98.ipynb\" target=\"_parent\"><img src=\"https://colab.research.google.com/assets/colab-badge.svg\" alt=\"Open In Colab\"/></a>"
      ]
    },
    {
      "cell_type": "code",
      "metadata": {
        "id": "SB0vIfH0objU",
        "colab_type": "code",
        "outputId": "9f458dbb-f213-4d7e-aafe-a822fcbc6d4f",
        "colab": {
          "base_uri": "https://localhost:8080/",
          "height": 125
        }
      },
      "source": [
        "from google.colab import drive\n",
        "drive.mount('/gdrive', force_remount=True)"
      ],
      "execution_count": 0,
      "outputs": [
        {
          "output_type": "stream",
          "text": [
            "Go to this URL in a browser: https://accounts.google.com/o/oauth2/auth?client_id=947318989803-6bn6qk8qdgf4n4g3pfee6491hc0brc4i.apps.googleusercontent.com&redirect_uri=urn%3aietf%3awg%3aoauth%3a2.0%3aoob&response_type=code&scope=email%20https%3a%2f%2fwww.googleapis.com%2fauth%2fdocs.test%20https%3a%2f%2fwww.googleapis.com%2fauth%2fdrive%20https%3a%2f%2fwww.googleapis.com%2fauth%2fdrive.photos.readonly%20https%3a%2f%2fwww.googleapis.com%2fauth%2fpeopleapi.readonly\n",
            "\n",
            "Enter your authorization code:\n",
            "··········\n",
            "Mounted at /gdrive\n"
          ],
          "name": "stdout"
        }
      ]
    },
    {
      "cell_type": "code",
      "metadata": {
        "id": "YYkn9L2BmpS4",
        "colab_type": "code",
        "outputId": "a551d6fc-831c-41f3-cc93-15f70ca66e28",
        "colab": {
          "base_uri": "https://localhost:8080/",
          "height": 905
        }
      },
      "source": [
        "!pip install --upgrade tensorflow==1.15.0"
      ],
      "execution_count": 0,
      "outputs": [
        {
          "output_type": "stream",
          "text": [
            "Collecting tensorflow==1.15.0\n",
            "\u001b[?25l  Downloading https://files.pythonhosted.org/packages/3f/98/5a99af92fb911d7a88a0005ad55005f35b4c1ba8d75fba02df726cd936e6/tensorflow-1.15.0-cp36-cp36m-manylinux2010_x86_64.whl (412.3MB)\n",
            "\u001b[K     |████████████████████████████████| 412.3MB 37kB/s \n",
            "\u001b[?25hRequirement already satisfied, skipping upgrade: google-pasta>=0.1.6 in /usr/local/lib/python3.6/dist-packages (from tensorflow==1.15.0) (0.2.0)\n",
            "Collecting tensorflow-estimator==1.15.1\n",
            "\u001b[?25l  Downloading https://files.pythonhosted.org/packages/de/62/2ee9cd74c9fa2fa450877847ba560b260f5d0fb70ee0595203082dafcc9d/tensorflow_estimator-1.15.1-py2.py3-none-any.whl (503kB)\n",
            "\u001b[K     |████████████████████████████████| 512kB 24.5MB/s \n",
            "\u001b[?25hCollecting gast==0.2.2\n",
            "  Downloading https://files.pythonhosted.org/packages/4e/35/11749bf99b2d4e3cceb4d55ca22590b0d7c2c62b9de38ac4a4a7f4687421/gast-0.2.2.tar.gz\n",
            "Requirement already satisfied, skipping upgrade: opt-einsum>=2.3.2 in /usr/local/lib/python3.6/dist-packages (from tensorflow==1.15.0) (3.2.1)\n",
            "Collecting tensorboard<1.16.0,>=1.15.0\n",
            "\u001b[?25l  Downloading https://files.pythonhosted.org/packages/1e/e9/d3d747a97f7188f48aa5eda486907f3b345cd409f0a0850468ba867db246/tensorboard-1.15.0-py3-none-any.whl (3.8MB)\n",
            "\u001b[K     |████████████████████████████████| 3.8MB 38.3MB/s \n",
            "\u001b[?25hRequirement already satisfied, skipping upgrade: keras-preprocessing>=1.0.5 in /usr/local/lib/python3.6/dist-packages (from tensorflow==1.15.0) (1.1.2)\n",
            "Requirement already satisfied, skipping upgrade: protobuf>=3.6.1 in /usr/local/lib/python3.6/dist-packages (from tensorflow==1.15.0) (3.10.0)\n",
            "Requirement already satisfied, skipping upgrade: grpcio>=1.8.6 in /usr/local/lib/python3.6/dist-packages (from tensorflow==1.15.0) (1.29.0)\n",
            "Requirement already satisfied, skipping upgrade: wrapt>=1.11.1 in /usr/local/lib/python3.6/dist-packages (from tensorflow==1.15.0) (1.12.1)\n",
            "Requirement already satisfied, skipping upgrade: absl-py>=0.7.0 in /usr/local/lib/python3.6/dist-packages (from tensorflow==1.15.0) (0.9.0)\n",
            "Requirement already satisfied, skipping upgrade: six>=1.10.0 in /usr/local/lib/python3.6/dist-packages (from tensorflow==1.15.0) (1.12.0)\n",
            "Requirement already satisfied, skipping upgrade: astor>=0.6.0 in /usr/local/lib/python3.6/dist-packages (from tensorflow==1.15.0) (0.8.1)\n",
            "Requirement already satisfied, skipping upgrade: wheel>=0.26 in /usr/local/lib/python3.6/dist-packages (from tensorflow==1.15.0) (0.34.2)\n",
            "Requirement already satisfied, skipping upgrade: termcolor>=1.1.0 in /usr/local/lib/python3.6/dist-packages (from tensorflow==1.15.0) (1.1.0)\n",
            "Requirement already satisfied, skipping upgrade: numpy<2.0,>=1.16.0 in /usr/local/lib/python3.6/dist-packages (from tensorflow==1.15.0) (1.18.5)\n",
            "Requirement already satisfied, skipping upgrade: keras-applications>=1.0.8 in /usr/local/lib/python3.6/dist-packages (from tensorflow==1.15.0) (1.0.8)\n",
            "Requirement already satisfied, skipping upgrade: setuptools>=41.0.0 in /usr/local/lib/python3.6/dist-packages (from tensorboard<1.16.0,>=1.15.0->tensorflow==1.15.0) (47.1.1)\n",
            "Requirement already satisfied, skipping upgrade: werkzeug>=0.11.15 in /usr/local/lib/python3.6/dist-packages (from tensorboard<1.16.0,>=1.15.0->tensorflow==1.15.0) (1.0.1)\n",
            "Requirement already satisfied, skipping upgrade: markdown>=2.6.8 in /usr/local/lib/python3.6/dist-packages (from tensorboard<1.16.0,>=1.15.0->tensorflow==1.15.0) (3.2.2)\n",
            "Requirement already satisfied, skipping upgrade: h5py in /usr/local/lib/python3.6/dist-packages (from keras-applications>=1.0.8->tensorflow==1.15.0) (2.10.0)\n",
            "Requirement already satisfied, skipping upgrade: importlib-metadata; python_version < \"3.8\" in /usr/local/lib/python3.6/dist-packages (from markdown>=2.6.8->tensorboard<1.16.0,>=1.15.0->tensorflow==1.15.0) (1.6.0)\n",
            "Requirement already satisfied, skipping upgrade: zipp>=0.5 in /usr/local/lib/python3.6/dist-packages (from importlib-metadata; python_version < \"3.8\"->markdown>=2.6.8->tensorboard<1.16.0,>=1.15.0->tensorflow==1.15.0) (3.1.0)\n",
            "Building wheels for collected packages: gast\n",
            "  Building wheel for gast (setup.py) ... \u001b[?25l\u001b[?25hdone\n",
            "  Created wheel for gast: filename=gast-0.2.2-cp36-none-any.whl size=7540 sha256=f030cdcb6f9ff30424a119493e49c9ed37b6c79955a3cf78957e001ee50d9572\n",
            "  Stored in directory: /root/.cache/pip/wheels/5c/2e/7e/a1d4d4fcebe6c381f378ce7743a3ced3699feb89bcfbdadadd\n",
            "Successfully built gast\n",
            "\u001b[31mERROR: tensorflow-probability 0.10.0 has requirement gast>=0.3.2, but you'll have gast 0.2.2 which is incompatible.\u001b[0m\n",
            "Installing collected packages: tensorflow-estimator, gast, tensorboard, tensorflow\n",
            "  Found existing installation: tensorflow-estimator 2.2.0\n",
            "    Uninstalling tensorflow-estimator-2.2.0:\n",
            "      Successfully uninstalled tensorflow-estimator-2.2.0\n",
            "  Found existing installation: gast 0.3.3\n",
            "    Uninstalling gast-0.3.3:\n",
            "      Successfully uninstalled gast-0.3.3\n",
            "  Found existing installation: tensorboard 2.2.2\n",
            "    Uninstalling tensorboard-2.2.2:\n",
            "      Successfully uninstalled tensorboard-2.2.2\n",
            "  Found existing installation: tensorflow 2.2.0\n",
            "    Uninstalling tensorflow-2.2.0:\n",
            "      Successfully uninstalled tensorflow-2.2.0\n",
            "Successfully installed gast-0.2.2 tensorboard-1.15.0 tensorflow-1.15.0 tensorflow-estimator-1.15.1\n"
          ],
          "name": "stdout"
        }
      ]
    },
    {
      "cell_type": "code",
      "metadata": {
        "id": "DWpRnLAjmYgo",
        "colab_type": "code",
        "outputId": "ee322f92-7fb4-461f-801e-edda4ee4b7eb",
        "colab": {
          "base_uri": "https://localhost:8080/",
          "height": 52
        }
      },
      "source": [
        "import tensorflow as tf\n",
        "import numpy as np\n",
        "import pandas as pd\n",
        "import matplotlib.pyplot as plt\n",
        "from sklearn.model_selection import train_test_split\n",
        "from sklearn.preprocessing import StandardScaler\n",
        "from sklearn.model_selection import StratifiedKFold\n",
        "from sklearn.preprocessing import OneHotEncoder\n",
        "from sklearn.preprocessing import LabelEncoder\n",
        "import seaborn as sns"
      ],
      "execution_count": 0,
      "outputs": [
        {
          "output_type": "stream",
          "text": [
            "/usr/local/lib/python3.6/dist-packages/statsmodels/tools/_testing.py:19: FutureWarning: pandas.util.testing is deprecated. Use the functions in the public API at pandas.testing instead.\n",
            "  import pandas.util.testing as tm\n"
          ],
          "name": "stderr"
        }
      ]
    },
    {
      "cell_type": "code",
      "metadata": {
        "id": "-qAOoLa2n-zE",
        "colab_type": "code",
        "colab": {}
      },
      "source": [
        "tf.set_random_seed(777)"
      ],
      "execution_count": 0,
      "outputs": []
    },
    {
      "cell_type": "code",
      "metadata": {
        "id": "qw3zM1dOoX6h",
        "colab_type": "code",
        "colab": {}
      },
      "source": [
        "# 데이터 확인, 분석을 위해 pandas 를 사용\n",
        "xy_df = pd.read_csv('/gdrive/My Drive/Colab Notebooks/DeepLearningPrac/tensorflowPrac/multinomial/kaggle/예제2_유리종류.csv')\n",
        "xy_df = xy_df.dropna(how='all', axis=0)  # 결측치 제거"
      ],
      "execution_count": 0,
      "outputs": []
    },
    {
      "cell_type": "code",
      "metadata": {
        "id": "qVUVqaTosXtJ",
        "colab_type": "code",
        "outputId": "90df38ba-f088-4ea6-fa9f-d9a8c29181e5",
        "colab": {
          "base_uri": "https://localhost:8080/",
          "height": 406
        }
      },
      "source": [
        "xy_df # 데이터프레임 확인"
      ],
      "execution_count": 0,
      "outputs": [
        {
          "output_type": "execute_result",
          "data": {
            "text/html": [
              "<div>\n",
              "<style scoped>\n",
              "    .dataframe tbody tr th:only-of-type {\n",
              "        vertical-align: middle;\n",
              "    }\n",
              "\n",
              "    .dataframe tbody tr th {\n",
              "        vertical-align: top;\n",
              "    }\n",
              "\n",
              "    .dataframe thead th {\n",
              "        text-align: right;\n",
              "    }\n",
              "</style>\n",
              "<table border=\"1\" class=\"dataframe\">\n",
              "  <thead>\n",
              "    <tr style=\"text-align: right;\">\n",
              "      <th></th>\n",
              "      <th>RI</th>\n",
              "      <th>Na</th>\n",
              "      <th>Mg</th>\n",
              "      <th>Al</th>\n",
              "      <th>Si</th>\n",
              "      <th>K</th>\n",
              "      <th>Ca</th>\n",
              "      <th>Ba</th>\n",
              "      <th>Fe</th>\n",
              "      <th>Type</th>\n",
              "    </tr>\n",
              "  </thead>\n",
              "  <tbody>\n",
              "    <tr>\n",
              "      <th>0</th>\n",
              "      <td>1.52101</td>\n",
              "      <td>13.64</td>\n",
              "      <td>4.49</td>\n",
              "      <td>1.10</td>\n",
              "      <td>71.78</td>\n",
              "      <td>0.06</td>\n",
              "      <td>8.75</td>\n",
              "      <td>0.00</td>\n",
              "      <td>0.0</td>\n",
              "      <td>1</td>\n",
              "    </tr>\n",
              "    <tr>\n",
              "      <th>1</th>\n",
              "      <td>1.51761</td>\n",
              "      <td>13.89</td>\n",
              "      <td>3.60</td>\n",
              "      <td>1.36</td>\n",
              "      <td>72.73</td>\n",
              "      <td>0.48</td>\n",
              "      <td>7.83</td>\n",
              "      <td>0.00</td>\n",
              "      <td>0.0</td>\n",
              "      <td>1</td>\n",
              "    </tr>\n",
              "    <tr>\n",
              "      <th>2</th>\n",
              "      <td>1.51618</td>\n",
              "      <td>13.53</td>\n",
              "      <td>3.55</td>\n",
              "      <td>1.54</td>\n",
              "      <td>72.99</td>\n",
              "      <td>0.39</td>\n",
              "      <td>7.78</td>\n",
              "      <td>0.00</td>\n",
              "      <td>0.0</td>\n",
              "      <td>1</td>\n",
              "    </tr>\n",
              "    <tr>\n",
              "      <th>3</th>\n",
              "      <td>1.51766</td>\n",
              "      <td>13.21</td>\n",
              "      <td>3.69</td>\n",
              "      <td>1.29</td>\n",
              "      <td>72.61</td>\n",
              "      <td>0.57</td>\n",
              "      <td>8.22</td>\n",
              "      <td>0.00</td>\n",
              "      <td>0.0</td>\n",
              "      <td>1</td>\n",
              "    </tr>\n",
              "    <tr>\n",
              "      <th>4</th>\n",
              "      <td>1.51742</td>\n",
              "      <td>13.27</td>\n",
              "      <td>3.62</td>\n",
              "      <td>1.24</td>\n",
              "      <td>73.08</td>\n",
              "      <td>0.55</td>\n",
              "      <td>8.07</td>\n",
              "      <td>0.00</td>\n",
              "      <td>0.0</td>\n",
              "      <td>1</td>\n",
              "    </tr>\n",
              "    <tr>\n",
              "      <th>...</th>\n",
              "      <td>...</td>\n",
              "      <td>...</td>\n",
              "      <td>...</td>\n",
              "      <td>...</td>\n",
              "      <td>...</td>\n",
              "      <td>...</td>\n",
              "      <td>...</td>\n",
              "      <td>...</td>\n",
              "      <td>...</td>\n",
              "      <td>...</td>\n",
              "    </tr>\n",
              "    <tr>\n",
              "      <th>209</th>\n",
              "      <td>1.51623</td>\n",
              "      <td>14.14</td>\n",
              "      <td>0.00</td>\n",
              "      <td>2.88</td>\n",
              "      <td>72.61</td>\n",
              "      <td>0.08</td>\n",
              "      <td>9.18</td>\n",
              "      <td>1.06</td>\n",
              "      <td>0.0</td>\n",
              "      <td>7</td>\n",
              "    </tr>\n",
              "    <tr>\n",
              "      <th>210</th>\n",
              "      <td>1.51685</td>\n",
              "      <td>14.92</td>\n",
              "      <td>0.00</td>\n",
              "      <td>1.99</td>\n",
              "      <td>73.06</td>\n",
              "      <td>0.00</td>\n",
              "      <td>8.40</td>\n",
              "      <td>1.59</td>\n",
              "      <td>0.0</td>\n",
              "      <td>7</td>\n",
              "    </tr>\n",
              "    <tr>\n",
              "      <th>211</th>\n",
              "      <td>1.52065</td>\n",
              "      <td>14.36</td>\n",
              "      <td>0.00</td>\n",
              "      <td>2.02</td>\n",
              "      <td>73.42</td>\n",
              "      <td>0.00</td>\n",
              "      <td>8.44</td>\n",
              "      <td>1.64</td>\n",
              "      <td>0.0</td>\n",
              "      <td>7</td>\n",
              "    </tr>\n",
              "    <tr>\n",
              "      <th>212</th>\n",
              "      <td>1.51651</td>\n",
              "      <td>14.38</td>\n",
              "      <td>0.00</td>\n",
              "      <td>1.94</td>\n",
              "      <td>73.61</td>\n",
              "      <td>0.00</td>\n",
              "      <td>8.48</td>\n",
              "      <td>1.57</td>\n",
              "      <td>0.0</td>\n",
              "      <td>7</td>\n",
              "    </tr>\n",
              "    <tr>\n",
              "      <th>213</th>\n",
              "      <td>1.51711</td>\n",
              "      <td>14.23</td>\n",
              "      <td>0.00</td>\n",
              "      <td>2.08</td>\n",
              "      <td>73.36</td>\n",
              "      <td>0.00</td>\n",
              "      <td>8.62</td>\n",
              "      <td>1.67</td>\n",
              "      <td>0.0</td>\n",
              "      <td>7</td>\n",
              "    </tr>\n",
              "  </tbody>\n",
              "</table>\n",
              "<p>214 rows × 10 columns</p>\n",
              "</div>"
            ],
            "text/plain": [
              "          RI     Na    Mg    Al     Si     K    Ca    Ba   Fe  Type\n",
              "0    1.52101  13.64  4.49  1.10  71.78  0.06  8.75  0.00  0.0     1\n",
              "1    1.51761  13.89  3.60  1.36  72.73  0.48  7.83  0.00  0.0     1\n",
              "2    1.51618  13.53  3.55  1.54  72.99  0.39  7.78  0.00  0.0     1\n",
              "3    1.51766  13.21  3.69  1.29  72.61  0.57  8.22  0.00  0.0     1\n",
              "4    1.51742  13.27  3.62  1.24  73.08  0.55  8.07  0.00  0.0     1\n",
              "..       ...    ...   ...   ...    ...   ...   ...   ...  ...   ...\n",
              "209  1.51623  14.14  0.00  2.88  72.61  0.08  9.18  1.06  0.0     7\n",
              "210  1.51685  14.92  0.00  1.99  73.06  0.00  8.40  1.59  0.0     7\n",
              "211  1.52065  14.36  0.00  2.02  73.42  0.00  8.44  1.64  0.0     7\n",
              "212  1.51651  14.38  0.00  1.94  73.61  0.00  8.48  1.57  0.0     7\n",
              "213  1.51711  14.23  0.00  2.08  73.36  0.00  8.62  1.67  0.0     7\n",
              "\n",
              "[214 rows x 10 columns]"
            ]
          },
          "metadata": {
            "tags": []
          },
          "execution_count": 4
        }
      ]
    },
    {
      "cell_type": "code",
      "metadata": {
        "id": "dvIUiJLGeyyb",
        "colab_type": "code",
        "outputId": "89b46531-d323-4482-f96d-74cd1310a83b",
        "colab": {
          "base_uri": "https://localhost:8080/",
          "height": 750
        }
      },
      "source": [
        "sns.set(style=\"ticks\", color_codes=True)\n",
        "sns.pairplot(xy_df, vars=['RI','Na'],hue=\"Type\", palette=\"husl\", height=5)\n",
        "plt.show()"
      ],
      "execution_count": 0,
      "outputs": [
        {
          "output_type": "display_data",
          "data": {
            "image/png": "[encoded data removed]",
            "text/plain": [
              "<Figure size 766.6x720 with 6 Axes>"
            ]
          },
          "metadata": {
            "tags": []
          }
        }
      ]
    },
    {
      "cell_type": "code",
      "metadata": {
        "id": "3UG_LVYyqZmx",
        "colab_type": "code",
        "outputId": "1857803a-6295-49fc-ccfb-ab1466b97d6b",
        "colab": {
          "base_uri": "https://localhost:8080/",
          "height": 347
        }
      },
      "source": [
        "pd.DataFrame(xy_df.mean(), columns=[\"평균 값\"])"
      ],
      "execution_count": 0,
      "outputs": [
        {
          "output_type": "execute_result",
          "data": {
            "text/html": [
              "<div>\n",
              "<style scoped>\n",
              "    .dataframe tbody tr th:only-of-type {\n",
              "        vertical-align: middle;\n",
              "    }\n",
              "\n",
              "    .dataframe tbody tr th {\n",
              "        vertical-align: top;\n",
              "    }\n",
              "\n",
              "    .dataframe thead th {\n",
              "        text-align: right;\n",
              "    }\n",
              "</style>\n",
              "<table border=\"1\" class=\"dataframe\">\n",
              "  <thead>\n",
              "    <tr style=\"text-align: right;\">\n",
              "      <th></th>\n",
              "      <th>평균 값</th>\n",
              "    </tr>\n",
              "  </thead>\n",
              "  <tbody>\n",
              "    <tr>\n",
              "      <th>RI</th>\n",
              "      <td>1.518365</td>\n",
              "    </tr>\n",
              "    <tr>\n",
              "      <th>Na</th>\n",
              "      <td>13.407850</td>\n",
              "    </tr>\n",
              "    <tr>\n",
              "      <th>Mg</th>\n",
              "      <td>2.684533</td>\n",
              "    </tr>\n",
              "    <tr>\n",
              "      <th>Al</th>\n",
              "      <td>1.444907</td>\n",
              "    </tr>\n",
              "    <tr>\n",
              "      <th>Si</th>\n",
              "      <td>72.650935</td>\n",
              "    </tr>\n",
              "    <tr>\n",
              "      <th>K</th>\n",
              "      <td>0.497056</td>\n",
              "    </tr>\n",
              "    <tr>\n",
              "      <th>Ca</th>\n",
              "      <td>8.956963</td>\n",
              "    </tr>\n",
              "    <tr>\n",
              "      <th>Ba</th>\n",
              "      <td>0.175047</td>\n",
              "    </tr>\n",
              "    <tr>\n",
              "      <th>Fe</th>\n",
              "      <td>0.057009</td>\n",
              "    </tr>\n",
              "    <tr>\n",
              "      <th>Type</th>\n",
              "      <td>2.780374</td>\n",
              "    </tr>\n",
              "  </tbody>\n",
              "</table>\n",
              "</div>"
            ],
            "text/plain": [
              "           평균 값\n",
              "RI     1.518365\n",
              "Na    13.407850\n",
              "Mg     2.684533\n",
              "Al     1.444907\n",
              "Si    72.650935\n",
              "K      0.497056\n",
              "Ca     8.956963\n",
              "Ba     0.175047\n",
              "Fe     0.057009\n",
              "Type   2.780374"
            ]
          },
          "metadata": {
            "tags": []
          },
          "execution_count": 6
        }
      ]
    },
    {
      "cell_type": "code",
      "metadata": {
        "id": "HAnbCPoIGJKt",
        "colab_type": "code",
        "outputId": "c1c31dbb-c366-4cb1-c25d-e59acd6de918",
        "colab": {
          "base_uri": "https://localhost:8080/",
          "height": 347
        }
      },
      "source": [
        "pd.DataFrame(xy_df.min(), columns=[\"최솟 값\"])"
      ],
      "execution_count": 0,
      "outputs": [
        {
          "output_type": "execute_result",
          "data": {
            "text/html": [
              "<div>\n",
              "<style scoped>\n",
              "    .dataframe tbody tr th:only-of-type {\n",
              "        vertical-align: middle;\n",
              "    }\n",
              "\n",
              "    .dataframe tbody tr th {\n",
              "        vertical-align: top;\n",
              "    }\n",
              "\n",
              "    .dataframe thead th {\n",
              "        text-align: right;\n",
              "    }\n",
              "</style>\n",
              "<table border=\"1\" class=\"dataframe\">\n",
              "  <thead>\n",
              "    <tr style=\"text-align: right;\">\n",
              "      <th></th>\n",
              "      <th>최솟 값</th>\n",
              "    </tr>\n",
              "  </thead>\n",
              "  <tbody>\n",
              "    <tr>\n",
              "      <th>RI</th>\n",
              "      <td>1.51115</td>\n",
              "    </tr>\n",
              "    <tr>\n",
              "      <th>Na</th>\n",
              "      <td>10.73000</td>\n",
              "    </tr>\n",
              "    <tr>\n",
              "      <th>Mg</th>\n",
              "      <td>0.00000</td>\n",
              "    </tr>\n",
              "    <tr>\n",
              "      <th>Al</th>\n",
              "      <td>0.29000</td>\n",
              "    </tr>\n",
              "    <tr>\n",
              "      <th>Si</th>\n",
              "      <td>69.81000</td>\n",
              "    </tr>\n",
              "    <tr>\n",
              "      <th>K</th>\n",
              "      <td>0.00000</td>\n",
              "    </tr>\n",
              "    <tr>\n",
              "      <th>Ca</th>\n",
              "      <td>5.43000</td>\n",
              "    </tr>\n",
              "    <tr>\n",
              "      <th>Ba</th>\n",
              "      <td>0.00000</td>\n",
              "    </tr>\n",
              "    <tr>\n",
              "      <th>Fe</th>\n",
              "      <td>0.00000</td>\n",
              "    </tr>\n",
              "    <tr>\n",
              "      <th>Type</th>\n",
              "      <td>1.00000</td>\n",
              "    </tr>\n",
              "  </tbody>\n",
              "</table>\n",
              "</div>"
            ],
            "text/plain": [
              "          최솟 값\n",
              "RI     1.51115\n",
              "Na    10.73000\n",
              "Mg     0.00000\n",
              "Al     0.29000\n",
              "Si    69.81000\n",
              "K      0.00000\n",
              "Ca     5.43000\n",
              "Ba     0.00000\n",
              "Fe     0.00000\n",
              "Type   1.00000"
            ]
          },
          "metadata": {
            "tags": []
          },
          "execution_count": 7
        }
      ]
    },
    {
      "cell_type": "code",
      "metadata": {
        "id": "i-u_zJLZGJpn",
        "colab_type": "code",
        "outputId": "5acc93ba-de00-4fb3-f200-07a7e6719929",
        "colab": {
          "base_uri": "https://localhost:8080/",
          "height": 347
        }
      },
      "source": [
        "pd.DataFrame(xy_df.max(), columns=[\"최댓 값\"])"
      ],
      "execution_count": 0,
      "outputs": [
        {
          "output_type": "execute_result",
          "data": {
            "text/html": [
              "<div>\n",
              "<style scoped>\n",
              "    .dataframe tbody tr th:only-of-type {\n",
              "        vertical-align: middle;\n",
              "    }\n",
              "\n",
              "    .dataframe tbody tr th {\n",
              "        vertical-align: top;\n",
              "    }\n",
              "\n",
              "    .dataframe thead th {\n",
              "        text-align: right;\n",
              "    }\n",
              "</style>\n",
              "<table border=\"1\" class=\"dataframe\">\n",
              "  <thead>\n",
              "    <tr style=\"text-align: right;\">\n",
              "      <th></th>\n",
              "      <th>최댓 값</th>\n",
              "    </tr>\n",
              "  </thead>\n",
              "  <tbody>\n",
              "    <tr>\n",
              "      <th>RI</th>\n",
              "      <td>1.53393</td>\n",
              "    </tr>\n",
              "    <tr>\n",
              "      <th>Na</th>\n",
              "      <td>17.38000</td>\n",
              "    </tr>\n",
              "    <tr>\n",
              "      <th>Mg</th>\n",
              "      <td>4.49000</td>\n",
              "    </tr>\n",
              "    <tr>\n",
              "      <th>Al</th>\n",
              "      <td>3.50000</td>\n",
              "    </tr>\n",
              "    <tr>\n",
              "      <th>Si</th>\n",
              "      <td>75.41000</td>\n",
              "    </tr>\n",
              "    <tr>\n",
              "      <th>K</th>\n",
              "      <td>6.21000</td>\n",
              "    </tr>\n",
              "    <tr>\n",
              "      <th>Ca</th>\n",
              "      <td>16.19000</td>\n",
              "    </tr>\n",
              "    <tr>\n",
              "      <th>Ba</th>\n",
              "      <td>3.15000</td>\n",
              "    </tr>\n",
              "    <tr>\n",
              "      <th>Fe</th>\n",
              "      <td>0.51000</td>\n",
              "    </tr>\n",
              "    <tr>\n",
              "      <th>Type</th>\n",
              "      <td>7.00000</td>\n",
              "    </tr>\n",
              "  </tbody>\n",
              "</table>\n",
              "</div>"
            ],
            "text/plain": [
              "          최댓 값\n",
              "RI     1.53393\n",
              "Na    17.38000\n",
              "Mg     4.49000\n",
              "Al     3.50000\n",
              "Si    75.41000\n",
              "K      6.21000\n",
              "Ca    16.19000\n",
              "Ba     3.15000\n",
              "Fe     0.51000\n",
              "Type   7.00000"
            ]
          },
          "metadata": {
            "tags": []
          },
          "execution_count": 8
        }
      ]
    },
    {
      "cell_type": "code",
      "metadata": {
        "id": "NgAueHyf_jZ8",
        "colab_type": "code",
        "colab": {}
      },
      "source": [
        "# 레이블 인코딩 과정 (문자열(종류)을 대응하는 정수로 변경)\n",
        "labelEncoder = LabelEncoder()"
      ],
      "execution_count": 0,
      "outputs": []
    },
    {
      "cell_type": "code",
      "metadata": {
        "id": "Rv2wvSRJ_sE8",
        "colab_type": "code",
        "outputId": "48853fd6-454d-4a77-9ff5-c0d4a8632d7d",
        "colab": {
          "base_uri": "https://localhost:8080/",
          "height": 52
        }
      },
      "source": [
        "xy_df.iloc[:,[-1]] = labelEncoder.fit_transform(xy_df.iloc[:,[-1]]) # 레이블 인코딩"
      ],
      "execution_count": 0,
      "outputs": [
        {
          "output_type": "stream",
          "text": [
            "/usr/local/lib/python3.6/dist-packages/sklearn/preprocessing/_label.py:251: DataConversionWarning: A column-vector y was passed when a 1d array was expected. Please change the shape of y to (n_samples, ), for example using ravel().\n",
            "  y = column_or_1d(y, warn=True)\n"
          ],
          "name": "stderr"
        }
      ]
    },
    {
      "cell_type": "code",
      "metadata": {
        "id": "kIvjBTZYAfJk",
        "colab_type": "code",
        "outputId": "7f507be5-2113-4776-bf51-d67b80fd9b37",
        "colab": {
          "base_uri": "https://localhost:8080/",
          "height": 406
        }
      },
      "source": [
        "xy_df # 확인"
      ],
      "execution_count": 0,
      "outputs": [
        {
          "output_type": "execute_result",
          "data": {
            "text/html": [
              "<div>\n",
              "<style scoped>\n",
              "    .dataframe tbody tr th:only-of-type {\n",
              "        vertical-align: middle;\n",
              "    }\n",
              "\n",
              "    .dataframe tbody tr th {\n",
              "        vertical-align: top;\n",
              "    }\n",
              "\n",
              "    .dataframe thead th {\n",
              "        text-align: right;\n",
              "    }\n",
              "</style>\n",
              "<table border=\"1\" class=\"dataframe\">\n",
              "  <thead>\n",
              "    <tr style=\"text-align: right;\">\n",
              "      <th></th>\n",
              "      <th>RI</th>\n",
              "      <th>Na</th>\n",
              "      <th>Mg</th>\n",
              "      <th>Al</th>\n",
              "      <th>Si</th>\n",
              "      <th>K</th>\n",
              "      <th>Ca</th>\n",
              "      <th>Ba</th>\n",
              "      <th>Fe</th>\n",
              "      <th>Type</th>\n",
              "    </tr>\n",
              "  </thead>\n",
              "  <tbody>\n",
              "    <tr>\n",
              "      <th>0</th>\n",
              "      <td>1.52101</td>\n",
              "      <td>13.64</td>\n",
              "      <td>4.49</td>\n",
              "      <td>1.10</td>\n",
              "      <td>71.78</td>\n",
              "      <td>0.06</td>\n",
              "      <td>8.75</td>\n",
              "      <td>0.00</td>\n",
              "      <td>0.0</td>\n",
              "      <td>0</td>\n",
              "    </tr>\n",
              "    <tr>\n",
              "      <th>1</th>\n",
              "      <td>1.51761</td>\n",
              "      <td>13.89</td>\n",
              "      <td>3.60</td>\n",
              "      <td>1.36</td>\n",
              "      <td>72.73</td>\n",
              "      <td>0.48</td>\n",
              "      <td>7.83</td>\n",
              "      <td>0.00</td>\n",
              "      <td>0.0</td>\n",
              "      <td>0</td>\n",
              "    </tr>\n",
              "    <tr>\n",
              "      <th>2</th>\n",
              "      <td>1.51618</td>\n",
              "      <td>13.53</td>\n",
              "      <td>3.55</td>\n",
              "      <td>1.54</td>\n",
              "      <td>72.99</td>\n",
              "      <td>0.39</td>\n",
              "      <td>7.78</td>\n",
              "      <td>0.00</td>\n",
              "      <td>0.0</td>\n",
              "      <td>0</td>\n",
              "    </tr>\n",
              "    <tr>\n",
              "      <th>3</th>\n",
              "      <td>1.51766</td>\n",
              "      <td>13.21</td>\n",
              "      <td>3.69</td>\n",
              "      <td>1.29</td>\n",
              "      <td>72.61</td>\n",
              "      <td>0.57</td>\n",
              "      <td>8.22</td>\n",
              "      <td>0.00</td>\n",
              "      <td>0.0</td>\n",
              "      <td>0</td>\n",
              "    </tr>\n",
              "    <tr>\n",
              "      <th>4</th>\n",
              "      <td>1.51742</td>\n",
              "      <td>13.27</td>\n",
              "      <td>3.62</td>\n",
              "      <td>1.24</td>\n",
              "      <td>73.08</td>\n",
              "      <td>0.55</td>\n",
              "      <td>8.07</td>\n",
              "      <td>0.00</td>\n",
              "      <td>0.0</td>\n",
              "      <td>0</td>\n",
              "    </tr>\n",
              "    <tr>\n",
              "      <th>...</th>\n",
              "      <td>...</td>\n",
              "      <td>...</td>\n",
              "      <td>...</td>\n",
              "      <td>...</td>\n",
              "      <td>...</td>\n",
              "      <td>...</td>\n",
              "      <td>...</td>\n",
              "      <td>...</td>\n",
              "      <td>...</td>\n",
              "      <td>...</td>\n",
              "    </tr>\n",
              "    <tr>\n",
              "      <th>209</th>\n",
              "      <td>1.51623</td>\n",
              "      <td>14.14</td>\n",
              "      <td>0.00</td>\n",
              "      <td>2.88</td>\n",
              "      <td>72.61</td>\n",
              "      <td>0.08</td>\n",
              "      <td>9.18</td>\n",
              "      <td>1.06</td>\n",
              "      <td>0.0</td>\n",
              "      <td>5</td>\n",
              "    </tr>\n",
              "    <tr>\n",
              "      <th>210</th>\n",
              "      <td>1.51685</td>\n",
              "      <td>14.92</td>\n",
              "      <td>0.00</td>\n",
              "      <td>1.99</td>\n",
              "      <td>73.06</td>\n",
              "      <td>0.00</td>\n",
              "      <td>8.40</td>\n",
              "      <td>1.59</td>\n",
              "      <td>0.0</td>\n",
              "      <td>5</td>\n",
              "    </tr>\n",
              "    <tr>\n",
              "      <th>211</th>\n",
              "      <td>1.52065</td>\n",
              "      <td>14.36</td>\n",
              "      <td>0.00</td>\n",
              "      <td>2.02</td>\n",
              "      <td>73.42</td>\n",
              "      <td>0.00</td>\n",
              "      <td>8.44</td>\n",
              "      <td>1.64</td>\n",
              "      <td>0.0</td>\n",
              "      <td>5</td>\n",
              "    </tr>\n",
              "    <tr>\n",
              "      <th>212</th>\n",
              "      <td>1.51651</td>\n",
              "      <td>14.38</td>\n",
              "      <td>0.00</td>\n",
              "      <td>1.94</td>\n",
              "      <td>73.61</td>\n",
              "      <td>0.00</td>\n",
              "      <td>8.48</td>\n",
              "      <td>1.57</td>\n",
              "      <td>0.0</td>\n",
              "      <td>5</td>\n",
              "    </tr>\n",
              "    <tr>\n",
              "      <th>213</th>\n",
              "      <td>1.51711</td>\n",
              "      <td>14.23</td>\n",
              "      <td>0.00</td>\n",
              "      <td>2.08</td>\n",
              "      <td>73.36</td>\n",
              "      <td>0.00</td>\n",
              "      <td>8.62</td>\n",
              "      <td>1.67</td>\n",
              "      <td>0.0</td>\n",
              "      <td>5</td>\n",
              "    </tr>\n",
              "  </tbody>\n",
              "</table>\n",
              "<p>214 rows × 10 columns</p>\n",
              "</div>"
            ],
            "text/plain": [
              "          RI     Na    Mg    Al     Si     K    Ca    Ba   Fe  Type\n",
              "0    1.52101  13.64  4.49  1.10  71.78  0.06  8.75  0.00  0.0     0\n",
              "1    1.51761  13.89  3.60  1.36  72.73  0.48  7.83  0.00  0.0     0\n",
              "2    1.51618  13.53  3.55  1.54  72.99  0.39  7.78  0.00  0.0     0\n",
              "3    1.51766  13.21  3.69  1.29  72.61  0.57  8.22  0.00  0.0     0\n",
              "4    1.51742  13.27  3.62  1.24  73.08  0.55  8.07  0.00  0.0     0\n",
              "..       ...    ...   ...   ...    ...   ...   ...   ...  ...   ...\n",
              "209  1.51623  14.14  0.00  2.88  72.61  0.08  9.18  1.06  0.0     5\n",
              "210  1.51685  14.92  0.00  1.99  73.06  0.00  8.40  1.59  0.0     5\n",
              "211  1.52065  14.36  0.00  2.02  73.42  0.00  8.44  1.64  0.0     5\n",
              "212  1.51651  14.38  0.00  1.94  73.61  0.00  8.48  1.57  0.0     5\n",
              "213  1.51711  14.23  0.00  2.08  73.36  0.00  8.62  1.67  0.0     5\n",
              "\n",
              "[214 rows x 10 columns]"
            ]
          },
          "metadata": {
            "tags": []
          },
          "execution_count": 11
        }
      ]
    },
    {
      "cell_type": "code",
      "metadata": {
        "id": "D_hC1k55tKG1",
        "colab_type": "code",
        "colab": {}
      },
      "source": [
        "y_data = xy_df.iloc[:,-1].values.reshape(-1,1)  # 레이블 데이터(종류)를 numpy로 추출"
      ],
      "execution_count": 0,
      "outputs": []
    },
    {
      "cell_type": "code",
      "metadata": {
        "id": "8mXSOydou10P",
        "colab_type": "code",
        "colab": {}
      },
      "source": [
        "x_data = xy_df.iloc[:,:-1].values  # 피쳐데이터를 numpy로 추출"
      ],
      "execution_count": 0,
      "outputs": []
    },
    {
      "cell_type": "code",
      "metadata": {
        "id": "WZo_o7lFup5j",
        "colab_type": "code",
        "outputId": "200bc522-0c2b-451a-944c-9e26f9919023",
        "colab": {
          "base_uri": "https://localhost:8080/",
          "height": 158
        }
      },
      "source": [
        "print(y_data.shape)\n",
        "print(y_data[:7]) #레이블 확인"
      ],
      "execution_count": 0,
      "outputs": [
        {
          "output_type": "stream",
          "text": [
            "(214, 1)\n",
            "[[0]\n",
            " [0]\n",
            " [0]\n",
            " [0]\n",
            " [0]\n",
            " [0]\n",
            " [0]]\n"
          ],
          "name": "stdout"
        }
      ]
    },
    {
      "cell_type": "code",
      "metadata": {
        "id": "rNVOT2slwIEq",
        "colab_type": "code",
        "outputId": "a2c483ad-ffb1-4bfc-8251-981ca5e09334",
        "colab": {
          "base_uri": "https://localhost:8080/",
          "height": 283
        }
      },
      "source": [
        "print(x_data.shape)\n",
        "print(x_data[:7,:]) # 피쳐 확인"
      ],
      "execution_count": 0,
      "outputs": [
        {
          "output_type": "stream",
          "text": [
            "(214, 9)\n",
            "[[1.52101e+00 1.36400e+01 4.49000e+00 1.10000e+00 7.17800e+01 6.00000e-02\n",
            "  8.75000e+00 0.00000e+00 0.00000e+00]\n",
            " [1.51761e+00 1.38900e+01 3.60000e+00 1.36000e+00 7.27300e+01 4.80000e-01\n",
            "  7.83000e+00 0.00000e+00 0.00000e+00]\n",
            " [1.51618e+00 1.35300e+01 3.55000e+00 1.54000e+00 7.29900e+01 3.90000e-01\n",
            "  7.78000e+00 0.00000e+00 0.00000e+00]\n",
            " [1.51766e+00 1.32100e+01 3.69000e+00 1.29000e+00 7.26100e+01 5.70000e-01\n",
            "  8.22000e+00 0.00000e+00 0.00000e+00]\n",
            " [1.51742e+00 1.32700e+01 3.62000e+00 1.24000e+00 7.30800e+01 5.50000e-01\n",
            "  8.07000e+00 0.00000e+00 0.00000e+00]\n",
            " [1.51596e+00 1.27900e+01 3.61000e+00 1.62000e+00 7.29700e+01 6.40000e-01\n",
            "  8.07000e+00 0.00000e+00 2.60000e-01]\n",
            " [1.51743e+00 1.33000e+01 3.60000e+00 1.14000e+00 7.30900e+01 5.80000e-01\n",
            "  8.17000e+00 0.00000e+00 0.00000e+00]]\n"
          ],
          "name": "stdout"
        }
      ]
    },
    {
      "cell_type": "code",
      "metadata": {
        "id": "awbOUtssLrXz",
        "colab_type": "code",
        "outputId": "b0981ffb-2985-4c73-f06a-bf6357be0e6b",
        "colab": {
          "base_uri": "https://localhost:8080/",
          "height": 34
        }
      },
      "source": [
        "np.unique(y_data, return_counts=True)"
      ],
      "execution_count": 0,
      "outputs": [
        {
          "output_type": "execute_result",
          "data": {
            "text/plain": [
              "(array([0, 1, 2, 3, 4, 5]), array([70, 76, 17, 13,  9, 29]))"
            ]
          },
          "metadata": {
            "tags": []
          },
          "execution_count": 16
        }
      ]
    },
    {
      "cell_type": "code",
      "metadata": {
        "id": "VLMhZjhywTrI",
        "colab_type": "code",
        "colab": {}
      },
      "source": [
        "# 테스트세트를 분리\n",
        "x_train, x_test, y_train, y_test = train_test_split(x_data, y_data, test_size=0.2, stratify=y_data, random_state=777) # 전체 데이터중 20%"
      ],
      "execution_count": 0,
      "outputs": []
    },
    {
      "cell_type": "code",
      "metadata": {
        "id": "8pzqSWQOL1Ub",
        "colab_type": "code",
        "outputId": "b88448aa-647f-4b7f-e86f-0c1c0e2c9c50",
        "colab": {
          "base_uri": "https://localhost:8080/",
          "height": 34
        }
      },
      "source": [
        "np.unique(y_train, return_counts=True)"
      ],
      "execution_count": 0,
      "outputs": [
        {
          "output_type": "execute_result",
          "data": {
            "text/plain": [
              "(array([0, 1, 2, 3, 4, 5]), array([56, 61, 14, 10,  7, 23]))"
            ]
          },
          "metadata": {
            "tags": []
          },
          "execution_count": 18
        }
      ]
    },
    {
      "cell_type": "code",
      "metadata": {
        "id": "C1rA7T03Dgpv",
        "colab_type": "code",
        "outputId": "4b64a30b-014b-4281-83cf-ee4e2f36d8e1",
        "colab": {
          "base_uri": "https://localhost:8080/",
          "height": 52
        }
      },
      "source": [
        "print(\"학습용 \",x_train.shape, \"\\t\", y_train.shape) # 학습용 피쳐, 레이블 데이터 \n",
        "print(\"테스트용 \",x_test.shape, \"\\t\", y_test.shape) # 테스트용 피쳐, 레이블 데이터"
      ],
      "execution_count": 0,
      "outputs": [
        {
          "output_type": "stream",
          "text": [
            "학습용  (171, 9) \t (171, 1)\n",
            "테스트용  (43, 9) \t (43, 1)\n"
          ],
          "name": "stdout"
        }
      ]
    },
    {
      "cell_type": "code",
      "metadata": {
        "id": "34ktK3ffGUCV",
        "colab_type": "code",
        "colab": {}
      },
      "source": [
        "scaler = StandardScaler()"
      ],
      "execution_count": 0,
      "outputs": []
    },
    {
      "cell_type": "code",
      "metadata": {
        "id": "qZe62WTwr7Wn",
        "colab_type": "code",
        "colab": {}
      },
      "source": [
        "nb_classes = 6 # 분류할 클래스의 개수"
      ],
      "execution_count": 0,
      "outputs": []
    },
    {
      "cell_type": "code",
      "metadata": {
        "id": "F1WpyU7LJGrh",
        "colab_type": "code",
        "colab": {}
      },
      "source": [
        "# 텐서플로우 그래프 그리기\n",
        "num_x = x_data.shape[1]\n",
        "X = tf.placeholder(tf.float32, shape=[None, num_x]) \n",
        "Y = tf.placeholder(tf.int32, shape=[None, 1])\n",
        "W = tf.Variable(tf.random.normal([num_x , nb_classes]), name='weight') \n",
        "b = tf.Variable(tf.random.normal([nb_classes]), name='bias')"
      ],
      "execution_count": 0,
      "outputs": []
    },
    {
      "cell_type": "code",
      "metadata": {
        "id": "GC96MeWuBVfW",
        "colab_type": "code",
        "colab": {}
      },
      "source": [
        "Y_one_hot = tf.one_hot(Y, nb_classes)\n",
        "Y_one_hot = tf.reshape(Y_one_hot, [-1, nb_classes])"
      ],
      "execution_count": 0,
      "outputs": []
    },
    {
      "cell_type": "code",
      "metadata": {
        "id": "i-5-BV1iLjf8",
        "colab_type": "code",
        "colab": {}
      },
      "source": [
        "#softmax 는 벡터 그대로 유지 시킨 상태에서 확률만 표시해 줌 \n",
        "logits = tf.matmul(X,W) + b\n",
        "hypothesis = tf.nn.softmax(logits)"
      ],
      "execution_count": 0,
      "outputs": []
    },
    {
      "cell_type": "code",
      "metadata": {
        "id": "TQpuIqHHLm_q",
        "colab_type": "code",
        "outputId": "87101e8f-37c9-408d-fb6b-5236956434ce",
        "colab": {
          "base_uri": "https://localhost:8080/",
          "height": 158
        }
      },
      "source": [
        "cost_i = tf.nn.softmax_cross_entropy_with_logits(logits=logits, labels=Y_one_hot)"
      ],
      "execution_count": 0,
      "outputs": [
        {
          "output_type": "stream",
          "text": [
            "WARNING:tensorflow:From <ipython-input-25-33151fcd5940>:1: softmax_cross_entropy_with_logits (from tensorflow.python.ops.nn_ops) is deprecated and will be removed in a future version.\n",
            "Instructions for updating:\n",
            "\n",
            "Future major versions of TensorFlow will allow gradients to flow\n",
            "into the labels input on backprop by default.\n",
            "\n",
            "See `tf.nn.softmax_cross_entropy_with_logits_v2`.\n",
            "\n"
          ],
          "name": "stdout"
        }
      ]
    },
    {
      "cell_type": "code",
      "metadata": {
        "id": "VuWTa3G3B39r",
        "colab_type": "code",
        "colab": {}
      },
      "source": [
        "cost = tf.reduce_mean(cost_i)"
      ],
      "execution_count": 0,
      "outputs": []
    },
    {
      "cell_type": "code",
      "metadata": {
        "id": "-DcXkwHMMtNJ",
        "colab_type": "code",
        "colab": {}
      },
      "source": [
        "train = tf.train.GradientDescentOptimizer(learning_rate=1e-3).minimize(cost)"
      ],
      "execution_count": 0,
      "outputs": []
    },
    {
      "cell_type": "code",
      "metadata": {
        "id": "wOW6RFgFWttw",
        "colab_type": "code",
        "colab": {}
      },
      "source": [
        "prediction = tf.argmax(hypothesis, 1)"
      ],
      "execution_count": 0,
      "outputs": []
    },
    {
      "cell_type": "code",
      "metadata": {
        "id": "N5qYoFTGCExC",
        "colab_type": "code",
        "colab": {}
      },
      "source": [
        "correct_prediction = tf.equal(prediction, tf.argmax(Y_one_hot, 1))"
      ],
      "execution_count": 0,
      "outputs": []
    },
    {
      "cell_type": "code",
      "metadata": {
        "id": "ecp-EG3XWuFw",
        "colab_type": "code",
        "colab": {}
      },
      "source": [
        "accuracy = tf.reduce_mean(tf.cast(correct_prediction, tf.float32))"
      ],
      "execution_count": 0,
      "outputs": []
    },
    {
      "cell_type": "code",
      "metadata": {
        "id": "yI8S6FaiMRl7",
        "colab_type": "code",
        "colab": {}
      },
      "source": [
        "sess = tf.Session()"
      ],
      "execution_count": 0,
      "outputs": []
    },
    {
      "cell_type": "code",
      "metadata": {
        "id": "Y6DamJxYMTMC",
        "colab_type": "code",
        "colab": {}
      },
      "source": [
        "sess.run(tf.global_variables_initializer())"
      ],
      "execution_count": 0,
      "outputs": []
    },
    {
      "cell_type": "code",
      "metadata": {
        "id": "hCd2LhbXM-ti",
        "colab_type": "code",
        "colab": {}
      },
      "source": [
        "w_history = [] # 변화하는 가중치 행렬을 담기위한 리스트\n",
        "cost_list = [] # 감소하는 cost를 담기위한 리스트"
      ],
      "execution_count": 0,
      "outputs": []
    },
    {
      "cell_type": "code",
      "metadata": {
        "id": "knqz78V4JH1-",
        "colab_type": "code",
        "colab": {}
      },
      "source": [
        "n_fold = 5 # 5개의 폴드\n",
        "skf = StratifiedKFold(n_splits=n_fold) \n",
        "cv_accuracy = [] # 폴드세트별 정확도를 저장할 리스트"
      ],
      "execution_count": 0,
      "outputs": []
    },
    {
      "cell_type": "code",
      "metadata": {
        "id": "_2c4GtvAMVW_",
        "colab_type": "code",
        "outputId": "f405ce59-0d68-4980-9d1f-bcc42a19a5f8",
        "colab": {
          "base_uri": "https://localhost:8080/",
          "height": 923
        }
      },
      "source": [
        "epochs = 10001\n",
        "\n",
        "for step in range(epochs):\n",
        "  fold_cost = 0\n",
        "  fold_accuracy = 0\n",
        "  for train_index, test_index in skf.split(x_train, y_train):\n",
        "    train_random_index = np.random.permutation(train_index)\n",
        "    test_random_index = np.random.permutation(test_index)\n",
        "\n",
        "     # 학습폴드, 검증폴드 분리(피쳐, 레이블 별)\n",
        "    train_feature_fold, val_feature_fold = x_train[train_random_index], x_train[test_random_index]\n",
        "    train_label_fold, val_label_fold = y_train[train_random_index], y_train[test_random_index]\n",
        "\n",
        "    # 학습폴드를 기준으로 표준화\n",
        "    scaler.fit(train_feature_fold)\n",
        "    \n",
        "    # 학습폴드를 기준으로 학습폴드, 검증폴드를 표준화\n",
        "    train_feature_fold_scaled = scaler.transform(train_feature_fold) \n",
        "    val_feature_fold_scaled = scaler.transform(val_feature_fold) \n",
        "\n",
        "    # 학습폴드로 학습 \n",
        "    cost_val, W_all, _ = sess.run([cost, W, train], feed_dict={X:train_feature_fold_scaled, Y:train_label_fold})\n",
        "\n",
        "    fold_cost += cost_val\n",
        "    w_history.append(W_all.copy())  \n",
        "\n",
        "    # 폴드세트별 Accuracy 저장 \n",
        "    fold_accuracy += sess.run(accuracy, feed_dict={X:val_feature_fold_scaled, Y:val_label_fold})\n",
        "\n",
        "\n",
        "  cv_accuracy.append(fold_accuracy/n_fold) # epoch 별 검증폴드의 평균 Accuracy를 저장한다\n",
        "  cost_list.append(fold_cost/n_fold) # epoch 별 학습폴드의 평균 cost를 저장한다\n",
        "\n",
        "  if step % 200 == 0:\n",
        "    print(\"step=\",step,\"\\t cost=\", fold_cost/n_fold, \"\\t accuracy=\",str(fold_accuracy/n_fold*100)[:5], \"%\")"
      ],
      "execution_count": 0,
      "outputs": [
        {
          "output_type": "stream",
          "text": [
            "step= 0 \t cost= 3.0688172340393067 \t accuracy= 21.02 %\n",
            "step= 200 \t cost= 2.6911243915557863 \t accuracy= 26.30 %\n",
            "step= 400 \t cost= 2.382107305526733 \t accuracy= 31.56 %\n",
            "step= 600 \t cost= 2.1256536483764648 \t accuracy= 35.05 %\n",
            "step= 800 \t cost= 1.9126266241073608 \t accuracy= 38.58 %\n",
            "step= 1000 \t cost= 1.7371308565139771 \t accuracy= 40.92 %\n",
            "step= 1200 \t cost= 1.5921656847000123 \t accuracy= 40.92 %\n",
            "step= 1400 \t cost= 1.4765639781951905 \t accuracy= 42.10 %\n",
            "step= 1600 \t cost= 1.385649275779724 \t accuracy= 41.51 %\n",
            "step= 1800 \t cost= 1.3121156215667724 \t accuracy= 43.83 %\n",
            "step= 2000 \t cost= 1.2517844438552856 \t accuracy= 43.81 %\n",
            "step= 2200 \t cost= 1.2019092559814453 \t accuracy= 45.57 %\n",
            "step= 2400 \t cost= 1.1602947950363158 \t accuracy= 47.93 %\n",
            "step= 2600 \t cost= 1.1251629114151 \t accuracy= 52.01 %\n",
            "step= 2800 \t cost= 1.0951226949691772 \t accuracy= 52.60 %\n",
            "step= 3000 \t cost= 1.0691188812255858 \t accuracy= 54.92 %\n",
            "step= 3200 \t cost= 1.0463616371154785 \t accuracy= 57.27 %\n",
            "step= 3400 \t cost= 1.0262615084648132 \t accuracy= 57.86 %\n",
            "step= 3600 \t cost= 1.0083786725997925 \t accuracy= 59.04 %\n",
            "step= 3800 \t cost= 0.9923794150352478 \t accuracy= 59.63 %\n",
            "step= 4000 \t cost= 0.9780061960220336 \t accuracy= 62.57 %\n",
            "step= 4200 \t cost= 0.9650561451911926 \t accuracy= 63.74 %\n",
            "step= 4400 \t cost= 0.95336412191391 \t accuracy= 63.74 %\n",
            "step= 4600 \t cost= 0.942792022228241 \t accuracy= 63.74 %\n",
            "step= 4800 \t cost= 0.9332194566726685 \t accuracy= 63.76 %\n",
            "step= 5000 \t cost= 0.9245393872261047 \t accuracy= 64.35 %\n",
            "step= 5200 \t cost= 0.9166520833969116 \t accuracy= 64.35 %\n",
            "step= 5400 \t cost= 0.9094655752182007 \t accuracy= 64.92 %\n",
            "step= 5600 \t cost= 0.9028946399688721 \t accuracy= 64.92 %\n",
            "step= 5800 \t cost= 0.8968604922294616 \t accuracy= 65.51 %\n",
            "step= 6000 \t cost= 0.8912932753562928 \t accuracy= 64.92 %\n",
            "step= 6200 \t cost= 0.8861298441886902 \t accuracy= 64.33 %\n",
            "step= 6400 \t cost= 0.8813166379928589 \t accuracy= 65.51 %\n",
            "step= 6600 \t cost= 0.8768070578575134 \t accuracy= 66.10 %\n",
            "step= 6800 \t cost= 0.8725620985031128 \t accuracy= 66.67 %\n",
            "step= 7000 \t cost= 0.868549132347107 \t accuracy= 66.67 %\n",
            "step= 7200 \t cost= 0.86474107503891 \t accuracy= 66.67 %\n",
            "step= 7400 \t cost= 0.8611153125762939 \t accuracy= 66.08 %\n",
            "step= 7600 \t cost= 0.8576524376869201 \t accuracy= 66.08 %\n",
            "step= 7800 \t cost= 0.8543368935585022 \t accuracy= 65.49 %\n",
            "step= 8000 \t cost= 0.8511551260948181 \t accuracy= 64.90 %\n",
            "step= 8200 \t cost= 0.8480956554412842 \t accuracy= 64.90 %\n",
            "step= 8400 \t cost= 0.8451491713523864 \t accuracy= 64.90 %\n",
            "step= 8600 \t cost= 0.842306911945343 \t accuracy= 64.90 %\n",
            "step= 8800 \t cost= 0.8395617008209229 \t accuracy= 64.90 %\n",
            "step= 9000 \t cost= 0.8369068384170533 \t accuracy= 64.90 %\n",
            "step= 9200 \t cost= 0.8343369960784912 \t accuracy= 64.90 %\n",
            "step= 9400 \t cost= 0.8318469405174256 \t accuracy= 66.08 %\n",
            "step= 9600 \t cost= 0.8294318675994873 \t accuracy= 66.65 %\n",
            "step= 9800 \t cost= 0.8270877599716187 \t accuracy= 66.65 %\n",
            "step= 10000 \t cost= 0.8248109221458435 \t accuracy= 66.65 %\n"
          ],
          "name": "stdout"
        }
      ]
    },
    {
      "cell_type": "code",
      "metadata": {
        "id": "7MGrAtdBMqy-",
        "colab_type": "code",
        "outputId": "5f0ad13e-e0de-4549-f59c-208521e86718",
        "colab": {
          "base_uri": "https://localhost:8080/",
          "height": 284
        }
      },
      "source": [
        "plt.plot(cost_list)\n",
        "plt.xlabel(\"epochs\")\n",
        "plt.ylabel(\"cost\")\n",
        "plt.show()"
      ],
      "execution_count": 0,
      "outputs": [
        {
          "output_type": "display_data",
          "data": {
            "image/png": "[encoded data removed]",
            "text/plain": [
              "<Figure size 432x288 with 1 Axes>"
            ]
          },
          "metadata": {
            "tags": []
          }
        }
      ]
    },
    {
      "cell_type": "code",
      "metadata": {
        "id": "msfRuarFXYs3",
        "colab_type": "code",
        "outputId": "738b07a4-0437-4040-d19e-78a7972d3f09",
        "colab": {
          "base_uri": "https://localhost:8080/",
          "height": 284
        }
      },
      "source": [
        "plt.plot(cv_accuracy)\n",
        "plt.xlabel(\"epochs\")\n",
        "plt.ylabel(\"cv_accuracy\")\n",
        "plt.show()"
      ],
      "execution_count": 0,
      "outputs": [
        {
          "output_type": "display_data",
          "data": {
            "image/png": "[encoded data removed]",
            "text/plain": [
              "<Figure size 432x288 with 1 Axes>"
            ]
          },
          "metadata": {
            "tags": []
          }
        }
      ]
    },
    {
      "cell_type": "code",
      "metadata": {
        "id": "oRGbJhrO-1_p",
        "colab_type": "code",
        "outputId": "b8dce0b6-3829-4c1c-acf6-c198ab9ebc44",
        "colab": {
          "base_uri": "https://localhost:8080/",
          "height": 284
        }
      },
      "source": [
        "# 가중치 업데이트 과정 그래프 (꽃받침 길이, 꽃받침 너비)\n",
        "w0 = []\n",
        "w1 = []\n",
        "for w in  w_history:\n",
        "  w0.append(w[0])\n",
        "  w1.append(w[1])\n",
        "plt.plot(w0, w1)\n",
        "plt.plot(w0[-1], w1[-1],'bo')\n",
        "plt.xlabel('w[0]')\n",
        "plt.ylabel('w[1]')\n",
        "plt.show()"
      ],
      "execution_count": 0,
      "outputs": [
        {
          "output_type": "display_data",
          "data": {
            "image/png": "[encoded data removed]",
            "text/plain": [
              "<Figure size 432x288 with 1 Axes>"
            ]
          },
          "metadata": {
            "tags": []
          }
        }
      ]
    },
    {
      "cell_type": "code",
      "metadata": {
        "id": "8C_i1H-xQL3w",
        "colab_type": "code",
        "outputId": "f84b820f-ca92-4943-bed4-d0785601259c",
        "colab": {
          "base_uri": "https://localhost:8080/",
          "height": 34
        }
      },
      "source": [
        "# 테스트 세트에 대한 정확도 구하기\n",
        "x_test_scaled = scaler.transform(x_test)\n",
        "a = sess.run(accuracy, feed_dict={X:x_test_scaled, Y:y_test})\n",
        "print(\"정확도 : \", str(a*100)[:5], \"%\", sep=\"\")"
      ],
      "execution_count": 0,
      "outputs": [
        {
          "output_type": "stream",
          "text": [
            "정확도 : 67.44%\n"
          ],
          "name": "stdout"
        }
      ]
    },
    {
      "cell_type": "code",
      "metadata": {
        "id": "le2IpBetVxYq",
        "colab_type": "code",
        "colab": {}
      },
      "source": [
        "# 임의의 샘플데이터 5개로 예측값 구해보기\n",
        "X_test_5 = np.array([[1.5,13.4,2.6,1.4,72.6,0.4,8.9,0.1,0.05], \n",
        "                     [2.4,20.4,5.6,0.4,50.6,0.1,10.9,0.5,0.1], \n",
        "                     [1.515,13.24,3.49,1.47,73.25,0.38,8.03,0.0,0.0], \n",
        "                     [1.5,10.04,3.76,1.28,80.64,0.11,17.95,0.0,0.25], \n",
        "                     [1.5,13.4,2.6,1.4,96.6,0.4,8.9,0.1,0.05]]) \n",
        "X_test_5_scaled = scaler.transform(X_test_5)"
      ],
      "execution_count": 0,
      "outputs": []
    },
    {
      "cell_type": "code",
      "metadata": {
        "id": "JJ3tLX9OssoR",
        "colab_type": "code",
        "outputId": "17f5483f-d8bc-4d34-df30-4603ee3823f9",
        "colab": {
          "base_uri": "https://localhost:8080/",
          "height": 34
        }
      },
      "source": [
        "print(sess.run(prediction, feed_dict={X:X_test_5_scaled}))"
      ],
      "execution_count": 0,
      "outputs": [
        {
          "output_type": "stream",
          "text": [
            "[4 5 1 3 5]\n"
          ],
          "name": "stdout"
        }
      ]
    },
    {
      "cell_type": "code",
      "metadata": {
        "id": "3ZouWe-yQFjA",
        "colab_type": "code",
        "outputId": "690ed2f4-78e1-4fdd-c475-905e05abe59f",
        "colab": {
          "base_uri": "https://localhost:8080/",
          "height": 87
        }
      },
      "source": [
        "try:\n",
        "  x_input = input(\"입력(Ri, Na, Mg, Al, Si, K, Ca, Ba, Fe): \")\n",
        "  if x_input == 'x':\n",
        "    raise NotImplementedError\n",
        "  x_input_strip =[ float(i.strip()) for i in x_input.split(\",\")]\n",
        "  print(\"Ri\\tNa\\tMg\\tAl\\tSi\\tK\\tCa\\tBa,\\tFe\")\n",
        "  for i in x_input_strip:\n",
        "    print(i,end=\"\\t\")\n",
        "  print()\n",
        "  x_input_test = np.array([x_input_strip]).astype('float32')\n",
        "\n",
        "  x_input_test_scaled = scaler.transform(x_input_test)\n",
        "\n",
        "  print(\"예상 결과 : \", (sess.run(prediction, feed_dict={X:x_input_test_scaled}))) \n",
        "  \n",
        "except ValueError:\n",
        "  print(\"입력을 다시 확인해주세요\")\n",
        "except NotImplementedError:\n",
        "  print(\"종료\")"
      ],
      "execution_count": 0,
      "outputs": [
        {
          "output_type": "stream",
          "text": [
            "입력(Ri, Na, Mg, Al, Si, K, Ca, Ba, Fe): 1.5,13.4,2.6,1.4,96.6,0.4,8.9,0.1,0.05\n",
            "Ri\tNa\tMg\tAl\tSi\tK\tCa\tBa,\tFe\n",
            "1.5\t13.4\t2.6\t1.4\t96.6\t0.4\t8.9\t0.1\t0.05\t\n",
            "예상 결과 :  [5]\n"
          ],
          "name": "stdout"
        }
      ]
    },
    {
      "cell_type": "code",
      "metadata": {
        "id": "Idmngbn5BbRv",
        "colab_type": "code",
        "colab": {}
      },
      "source": [
        "result_df = pd.DataFrame(X_test_5, columns=['Ri', 'Na', 'Mg', 'Al', 'Si', 'K', 'Ca', 'Ba', 'Fe'])"
      ],
      "execution_count": 0,
      "outputs": []
    },
    {
      "cell_type": "code",
      "metadata": {
        "id": "CIZsGePeBolu",
        "colab_type": "code",
        "outputId": "16634ff5-b710-4ca7-d05d-51eda934708a",
        "colab": {
          "base_uri": "https://localhost:8080/",
          "height": 197
        }
      },
      "source": [
        "result_df"
      ],
      "execution_count": 0,
      "outputs": [
        {
          "output_type": "execute_result",
          "data": {
            "text/html": [
              "<div>\n",
              "<style scoped>\n",
              "    .dataframe tbody tr th:only-of-type {\n",
              "        vertical-align: middle;\n",
              "    }\n",
              "\n",
              "    .dataframe tbody tr th {\n",
              "        vertical-align: top;\n",
              "    }\n",
              "\n",
              "    .dataframe thead th {\n",
              "        text-align: right;\n",
              "    }\n",
              "</style>\n",
              "<table border=\"1\" class=\"dataframe\">\n",
              "  <thead>\n",
              "    <tr style=\"text-align: right;\">\n",
              "      <th></th>\n",
              "      <th>Ri</th>\n",
              "      <th>Na</th>\n",
              "      <th>Mg</th>\n",
              "      <th>Al</th>\n",
              "      <th>Si</th>\n",
              "      <th>K</th>\n",
              "      <th>Ca</th>\n",
              "      <th>Ba</th>\n",
              "      <th>Fe</th>\n",
              "    </tr>\n",
              "  </thead>\n",
              "  <tbody>\n",
              "    <tr>\n",
              "      <th>0</th>\n",
              "      <td>1.500</td>\n",
              "      <td>13.40</td>\n",
              "      <td>2.60</td>\n",
              "      <td>1.40</td>\n",
              "      <td>72.60</td>\n",
              "      <td>0.40</td>\n",
              "      <td>8.90</td>\n",
              "      <td>0.1</td>\n",
              "      <td>0.05</td>\n",
              "    </tr>\n",
              "    <tr>\n",
              "      <th>1</th>\n",
              "      <td>2.400</td>\n",
              "      <td>20.40</td>\n",
              "      <td>5.60</td>\n",
              "      <td>0.40</td>\n",
              "      <td>50.60</td>\n",
              "      <td>0.10</td>\n",
              "      <td>10.90</td>\n",
              "      <td>0.5</td>\n",
              "      <td>0.10</td>\n",
              "    </tr>\n",
              "    <tr>\n",
              "      <th>2</th>\n",
              "      <td>1.515</td>\n",
              "      <td>13.24</td>\n",
              "      <td>3.49</td>\n",
              "      <td>1.47</td>\n",
              "      <td>73.25</td>\n",
              "      <td>0.38</td>\n",
              "      <td>8.03</td>\n",
              "      <td>0.0</td>\n",
              "      <td>0.00</td>\n",
              "    </tr>\n",
              "    <tr>\n",
              "      <th>3</th>\n",
              "      <td>1.500</td>\n",
              "      <td>10.04</td>\n",
              "      <td>3.76</td>\n",
              "      <td>1.28</td>\n",
              "      <td>80.64</td>\n",
              "      <td>0.11</td>\n",
              "      <td>17.95</td>\n",
              "      <td>0.0</td>\n",
              "      <td>0.25</td>\n",
              "    </tr>\n",
              "    <tr>\n",
              "      <th>4</th>\n",
              "      <td>1.500</td>\n",
              "      <td>13.40</td>\n",
              "      <td>2.60</td>\n",
              "      <td>1.40</td>\n",
              "      <td>96.60</td>\n",
              "      <td>0.40</td>\n",
              "      <td>8.90</td>\n",
              "      <td>0.1</td>\n",
              "      <td>0.05</td>\n",
              "    </tr>\n",
              "  </tbody>\n",
              "</table>\n",
              "</div>"
            ],
            "text/plain": [
              "      Ri     Na    Mg    Al     Si     K     Ca   Ba    Fe\n",
              "0  1.500  13.40  2.60  1.40  72.60  0.40   8.90  0.1  0.05\n",
              "1  2.400  20.40  5.60  0.40  50.60  0.10  10.90  0.5  0.10\n",
              "2  1.515  13.24  3.49  1.47  73.25  0.38   8.03  0.0  0.00\n",
              "3  1.500  10.04  3.76  1.28  80.64  0.11  17.95  0.0  0.25\n",
              "4  1.500  13.40  2.60  1.40  96.60  0.40   8.90  0.1  0.05"
            ]
          },
          "metadata": {
            "tags": []
          },
          "execution_count": 44
        }
      ]
    },
    {
      "cell_type": "code",
      "metadata": {
        "id": "AoFIdkYPCNHT",
        "colab_type": "code",
        "colab": {}
      },
      "source": [
        "result_df['예측 Type'] = sess.run(prediction, feed_dict={X:X_test_5_scaled})"
      ],
      "execution_count": 0,
      "outputs": []
    },
    {
      "cell_type": "code",
      "metadata": {
        "id": "odX-YWHKCVRL",
        "colab_type": "code",
        "colab": {}
      },
      "source": [
        "result_df['예측 Type'] = labelEncoder.inverse_transform(result_df['예측 Type']) # 역 레이블 인코딩(정수->문자열 레이블)"
      ],
      "execution_count": 0,
      "outputs": []
    },
    {
      "cell_type": "code",
      "metadata": {
        "id": "W7YxCgiU2E1B",
        "colab_type": "code",
        "outputId": "17449b47-6c3c-4d55-8294-8840d850df87",
        "colab": {
          "base_uri": "https://localhost:8080/",
          "height": 197
        }
      },
      "source": [
        "result_df"
      ],
      "execution_count": 0,
      "outputs": [
        {
          "output_type": "execute_result",
          "data": {
            "text/html": [
              "<div>\n",
              "<style scoped>\n",
              "    .dataframe tbody tr th:only-of-type {\n",
              "        vertical-align: middle;\n",
              "    }\n",
              "\n",
              "    .dataframe tbody tr th {\n",
              "        vertical-align: top;\n",
              "    }\n",
              "\n",
              "    .dataframe thead th {\n",
              "        text-align: right;\n",
              "    }\n",
              "</style>\n",
              "<table border=\"1\" class=\"dataframe\">\n",
              "  <thead>\n",
              "    <tr style=\"text-align: right;\">\n",
              "      <th></th>\n",
              "      <th>Ri</th>\n",
              "      <th>Na</th>\n",
              "      <th>Mg</th>\n",
              "      <th>Al</th>\n",
              "      <th>Si</th>\n",
              "      <th>K</th>\n",
              "      <th>Ca</th>\n",
              "      <th>Ba</th>\n",
              "      <th>Fe</th>\n",
              "      <th>예측 결과</th>\n",
              "    </tr>\n",
              "  </thead>\n",
              "  <tbody>\n",
              "    <tr>\n",
              "      <th>0</th>\n",
              "      <td>1.500</td>\n",
              "      <td>13.40</td>\n",
              "      <td>2.60</td>\n",
              "      <td>1.40</td>\n",
              "      <td>72.60</td>\n",
              "      <td>0.40</td>\n",
              "      <td>8.90</td>\n",
              "      <td>0.1</td>\n",
              "      <td>0.05</td>\n",
              "      <td>6</td>\n",
              "    </tr>\n",
              "    <tr>\n",
              "      <th>1</th>\n",
              "      <td>2.400</td>\n",
              "      <td>20.40</td>\n",
              "      <td>5.60</td>\n",
              "      <td>0.40</td>\n",
              "      <td>50.60</td>\n",
              "      <td>0.10</td>\n",
              "      <td>10.90</td>\n",
              "      <td>0.5</td>\n",
              "      <td>0.10</td>\n",
              "      <td>7</td>\n",
              "    </tr>\n",
              "    <tr>\n",
              "      <th>2</th>\n",
              "      <td>1.515</td>\n",
              "      <td>13.24</td>\n",
              "      <td>3.49</td>\n",
              "      <td>1.47</td>\n",
              "      <td>73.25</td>\n",
              "      <td>0.38</td>\n",
              "      <td>8.03</td>\n",
              "      <td>0.0</td>\n",
              "      <td>0.00</td>\n",
              "      <td>2</td>\n",
              "    </tr>\n",
              "    <tr>\n",
              "      <th>3</th>\n",
              "      <td>1.500</td>\n",
              "      <td>10.04</td>\n",
              "      <td>3.76</td>\n",
              "      <td>1.28</td>\n",
              "      <td>80.64</td>\n",
              "      <td>0.11</td>\n",
              "      <td>17.95</td>\n",
              "      <td>0.0</td>\n",
              "      <td>0.25</td>\n",
              "      <td>5</td>\n",
              "    </tr>\n",
              "    <tr>\n",
              "      <th>4</th>\n",
              "      <td>1.500</td>\n",
              "      <td>13.40</td>\n",
              "      <td>2.60</td>\n",
              "      <td>1.40</td>\n",
              "      <td>96.60</td>\n",
              "      <td>0.40</td>\n",
              "      <td>8.90</td>\n",
              "      <td>0.1</td>\n",
              "      <td>0.05</td>\n",
              "      <td>7</td>\n",
              "    </tr>\n",
              "  </tbody>\n",
              "</table>\n",
              "</div>"
            ],
            "text/plain": [
              "      Ri     Na    Mg    Al     Si     K     Ca   Ba    Fe  예측 결과\n",
              "0  1.500  13.40  2.60  1.40  72.60  0.40   8.90  0.1  0.05      6\n",
              "1  2.400  20.40  5.60  0.40  50.60  0.10  10.90  0.5  0.10      7\n",
              "2  1.515  13.24  3.49  1.47  73.25  0.38   8.03  0.0  0.00      2\n",
              "3  1.500  10.04  3.76  1.28  80.64  0.11  17.95  0.0  0.25      5\n",
              "4  1.500  13.40  2.60  1.40  96.60  0.40   8.90  0.1  0.05      7"
            ]
          },
          "metadata": {
            "tags": []
          },
          "execution_count": 47
        }
      ]
    },
    {
      "cell_type": "code",
      "metadata": {
        "id": "hoQyQFRg2QC2",
        "colab_type": "code",
        "colab": {}
      },
      "source": [
        "sess.close()"
      ],
      "execution_count": 0,
      "outputs": []
    }
  ]
}